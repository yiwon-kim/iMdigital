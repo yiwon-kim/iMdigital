{
 "cells": [
  {
   "cell_type": "markdown",
   "id": "3032a2a8-5f0a-4a63-8296-296fc32f8e68",
   "metadata": {},
   "source": [
    "### 문자열 포매팅\n"
   ]
  },
  {
   "cell_type": "code",
   "execution_count": 2,
   "id": "05817853-4efa-4e66-9805-0e82d390682b",
   "metadata": {},
   "outputs": [
    {
     "name": "stdout",
     "output_type": "stream",
     "text": [
      "<class 'str'> 아년ㅇ하세요 1\n"
     ]
    }
   ],
   "source": [
    "x = 1\n",
    "a = f'아년ㅇ하세요 {x}'\n",
    "print(type(a), a)"
   ]
  },
  {
   "cell_type": "code",
   "execution_count": 3,
   "id": "cb5178be-e4ad-4397-b5a1-7cbab4fcc320",
   "metadata": {},
   "outputs": [
    {
     "name": "stdout",
     "output_type": "stream",
     "text": [
      "5\n"
     ]
    }
   ],
   "source": [
    "a = \"안녕하세요\"\n",
    "print(len(a))"
   ]
  },
  {
   "cell_type": "code",
   "execution_count": 4,
   "id": "8b640196-ef1c-4300-a84b-2bffbcac4ef2",
   "metadata": {},
   "outputs": [
    {
     "data": {
      "text/plain": [
       "'요'"
      ]
     },
     "execution_count": 4,
     "metadata": {},
     "output_type": "execute_result"
    }
   ],
   "source": [
    "a[len(a)-1]"
   ]
  },
  {
   "cell_type": "code",
   "execution_count": 11,
   "id": "095e33f1-d4a3-445a-8d8a-ae5f7615b135",
   "metadata": {},
   "outputs": [
    {
     "name": "stdout",
     "output_type": "stream",
     "text": [
      "01234\n",
      "0246\n"
     ]
    }
   ],
   "source": [
    "a = '0123456789'\n",
    "print(a[0:5])\n",
    "print(a[:8:2])"
   ]
  },
  {
   "cell_type": "code",
   "execution_count": 14,
   "id": "cd55bcff-e2d2-4328-b83c-61f1e7324f46",
   "metadata": {},
   "outputs": [
    {
     "data": {
      "text/plain": [
       "'9123456789'"
      ]
     },
     "execution_count": 14,
     "metadata": {},
     "output_type": "execute_result"
    }
   ],
   "source": [
    "'9' + a[1:]"
   ]
  },
  {
   "cell_type": "code",
   "execution_count": 15,
   "id": "30ebec3a-c5ed-4ea5-841a-4a3ba4040f9e",
   "metadata": {},
   "outputs": [
    {
     "data": {
      "text/plain": [
       "'9123456789'"
      ]
     },
     "execution_count": 15,
     "metadata": {},
     "output_type": "execute_result"
    }
   ],
   "source": [
    "b = a.replace('0', '9')\n",
    "b"
   ]
  },
  {
   "cell_type": "code",
   "execution_count": 16,
   "id": "d5cac671-9d5b-474d-b6df-47fb31e7189e",
   "metadata": {},
   "outputs": [
    {
     "data": {
      "text/plain": [
       "'0123456780'"
      ]
     },
     "execution_count": 16,
     "metadata": {},
     "output_type": "execute_result"
    }
   ],
   "source": [
    "b.replace('9', '0')"
   ]
  },
  {
   "cell_type": "code",
   "execution_count": 21,
   "id": "44ec205b-dc8a-489c-9428-a4f1d4beaf0d",
   "metadata": {},
   "outputs": [
    {
     "name": "stdout",
     "output_type": "stream",
     "text": [
      "python PYTHON\n"
     ]
    },
    {
     "ename": "NameError",
     "evalue": "name 'upper' is not defined",
     "output_type": "error",
     "traceback": [
      "\u001b[1;31m---------------------------------------------------------------------------\u001b[0m",
      "\u001b[1;31mNameError\u001b[0m                                 Traceback (most recent call last)",
      "Cell \u001b[1;32mIn[21], line 3\u001b[0m\n\u001b[0;32m      1\u001b[0m a \u001b[38;5;241m=\u001b[39m \u001b[38;5;124m'\u001b[39m\u001b[38;5;124mpyThon\u001b[39m\u001b[38;5;124m'\u001b[39m\n\u001b[0;32m      2\u001b[0m \u001b[38;5;28mprint\u001b[39m(a\u001b[38;5;241m.\u001b[39mlower(), a\u001b[38;5;241m.\u001b[39mupper())\n\u001b[1;32m----> 3\u001b[0m \u001b[43mupper\u001b[49m(a)\n",
      "\u001b[1;31mNameError\u001b[0m: name 'upper' is not defined"
     ]
    }
   ],
   "source": [
    "a = 'pyThon'\n",
    "print(a.lower(), a.upper())"
   ]
  },
  {
   "cell_type": "code",
   "execution_count": 22,
   "id": "248de94a-8262-4f96-9173-c9faaf346edd",
   "metadata": {},
   "outputs": [
    {
     "data": {
      "text/plain": [
       "'Python'"
      ]
     },
     "execution_count": 22,
     "metadata": {},
     "output_type": "execute_result"
    }
   ],
   "source": [
    "a.capitalize()"
   ]
  },
  {
   "cell_type": "code",
   "execution_count": 31,
   "id": "b9512544-12f3-4695-8684-d735f2f5f35b",
   "metadata": {},
   "outputs": [
    {
     "data": {
      "text/plain": [
       "list"
      ]
     },
     "execution_count": 31,
     "metadata": {},
     "output_type": "execute_result"
    }
   ],
   "source": [
    "b = \"hello, lasoso\"\n",
    "b.title(), \n",
    "c = b.split(sep=\" \")\n",
    "type(c)"
   ]
  },
  {
   "cell_type": "code",
   "execution_count": 41,
   "id": "f333a5dc-f8d5-4589-a665-0a6a7b54077a",
   "metadata": {},
   "outputs": [
    {
     "data": {
      "text/plain": [
       "'hello,lasoso'"
      ]
     },
     "execution_count": 41,
     "metadata": {},
     "output_type": "execute_result"
    }
   ],
   "source": [
    "text = \"\".join(c) \n",
    "# \"구분자\".join(list) 넣으면 됨 구분자기준으로 요소를 합쳐줌\n",
    "text"
   ]
  },
  {
   "cell_type": "markdown",
   "id": "a5fbbfd6-d561-49c3-bea9-94559bce16f2",
   "metadata": {},
   "source": [
    "### 리스트, 튜플, 문자열 등이 Sequence 클래스\n",
    "\n",
    "- Sequence의 특징\n",
    " 1. 순서가 있음: 요소가 특정한 순서로 배치됩니다.\n",
    " 2. 인덱싱 가능: 각 요소에 대해 인덱스를 사용하여 접근할 수 있습니다.\n",
    " 3. 슬라이싱 가능: 리스트나 문자열처럼 슬라이스(slicing)를 통해 부분집합을 만들 수 있습니다.\n",
    " 4.  길이 확인 가능: len() 함수를 사용하여 요소의 개수를 알 수 있습니다."
   ]
  },
  {
   "cell_type": "code",
   "execution_count": 49,
   "id": "71276a0f-e001-4832-8f9e-31095bacc28f",
   "metadata": {},
   "outputs": [
    {
     "name": "stdout",
     "output_type": "stream",
     "text": [
      "False\n",
      "False\n",
      "False\n"
     ]
    }
   ],
   "source": [
    "from collections.abc import Sequence\n",
    "import pandas as pd\n",
    "\n",
    "\n",
    "my_num = 100 #정수\n",
    "my_list = [1, 2, 3] # 리스트\n",
    "my_string = \"hello\" # 문자열\n",
    "\n",
    "is_num = isinstance(my_num, tuple)\n",
    "is_list = isinstance(my_list, tuple)\n",
    "is_string = isinstance(my_string, tuple)\n",
    "\n",
    "print(is_num)\n",
    "print(is_list)\n",
    "print(is_string)"
   ]
  },
  {
   "cell_type": "code",
   "execution_count": 50,
   "id": "57fca905-f8e8-4795-a2cc-fb001cbe1408",
   "metadata": {},
   "outputs": [
    {
     "name": "stdout",
     "output_type": "stream",
     "text": [
      "1\n"
     ]
    }
   ],
   "source": [
    "a = [0, 1, 2, 3, 4, 5, 6, 7, 8]\n",
    "print(a[1])"
   ]
  },
  {
   "cell_type": "code",
   "execution_count": 52,
   "id": "a4ba8d67-d1d5-4566-871c-c268628cb3be",
   "metadata": {},
   "outputs": [
    {
     "data": {
      "text/plain": [
       "'y'"
      ]
     },
     "execution_count": 52,
     "metadata": {},
     "output_type": "execute_result"
    }
   ],
   "source": [
    "a = [0, 1, 2, [\"pyy\", \"hell\"], 3,4]\n",
    "a[3][0][1]"
   ]
  },
  {
   "cell_type": "code",
   "execution_count": 55,
   "id": "e14200b0-b094-42b2-bd59-6f027ed68cbb",
   "metadata": {},
   "outputs": [
    {
     "data": {
      "text/plain": [
       "[0, 1, 2, ['pyy', 'hell'], 3, 4, ['s', 'aa'], ['s', 'aa'], ['s', 'aa']]"
      ]
     },
     "execution_count": 55,
     "metadata": {},
     "output_type": "execute_result"
    }
   ],
   "source": [
    "a. append([\"s\", \"aa\"]) \n",
    "a"
   ]
  },
  {
   "cell_type": "code",
   "execution_count": 56,
   "id": "e364d2be-1379-4d07-b803-bcf18f6fe5c9",
   "metadata": {},
   "outputs": [],
   "source": [
    "a = [100, 200]\n",
    "a.append([3,4]) # (입력된 형태로 집어넣기)"
   ]
  },
  {
   "cell_type": "code",
   "execution_count": 66,
   "id": "1691ceb6-c714-45fc-b23e-0964f6687a4d",
   "metadata": {},
   "outputs": [
    {
     "data": {
      "text/plain": [
       "[250, 200, 10, 20, 30]"
      ]
     },
     "execution_count": 66,
     "metadata": {},
     "output_type": "execute_result"
    }
   ],
   "source": [
    "a.extend([10, 20, 30]) # list로 한번에 집어넣기\n",
    "a"
   ]
  },
  {
   "cell_type": "code",
   "execution_count": 68,
   "id": "e2a35ba4-6a2a-4294-b1e3-835daa8bf34a",
   "metadata": {},
   "outputs": [
    {
     "data": {
      "text/plain": [
       "[250, 200, 10, 20, 30, (3, 4, 5), [3, 4, 5]]"
      ]
     },
     "execution_count": 68,
     "metadata": {},
     "output_type": "execute_result"
    }
   ],
   "source": [
    "a.insert(5,(3,4,5)) # 한번에 한개의 값만 입력 가능\n",
    "a"
   ]
  },
  {
   "cell_type": "code",
   "execution_count": 88,
   "id": "b4c82e85-b513-4af5-9ee5-a72f2512af4a",
   "metadata": {},
   "outputs": [
    {
     "name": "stdout",
     "output_type": "stream",
     "text": [
      "[1, 2, 5, 6, 3, 4]\n"
     ]
    }
   ],
   "source": [
    "a = [1, 2, 3, 4]\n",
    "value_to_insert = [5, 6]\n",
    "\n",
    "# a[:4] = value_to_insert # 한개만 넣으면 4번까지 값을 바꾼다\n",
    "a[2:2] = value_to_insert # 전후로 지정하면 4번에 값 추가\n",
    "print(a)\n",
    "\n"
   ]
  },
  {
   "cell_type": "code",
   "execution_count": 78,
   "id": "9fca8f53-9d73-404d-9cb5-3a8267f1d36c",
   "metadata": {},
   "outputs": [
    {
     "data": {
      "text/plain": [
       "[1, 2, 3, 4]"
      ]
     },
     "execution_count": 78,
     "metadata": {},
     "output_type": "execute_result"
    }
   ],
   "source": [
    "a"
   ]
  },
  {
   "cell_type": "code",
   "execution_count": 58,
   "id": "c46f6f0c-3732-4fe8-b371-8a3ec8397805",
   "metadata": {},
   "outputs": [
    {
     "data": {
      "text/plain": [
       "[100, 200]"
      ]
     },
     "execution_count": 58,
     "metadata": {},
     "output_type": "execute_result"
    }
   ],
   "source": [
    "del a[2] # 인덱스로 집기기\n",
    "a"
   ]
  },
  {
   "cell_type": "code",
   "execution_count": 60,
   "id": "5d2c85f8-f274-4954-9a12-78394538fafc",
   "metadata": {},
   "outputs": [
    {
     "data": {
      "text/plain": [
       "[200]"
      ]
     },
     "execution_count": 60,
     "metadata": {},
     "output_type": "execute_result"
    }
   ],
   "source": [
    "a.remove(100) # 값으로 지기기\n",
    "a"
   ]
  },
  {
   "cell_type": "code",
   "execution_count": 63,
   "id": "96ec0b6f-2d98-4f94-ae10-efdbc13826c3",
   "metadata": {},
   "outputs": [
    {
     "ename": "IndexError",
     "evalue": "list assignment index out of range",
     "output_type": "error",
     "traceback": [
      "\u001b[1;31m---------------------------------------------------------------------------\u001b[0m",
      "\u001b[1;31mIndexError\u001b[0m                                Traceback (most recent call last)",
      "Cell \u001b[1;32mIn[63], line 1\u001b[0m\n\u001b[1;32m----> 1\u001b[0m \u001b[43ma\u001b[49m\u001b[43m[\u001b[49m\u001b[38;5;241;43m1\u001b[39;49m\u001b[43m]\u001b[49m \u001b[38;5;241m=\u001b[39m \u001b[38;5;241m300\u001b[39m\n\u001b[0;32m      2\u001b[0m a\n",
      "\u001b[1;31mIndexError\u001b[0m: list assignment index out of range"
     ]
    }
   ],
   "source": [
    "a.append(\n",
    "a"
   ]
  },
  {
   "cell_type": "code",
   "execution_count": 90,
   "id": "906e39e3-782c-4f66-a939-92f5f7446d2b",
   "metadata": {},
   "outputs": [
    {
     "data": {
      "text/plain": [
       "{'key1': 'dfdf', 'key2': 'aaaa'}"
      ]
     },
     "execution_count": 90,
     "metadata": {},
     "output_type": "execute_result"
    }
   ],
   "source": [
    "my_dic = {\n",
    "    'key1' : 'dfdf',\n",
    "    'key2' : 'aaaa'\n",
    "}\n",
    "my_dic"
   ]
  },
  {
   "cell_type": "code",
   "execution_count": 91,
   "id": "890c1a6f-231a-415d-8909-66308e0b6d30",
   "metadata": {},
   "outputs": [
    {
     "data": {
      "text/plain": [
       "{'name': 'kim',\n",
       " 'age': 23,\n",
       " '목록': [0, 2, 3, ['a', 'b', 'c'], 2],\n",
       " 'rm': {'key': 'vale'}}"
      ]
     },
     "execution_count": 91,
     "metadata": {},
     "output_type": "execute_result"
    }
   ],
   "source": [
    "my_dic = {\n",
    "    'name' : 'kim',\n",
    "    'age' : 23,\n",
    "    '목록' : [0, 2, 3, ['a', 'b', 'c'], 2],\n",
    "    'rm' : {'key' : 'vale'}\n",
    "}\n",
    "my_dic"
   ]
  },
  {
   "cell_type": "code",
   "execution_count": 96,
   "id": "e2c8d41c-8ab3-404a-b875-775cbdde2847",
   "metadata": {},
   "outputs": [
    {
     "data": {
      "text/plain": [
       "'a'"
      ]
     },
     "execution_count": 96,
     "metadata": {},
     "output_type": "execute_result"
    }
   ],
   "source": [
    "my_dic['목록'][3][0]"
   ]
  },
  {
   "cell_type": "code",
   "execution_count": 97,
   "id": "1bb76dfe-302d-4d9a-ba51-c04cfacb9057",
   "metadata": {},
   "outputs": [
    {
     "data": {
      "text/plain": [
       "{'name': 'kim',\n",
       " 'age': 23,\n",
       " '목록': [0, 2, 3, ['a', 'b', 'c'], 2],\n",
       " 'rm': {'key': 'vale'},\n",
       " '아무거나': ['ㅁ', 'ㅇ', 'ㅅ']}"
      ]
     },
     "execution_count": 97,
     "metadata": {},
     "output_type": "execute_result"
    }
   ],
   "source": [
    "my_dic['아무거나'] = ['ㅁ', 'ㅇ', 'ㅅ']\n",
    "my_dic"
   ]
  },
  {
   "cell_type": "code",
   "execution_count": 98,
   "id": "3d033f36-93c3-41b4-a905-385083784daf",
   "metadata": {},
   "outputs": [
    {
     "data": {
      "text/plain": [
       "{'name': 'kim',\n",
       " 'age': 23,\n",
       " '목록': [0, 2, 3, ['a', 'b', 'c'], 2],\n",
       " 'rm': {'key': 'vale'},\n",
       " '아무거나': ['ㅁ', 'ㅇ', 'ㅂ']}"
      ]
     },
     "execution_count": 98,
     "metadata": {},
     "output_type": "execute_result"
    }
   ],
   "source": [
    "my_dic['아무거나'][2] = 'ㅂ'\n",
    "my_dic"
   ]
  },
  {
   "cell_type": "code",
   "execution_count": 99,
   "id": "13a945bf-6130-45d0-aade-b59ab2392c02",
   "metadata": {},
   "outputs": [
    {
     "data": {
      "text/plain": [
       "dict_keys(['name', 'age', '목록', 'rm', '아무거나'])"
      ]
     },
     "execution_count": 99,
     "metadata": {},
     "output_type": "execute_result"
    }
   ],
   "source": [
    "my_dic.keys()"
   ]
  },
  {
   "cell_type": "code",
   "execution_count": 100,
   "id": "a07172e8-6505-49ce-b2d7-0ef8117b848c",
   "metadata": {},
   "outputs": [
    {
     "data": {
      "text/plain": [
       "dict_values(['kim', 23, [0, 2, 3, ['a', 'b', 'c'], 2], {'key': 'vale'}, ['ㅁ', 'ㅇ', 'ㅂ']])"
      ]
     },
     "execution_count": 100,
     "metadata": {},
     "output_type": "execute_result"
    }
   ],
   "source": [
    "my_dic.values()"
   ]
  },
  {
   "cell_type": "code",
   "execution_count": 101,
   "id": "4343a17f-764d-4d1d-9939-e397e44b18a8",
   "metadata": {},
   "outputs": [
    {
     "data": {
      "text/plain": [
       "dict_items([('name', 'kim'), ('age', 23), ('목록', [0, 2, 3, ['a', 'b', 'c'], 2]), ('rm', {'key': 'vale'}), ('아무거나', ['ㅁ', 'ㅇ', 'ㅂ'])])"
      ]
     },
     "execution_count": 101,
     "metadata": {},
     "output_type": "execute_result"
    }
   ],
   "source": [
    "my_dic.items()"
   ]
  },
  {
   "cell_type": "code",
   "execution_count": 106,
   "id": "5303a521-50bd-4ae6-9e31-3b511f7fef13",
   "metadata": {},
   "outputs": [
    {
     "data": {
      "text/plain": [
       "(['name', 'age', '목록', 'rm', '아무거나'],\n",
       " ['kim', 23, [0, 2, 3, ['a', 'b', 'c'], 2], {'key': 'vale'}, ['ㅁ', 'ㅇ', 'ㅂ']])"
      ]
     },
     "execution_count": 106,
     "metadata": {},
     "output_type": "execute_result"
    }
   ],
   "source": [
    "# my_dic.keys(3) # 딕셔너리는 순서가 없어 인덱싱이 안된다, 튜플과 동일\n",
    "\n",
    "key_list = list(my_dic.keys())\n",
    "val_list = list(my_dic.values())\n",
    "key_list, val_list"
   ]
  },
  {
   "cell_type": "code",
   "execution_count": 107,
   "id": "1d0bfe4e-793c-43a2-b8e6-768a54780a4f",
   "metadata": {},
   "outputs": [
    {
     "data": {
      "text/plain": [
       "'목록'"
      ]
     },
     "execution_count": 107,
     "metadata": {},
     "output_type": "execute_result"
    }
   ],
   "source": [
    "key_list[2]"
   ]
  },
  {
   "cell_type": "code",
   "execution_count": null,
   "id": "d716b33e-ea25-461a-ae7d-af2b78b520f1",
   "metadata": {},
   "outputs": [],
   "source": []
  }
 ],
 "metadata": {
  "kernelspec": {
   "display_name": "Python 3 (ipykernel)",
   "language": "python",
   "name": "python3"
  },
  "language_info": {
   "codemirror_mode": {
    "name": "ipython",
    "version": 3
   },
   "file_extension": ".py",
   "mimetype": "text/x-python",
   "name": "python",
   "nbconvert_exporter": "python",
   "pygments_lexer": "ipython3",
   "version": "3.12.6"
  }
 },
 "nbformat": 4,
 "nbformat_minor": 5
}
