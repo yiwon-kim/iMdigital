{
 "cells": [
  {
   "cell_type": "code",
   "execution_count": 2,
   "id": "cbeea535-cac6-4a47-830b-ee36b0f7ff8d",
   "metadata": {},
   "outputs": [],
   "source": [
    "#pip list"
   ]
  },
  {
   "cell_type": "code",
   "execution_count": 4,
   "id": "bb6a2931-051b-424e-bcbe-577b43de9baa",
   "metadata": {},
   "outputs": [],
   "source": [
    "import pandas as pd\n",
    "import numpy as np"
   ]
  },
  {
   "cell_type": "code",
   "execution_count": 6,
   "id": "b3ecfb74-b342-4975-9b9e-b2ae0f518b23",
   "metadata": {},
   "outputs": [
    {
     "data": {
      "text/html": [
       "<div>\n",
       "<style scoped>\n",
       "    .dataframe tbody tr th:only-of-type {\n",
       "        vertical-align: middle;\n",
       "    }\n",
       "\n",
       "    .dataframe tbody tr th {\n",
       "        vertical-align: top;\n",
       "    }\n",
       "\n",
       "    .dataframe thead th {\n",
       "        text-align: right;\n",
       "    }\n",
       "</style>\n",
       "<table border=\"1\" class=\"dataframe\">\n",
       "  <thead>\n",
       "    <tr style=\"text-align: right;\">\n",
       "      <th></th>\n",
       "      <th>class</th>\n",
       "      <th>order</th>\n",
       "      <th>max_speed</th>\n",
       "    </tr>\n",
       "  </thead>\n",
       "  <tbody>\n",
       "    <tr>\n",
       "      <th>falcon</th>\n",
       "      <td>bird</td>\n",
       "      <td>Falconiformes</td>\n",
       "      <td>389.0</td>\n",
       "    </tr>\n",
       "    <tr>\n",
       "      <th>parrot</th>\n",
       "      <td>bird</td>\n",
       "      <td>Psittaciformes</td>\n",
       "      <td>24.0</td>\n",
       "    </tr>\n",
       "    <tr>\n",
       "      <th>lion</th>\n",
       "      <td>mammal</td>\n",
       "      <td>Carnivora</td>\n",
       "      <td>80.2</td>\n",
       "    </tr>\n",
       "    <tr>\n",
       "      <th>monkey</th>\n",
       "      <td>mammal</td>\n",
       "      <td>Primates</td>\n",
       "      <td>NaN</td>\n",
       "    </tr>\n",
       "    <tr>\n",
       "      <th>leopard</th>\n",
       "      <td>mammal</td>\n",
       "      <td>Carnivora</td>\n",
       "      <td>58.0</td>\n",
       "    </tr>\n",
       "  </tbody>\n",
       "</table>\n",
       "</div>"
      ],
      "text/plain": [
       "          class           order  max_speed\n",
       "falcon     bird   Falconiformes      389.0\n",
       "parrot     bird  Psittaciformes       24.0\n",
       "lion     mammal       Carnivora       80.2\n",
       "monkey   mammal        Primates        NaN\n",
       "leopard  mammal       Carnivora       58.0"
      ]
     },
     "execution_count": 6,
     "metadata": {},
     "output_type": "execute_result"
    }
   ],
   "source": [
    "speeds = pd.DataFrame(\n",
    "    [\n",
    "        (\"bird\", \"Falconiformes\", 389.0),\n",
    "        (\"bird\", \"Psittaciformes\", 24.0),\n",
    "        (\"mammal\", \"Carnivora\", 80.2),\n",
    "        (\"mammal\", \"Primates\", np.nan),\n",
    "        (\"mammal\", \"Carnivora\", 58),\n",
    "    ],\n",
    "    index=[\"falcon\", \"parrot\", \"lion\", \"monkey\", \"leopard\"],\n",
    "    columns=(\"class\", \"order\", \"max_speed\"),\n",
    ")\n",
    "speeds"
   ]
  },
  {
   "cell_type": "code",
   "execution_count": null,
   "id": "0991030f-1b01-4966-a29a-6482c143ba47",
   "metadata": {},
   "outputs": [],
   "source": [
    "grouped = speeds.groupby(\"class\")['max_speed'].mean()\n",
    "grouped"
   ]
  },
  {
   "cell_type": "code",
   "execution_count": 23,
   "id": "518da33b-3aae-46d8-97e9-1f550dcbdc4b",
   "metadata": {},
   "outputs": [
    {
     "data": {
      "text/plain": [
       "class   order         \n",
       "bird    Falconiformes     389.0\n",
       "        Psittaciformes     24.0\n",
       "mammal  Carnivora          69.1\n",
       "        Primates            NaN\n",
       "Name: max_speed, dtype: float64"
      ]
     },
     "execution_count": 23,
     "metadata": {},
     "output_type": "execute_result"
    }
   ],
   "source": [
    "grouped = speeds.groupby([\"class\", \"order\"])['max_speed'].mean()\n",
    "grouped"
   ]
  },
  {
   "cell_type": "code",
   "execution_count": null,
   "id": "0690bfaa-006b-495d-b538-1e921e32765b",
   "metadata": {},
   "outputs": [],
   "source": [
    "grouped = spees"
   ]
  },
  {
   "cell_type": "code",
   "execution_count": 39,
   "id": "e889db51-46d5-4ab3-94ef-8786d2e4b015",
   "metadata": {},
   "outputs": [
    {
     "name": "stdout",
     "output_type": "stream",
     "text": [
      "Mean Speed by Animal Name Length:\n",
      "4     80.2\n",
      "6    161.0\n",
      "7     58.0\n",
      "Name: Speed, dtype: float64\n"
     ]
    }
   ],
   "source": [
    "data = {\n",
    "    'Animal': ['Falcon', 'Parrot', 'Lion', 'Monkey', 'Leopard'],\n",
    "    'Class': ['bird', 'bird', 'mammal', 'mammal', 'mammal'],\n",
    "    'Speed': [389.0, 24.0, 80.2, 70, 58.0]\n",
    "}\n",
    "\n",
    "df = pd.DataFrame(data)\n",
    "\n",
    "# 1. Using a function to group by the length of the Animal name\n",
    "\n",
    "grouped_by_function = df.groupby(lambda x: len(df['Animal'][x]))\n",
    "\n",
    "mean_speeds = grouped_by_function['Speed'].mean()\n",
    "print(\"Mean Speed by Animal Name Length:\")\n",
    "print(mean_speeds)"
   ]
  },
  {
   "cell_type": "code",
   "execution_count": 46,
   "id": "8e85d75d-0105-46c6-9729-eea6c10790f4",
   "metadata": {},
   "outputs": [
    {
     "name": "stdout",
     "output_type": "stream",
     "text": [
      "    Animal   Class  Speed\n",
      "0   Falcon    bird  389.0\n",
      "1   Parrot    bird   24.0\n",
      "2     Lion  mammal   80.2\n",
      "3   Monkey  mammal   70.0\n",
      "4  Leopard  mammal   58.0\n",
      "\n",
      "Grouped by list:\n",
      "fast    389.00\n",
      "slow     58.05\n",
      "Name: Speed, dtype: float64\n"
     ]
    }
   ],
   "source": [
    "data = {\n",
    "    'Animal': ['Falcon', 'Parrot', 'Lion', 'Monkey', 'Leopard'],\n",
    "    'Class': ['bird', 'bird', 'mammal', 'mammal', 'mammal'],\n",
    "    'Speed': [389.0, 24.0, 80.2, 70, 58.0]\n",
    "}\n",
    "\n",
    "df = pd.DataFrame(data)\n",
    "\n",
    "# 2. Using a list to specify groups\n",
    "group_list = ['fast', 'slow', 'slow', 'slow', 'slow']\n",
    "grouped_by_list = df.groupby(group_list)\n",
    "print(grouped_by_list.head())\n",
    "print(\"\\nGrouped by list:\")\n",
    "print(grouped_by_list['Speed'].mean())"
   ]
  },
  {
   "cell_type": "code",
   "execution_count": 48,
   "id": "42d8df61-872e-48e1-9634-cbfc2f0fe5cf",
   "metadata": {},
   "outputs": [
    {
     "name": "stdout",
     "output_type": "stream",
     "text": [
      "\n",
      "Grouped by dictionary:\n",
      "Class\n",
      "Aves        206.5\n",
      "Mammalia     69.4\n",
      "Name: Speed, dtype: float64\n"
     ]
    }
   ],
   "source": [
    "# 3. Using a dictionary for mapping\n",
    "group_mapping = {'bird': 'Aves', 'mammal': 'Mammalia'}\n",
    "grouped_by_dict = df.groupby(df['Class'].map(group_mapping))\n",
    "print(\"\\nGrouped by dictionary:\")\n",
    "print(grouped_by_dict['Speed'].mean())"
   ]
  },
  {
   "cell_type": "code",
   "execution_count": null,
   "id": "b16e7979-4d55-48d1-a7eb-912e4a181230",
   "metadata": {},
   "outputs": [],
   "source": [
    "# 4. Grouping by a specific column\n",
    "grouped_by_column = df.groupby('Class')"
   ]
  },
  {
   "cell_type": "code",
   "execution_count": 64,
   "id": "9bf13dc5-759a-4937-a9ad-ac33e9aafd91",
   "metadata": {},
   "outputs": [
    {
     "data": {
      "text/html": [
       "<div>\n",
       "<style scoped>\n",
       "    .dataframe tbody tr th:only-of-type {\n",
       "        vertical-align: middle;\n",
       "    }\n",
       "\n",
       "    .dataframe tbody tr th {\n",
       "        vertical-align: top;\n",
       "    }\n",
       "\n",
       "    .dataframe thead th {\n",
       "        text-align: right;\n",
       "    }\n",
       "</style>\n",
       "<table border=\"1\" class=\"dataframe\">\n",
       "  <thead>\n",
       "    <tr style=\"text-align: right;\">\n",
       "      <th></th>\n",
       "      <th>A</th>\n",
       "      <th>B</th>\n",
       "      <th>C</th>\n",
       "      <th>D</th>\n",
       "    </tr>\n",
       "  </thead>\n",
       "  <tbody>\n",
       "    <tr>\n",
       "      <th>0</th>\n",
       "      <td>foo</td>\n",
       "      <td>one</td>\n",
       "      <td>0.435362</td>\n",
       "      <td>-0.912094</td>\n",
       "    </tr>\n",
       "    <tr>\n",
       "      <th>1</th>\n",
       "      <td>bar</td>\n",
       "      <td>one</td>\n",
       "      <td>1.319616</td>\n",
       "      <td>-1.112638</td>\n",
       "    </tr>\n",
       "    <tr>\n",
       "      <th>2</th>\n",
       "      <td>foo</td>\n",
       "      <td>two</td>\n",
       "      <td>0.327350</td>\n",
       "      <td>0.854441</td>\n",
       "    </tr>\n",
       "    <tr>\n",
       "      <th>3</th>\n",
       "      <td>bar</td>\n",
       "      <td>three</td>\n",
       "      <td>1.253731</td>\n",
       "      <td>1.117452</td>\n",
       "    </tr>\n",
       "    <tr>\n",
       "      <th>4</th>\n",
       "      <td>foo</td>\n",
       "      <td>two</td>\n",
       "      <td>-1.145990</td>\n",
       "      <td>1.186173</td>\n",
       "    </tr>\n",
       "    <tr>\n",
       "      <th>5</th>\n",
       "      <td>bar</td>\n",
       "      <td>two</td>\n",
       "      <td>0.109629</td>\n",
       "      <td>0.172322</td>\n",
       "    </tr>\n",
       "    <tr>\n",
       "      <th>6</th>\n",
       "      <td>foo</td>\n",
       "      <td>one</td>\n",
       "      <td>-0.984486</td>\n",
       "      <td>0.702671</td>\n",
       "    </tr>\n",
       "    <tr>\n",
       "      <th>7</th>\n",
       "      <td>foo</td>\n",
       "      <td>three</td>\n",
       "      <td>-1.342703</td>\n",
       "      <td>-1.208923</td>\n",
       "    </tr>\n",
       "  </tbody>\n",
       "</table>\n",
       "</div>"
      ],
      "text/plain": [
       "     A      B         C         D\n",
       "0  foo    one  0.435362 -0.912094\n",
       "1  bar    one  1.319616 -1.112638\n",
       "2  foo    two  0.327350  0.854441\n",
       "3  bar  three  1.253731  1.117452\n",
       "4  foo    two -1.145990  1.186173\n",
       "5  bar    two  0.109629  0.172322\n",
       "6  foo    one -0.984486  0.702671\n",
       "7  foo  three -1.342703 -1.208923"
      ]
     },
     "execution_count": 64,
     "metadata": {},
     "output_type": "execute_result"
    }
   ],
   "source": [
    "df = pd.DataFrame(\n",
    "    {\n",
    "        \"A\": [\"foo\", \"bar\", \"foo\", \"bar\", \"foo\", \"bar\", \"foo\", \"foo\"],\n",
    "        \"B\": [\"one\", \"one\", \"two\", \"three\", \"two\", \"two\", \"one\", \"three\"],\n",
    "        \"C\": np.random.randn(8),\n",
    "        \"D\": np.random.randn(8),\n",
    "    }\n",
    ")\n",
    "\n",
    "df"
   ]
  },
  {
   "cell_type": "code",
   "execution_count": 56,
   "id": "ddd5cb0b-9cc0-4465-9961-abb88b5e44cb",
   "metadata": {},
   "outputs": [],
   "source": [
    "\n",
    "grouped = df.groupby([\"A\", \"B\"])"
   ]
  },
  {
   "cell_type": "code",
   "execution_count": 57,
   "id": "8019984a-dbe0-420f-855d-509b61645157",
   "metadata": {},
   "outputs": [
    {
     "data": {
      "text/plain": [
       "A    B    \n",
       "bar  one      1.178994\n",
       "     three    0.595682\n",
       "     two      0.284543\n",
       "foo  one     -0.554577\n",
       "     three   -1.272955\n",
       "     two     -0.698086\n",
       "Name: C, dtype: float64"
      ]
     },
     "execution_count": 57,
     "metadata": {},
     "output_type": "execute_result"
    }
   ],
   "source": [
    "grouped[\"C\"].mean()"
   ]
  },
  {
   "cell_type": "code",
   "execution_count": 59,
   "id": "ebf28775-11d0-4083-aef7-c205757599fe",
   "metadata": {},
   "outputs": [
    {
     "data": {
      "text/html": [
       "<div>\n",
       "<style scoped>\n",
       "    .dataframe tbody tr th:only-of-type {\n",
       "        vertical-align: middle;\n",
       "    }\n",
       "\n",
       "    .dataframe tbody tr th {\n",
       "        vertical-align: top;\n",
       "    }\n",
       "\n",
       "    .dataframe thead th {\n",
       "        text-align: right;\n",
       "    }\n",
       "</style>\n",
       "<table border=\"1\" class=\"dataframe\">\n",
       "  <thead>\n",
       "    <tr style=\"text-align: right;\">\n",
       "      <th></th>\n",
       "      <th>C</th>\n",
       "      <th>D</th>\n",
       "    </tr>\n",
       "    <tr>\n",
       "      <th>B</th>\n",
       "      <th></th>\n",
       "      <th></th>\n",
       "    </tr>\n",
       "  </thead>\n",
       "  <tbody>\n",
       "    <tr>\n",
       "      <th>one</th>\n",
       "      <td>0.069841</td>\n",
       "      <td>-2.047560</td>\n",
       "    </tr>\n",
       "    <tr>\n",
       "      <th>three</th>\n",
       "      <td>-0.677273</td>\n",
       "      <td>-1.557249</td>\n",
       "    </tr>\n",
       "    <tr>\n",
       "      <th>two</th>\n",
       "      <td>-1.111630</td>\n",
       "      <td>-0.509608</td>\n",
       "    </tr>\n",
       "  </tbody>\n",
       "</table>\n",
       "</div>"
      ],
      "text/plain": [
       "              C         D\n",
       "B                        \n",
       "one    0.069841 -2.047560\n",
       "three -0.677273 -1.557249\n",
       "two   -1.111630 -0.509608"
      ]
     },
     "execution_count": 59,
     "metadata": {},
     "output_type": "execute_result"
    }
   ],
   "source": [
    "# 인덱스 기준으로 groupby\n",
    "\n",
    "df2 = df.set_index([\"A\", \"B\"])\n",
    "grouped = df2.groupby(level=df2.index.names.difference([\"A\"]))\n",
    "# index.names 속성은 인덱스의 각 레벨의 이름을 반환\n",
    "# 예를 들어, 인덱스 이름이 ['A', 'B']인 경우, difference([\"B\"])는 ['A']를 반환합니다.\n",
    "# 즉, 'B' 레벨을 제외한 나머지 레벨로 그룹화하겠다는 의미입니다\n",
    "\n",
    "grouped.sum()"
   ]
  },
  {
   "cell_type": "code",
   "execution_count": 71,
   "id": "ac7e5312-6e58-4839-8b2d-fb1f616a54ec",
   "metadata": {},
   "outputs": [
    {
     "ename": "SyntaxError",
     "evalue": "invalid syntax (433894425.py, line 9)",
     "output_type": "error",
     "traceback": [
      "\u001b[1;36m  Cell \u001b[1;32mIn[71], line 9\u001b[1;36m\u001b[0m\n\u001b[1;33m    mean_value = grouped[[:]].mean()\u001b[0m\n\u001b[1;37m                          ^\u001b[0m\n\u001b[1;31mSyntaxError\u001b[0m\u001b[1;31m:\u001b[0m invalid syntax\n"
     ]
    }
   ],
   "source": [
    "# 이상함\n",
    "def get_letter_type(letter):\n",
    "    if letter.lower() in 'aeiou':\n",
    "        return 'vowel'\n",
    "    else:\n",
    "        return 'consonant'\n",
    "\n",
    "grouped = df.T.groupby(get_letter_type)\n",
    "\n",
    "mean_value = grouped[[:]].mean()\n",
    "print(mean_value)\n",
    "# df.T는 DataFrame df의 전치(transpose)를 의미합니다. 즉, 행과 열이 서로 바뀐 DataFrame이 생성됩니다. \n",
    "# 원래의 행은 열이 되고, 원래의 열은 행이 됩니다"
   ]
  },
  {
   "cell_type": "code",
   "execution_count": 76,
   "id": "fff25f04-92cf-411b-aa2b-4c1a8da29bc9",
   "metadata": {},
   "outputs": [
    {
     "data": {
      "text/plain": [
       "1    10\n",
       "2    20\n",
       "3    30\n",
       "dtype: int64"
      ]
     },
     "execution_count": 76,
     "metadata": {},
     "output_type": "execute_result"
    }
   ],
   "source": [
    "index = [1, 2, 3, 1, 2, 3]\n",
    "s = pd.Series([1, 2, 3, 10, 20, 30,], index=index)\n",
    "\n",
    "grouped = s.groupby(level=0)\n",
    "grouped.first()\n",
    "grouped.last()"
   ]
  },
  {
   "cell_type": "markdown",
   "id": "b21eb622-1716-416d-98e4-5b1779c5bdb5",
   "metadata": {},
   "source": [
    "# Groupby sorting"
   ]
  },
  {
   "cell_type": "code",
   "execution_count": 78,
   "id": "2510b7c1-e32b-4070-8e6a-a01376db1a5a",
   "metadata": {},
   "outputs": [
    {
     "data": {
      "text/html": [
       "<div>\n",
       "<style scoped>\n",
       "    .dataframe tbody tr th:only-of-type {\n",
       "        vertical-align: middle;\n",
       "    }\n",
       "\n",
       "    .dataframe tbody tr th {\n",
       "        vertical-align: top;\n",
       "    }\n",
       "\n",
       "    .dataframe thead th {\n",
       "        text-align: right;\n",
       "    }\n",
       "</style>\n",
       "<table border=\"1\" class=\"dataframe\">\n",
       "  <thead>\n",
       "    <tr style=\"text-align: right;\">\n",
       "      <th></th>\n",
       "      <th>Y</th>\n",
       "    </tr>\n",
       "    <tr>\n",
       "      <th>X</th>\n",
       "      <th></th>\n",
       "    </tr>\n",
       "  </thead>\n",
       "  <tbody>\n",
       "    <tr>\n",
       "      <th>B</th>\n",
       "      <td>3</td>\n",
       "    </tr>\n",
       "    <tr>\n",
       "      <th>A</th>\n",
       "      <td>7</td>\n",
       "    </tr>\n",
       "  </tbody>\n",
       "</table>\n",
       "</div>"
      ],
      "text/plain": [
       "   Y\n",
       "X   \n",
       "B  3\n",
       "A  7"
      ]
     },
     "execution_count": 78,
     "metadata": {},
     "output_type": "execute_result"
    }
   ],
   "source": [
    "# sort 옵션으로 정렬 가능\n",
    "df2 = pd.DataFrame({\n",
    "    \"X\" : [\"B\", \"B\", \"A\", \"A\"],\n",
    "    \"Y\" : [1, 2, 3, 4]}\n",
    "                  )\n",
    "\n",
    "df2.groupby([\"X\"]).sum()\n",
    "df2.groupby([\"X\"], sort=False).sum()"
   ]
  },
  {
   "cell_type": "code",
   "execution_count": 81,
   "id": "0eb1aee6-054f-4311-9630-1fec2993c882",
   "metadata": {},
   "outputs": [
    {
     "data": {
      "text/html": [
       "<div>\n",
       "<style scoped>\n",
       "    .dataframe tbody tr th:only-of-type {\n",
       "        vertical-align: middle;\n",
       "    }\n",
       "\n",
       "    .dataframe tbody tr th {\n",
       "        vertical-align: top;\n",
       "    }\n",
       "\n",
       "    .dataframe thead th {\n",
       "        text-align: right;\n",
       "    }\n",
       "</style>\n",
       "<table border=\"1\" class=\"dataframe\">\n",
       "  <thead>\n",
       "    <tr style=\"text-align: right;\">\n",
       "      <th></th>\n",
       "      <th>X</th>\n",
       "      <th>Y</th>\n",
       "    </tr>\n",
       "  </thead>\n",
       "  <tbody>\n",
       "    <tr>\n",
       "      <th>1</th>\n",
       "      <td>B</td>\n",
       "      <td>4</td>\n",
       "    </tr>\n",
       "    <tr>\n",
       "      <th>3</th>\n",
       "      <td>B</td>\n",
       "      <td>2</td>\n",
       "    </tr>\n",
       "  </tbody>\n",
       "</table>\n",
       "</div>"
      ],
      "text/plain": [
       "   X  Y\n",
       "1  B  4\n",
       "3  B  2"
      ]
     },
     "execution_count": 81,
     "metadata": {},
     "output_type": "execute_result"
    }
   ],
   "source": [
    "# groupby().get_group()으로 원하는 컬럼만 가져올 수 이씀)\n",
    "df3 = pd.DataFrame({\"X\" : [\"A\", \"B\", \"A\", \"B\"],\n",
    "                    \"Y\" : [1, 4, 3, 2]}\n",
    "                  )\n",
    "df3.groupby(\"X\").get_group(\"A\")\n",
    "df3.groupby(\"X\").get_group(\"B\")"
   ]
  },
  {
   "cell_type": "code",
   "execution_count": 84,
   "id": "4f82b02a-40dd-4d22-8fd2-db173b27b729",
   "metadata": {},
   "outputs": [
    {
     "data": {
      "text/html": [
       "<div>\n",
       "<style scoped>\n",
       "    .dataframe tbody tr th:only-of-type {\n",
       "        vertical-align: middle;\n",
       "    }\n",
       "\n",
       "    .dataframe tbody tr th {\n",
       "        vertical-align: top;\n",
       "    }\n",
       "\n",
       "    .dataframe thead th {\n",
       "        text-align: right;\n",
       "    }\n",
       "</style>\n",
       "<table border=\"1\" class=\"dataframe\">\n",
       "  <thead>\n",
       "    <tr style=\"text-align: right;\">\n",
       "      <th></th>\n",
       "      <th>a</th>\n",
       "      <th>c</th>\n",
       "    </tr>\n",
       "    <tr>\n",
       "      <th>b</th>\n",
       "      <th></th>\n",
       "      <th></th>\n",
       "    </tr>\n",
       "  </thead>\n",
       "  <tbody>\n",
       "    <tr>\n",
       "      <th>1.0</th>\n",
       "      <td>2</td>\n",
       "      <td>3</td>\n",
       "    </tr>\n",
       "    <tr>\n",
       "      <th>2.0</th>\n",
       "      <td>2</td>\n",
       "      <td>5</td>\n",
       "    </tr>\n",
       "  </tbody>\n",
       "</table>\n",
       "</div>"
      ],
      "text/plain": [
       "     a  c\n",
       "b        \n",
       "1.0  2  3\n",
       "2.0  2  5"
      ]
     },
     "execution_count": 84,
     "metadata": {},
     "output_type": "execute_result"
    }
   ],
   "source": [
    "# dropna\n",
    "\n",
    "df_list = [[1, 2, 3], [1, None, 4], [2, 1, 3], [1, 2, 2]]\n",
    "df_dropna = pd.DataFrame(df_list, columns=[\"a\", \"b\", \"c\"])\n",
    "\n",
    "df_dropna.groupby(by=[\"b\"], dropna=True).sum()"
   ]
  },
  {
   "cell_type": "code",
   "execution_count": 90,
   "id": "d5fb56be-9819-4eea-be6a-2518be1c3b3e",
   "metadata": {},
   "outputs": [
    {
     "data": {
      "text/plain": [
       "{('bar', 'one'): [1], ('bar', 'three'): [3], ('bar', 'two'): [5], ('foo', 'one'): [0, 6], ('foo', 'three'): [7], ('foo', 'two'): [2, 4]}"
      ]
     },
     "execution_count": 90,
     "metadata": {},
     "output_type": "execute_result"
    }
   ],
   "source": [
    "# GroupBy object attributes\n",
    "# groups 는 groupby(\"A\") A기준으로 그룹화하고\n",
    "# 각 값에 대한 인덱스 번호를 딕셔너리 형태로 반환\n",
    "\n",
    "df.groupby(\"A\").groups\n",
    "# {'bar' : [1, 3, 5],\n",
    "#  'foo' : [0, 2, 4, 6, 7]}\n",
    "\n",
    "\n",
    "df.T.groupby(get_letter_type).groups\n",
    "# {'consonant' : ['B', 'C', 'D'], 'vowel' : ['A']}\n",
    "\n",
    "grouped = df.groupby([\"A\", \"B\"])\n",
    "grouped.groups\n",
    "# {('bar', 'one') : [1], ('bar', 'three') : [3], ('bar', 'two'): [5],\n",
    "#  ('foo', 'one'): [0, 6], ('foo', 'three'): [7], ('foo', 'two'): [2, 4]}\n",
    "\n",
    "# len(grouped)"
   ]
  },
  {
   "cell_type": "code",
   "execution_count": 97,
   "id": "09477c46-1e62-4671-a562-8b97a153c23b",
   "metadata": {},
   "outputs": [
    {
     "data": {
      "text/html": [
       "<div>\n",
       "<style scoped>\n",
       "    .dataframe tbody tr th:only-of-type {\n",
       "        vertical-align: middle;\n",
       "    }\n",
       "\n",
       "    .dataframe tbody tr th {\n",
       "        vertical-align: top;\n",
       "    }\n",
       "\n",
       "    .dataframe thead th {\n",
       "        text-align: right;\n",
       "    }\n",
       "</style>\n",
       "<table border=\"1\" class=\"dataframe\">\n",
       "  <thead>\n",
       "    <tr style=\"text-align: right;\">\n",
       "      <th></th>\n",
       "      <th>height</th>\n",
       "      <th>weight</th>\n",
       "    </tr>\n",
       "    <tr>\n",
       "      <th>gender</th>\n",
       "      <th></th>\n",
       "      <th></th>\n",
       "    </tr>\n",
       "  </thead>\n",
       "  <tbody>\n",
       "    <tr>\n",
       "      <th>female</th>\n",
       "      <td>54.747395</td>\n",
       "      <td>163.386250</td>\n",
       "    </tr>\n",
       "    <tr>\n",
       "      <th>male</th>\n",
       "      <td>64.316748</td>\n",
       "      <td>160.013447</td>\n",
       "    </tr>\n",
       "  </tbody>\n",
       "</table>\n",
       "</div>"
      ],
      "text/plain": [
       "           height      weight\n",
       "gender                       \n",
       "female  54.747395  163.386250\n",
       "male    64.316748  160.013447"
      ]
     },
     "execution_count": 97,
     "metadata": {},
     "output_type": "execute_result"
    }
   ],
   "source": [
    "n = 10\n",
    "\n",
    "weight = np.random.normal(166, 20, size=n)\n",
    "height = np.random.normal(60, 10, size=n)\n",
    "time = pd.date_range(\"1/1/2000\", periods=n)\n",
    "gender = np.random.choice(['male', 'female'], size=n)\n",
    "df= pd.DataFrame({\n",
    "    \"height\" : height, \"weight\" : weight, \"gender\" : gender,}, index=time)\n",
    "\n",
    "gb = df.groupby(\"gender\")\n",
    "gb[['height', 'weight']].mean()"
   ]
  },
  {
   "cell_type": "code",
   "execution_count": null,
   "id": "9bba5198-acf2-4894-9ce1-9d2439fa966d",
   "metadata": {},
   "outputs": [],
   "source": []
  }
 ],
 "metadata": {
  "kernelspec": {
   "display_name": "Python 3 (ipykernel)",
   "language": "python",
   "name": "python3"
  },
  "language_info": {
   "codemirror_mode": {
    "name": "ipython",
    "version": 3
   },
   "file_extension": ".py",
   "mimetype": "text/x-python",
   "name": "python",
   "nbconvert_exporter": "python",
   "pygments_lexer": "ipython3",
   "version": "3.12.6"
  }
 },
 "nbformat": 4,
 "nbformat_minor": 5
}
