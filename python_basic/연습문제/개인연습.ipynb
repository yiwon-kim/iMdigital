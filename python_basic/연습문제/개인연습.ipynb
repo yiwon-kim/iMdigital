{
 "cells": [
  {
   "cell_type": "markdown",
   "id": "13998404-40b9-41b2-be18-2dc235fb4cfe",
   "metadata": {},
   "source": [
    "# 0927 연습 \n",
    "- 09/29 복습"
   ]
  },
  {
   "cell_type": "markdown",
   "id": "caacd1c1-e1ef-44cc-b2af-769dd46224fb",
   "metadata": {},
   "source": [
    "문제 1: 리스트 합계\n",
    "1부터 10까지의 숫자를 포함하는 리스트를 생성하고, 이 숫자들의 합계를 구하는 코드를 작성하세요."
   ]
  },
  {
   "cell_type": "code",
   "execution_count": 63,
   "id": "49e5d684-6cd0-4059-ba56-bee1785c60b8",
   "metadata": {},
   "outputs": [],
   "source": [
    "import numpy as np\n",
    "import pandas as pd"
   ]
  },
  {
   "cell_type": "code",
   "execution_count": 75,
   "id": "5c6fdc77-40ad-4132-8b03-2291eee76b29",
   "metadata": {},
   "outputs": [
    {
     "name": "stdout",
     "output_type": "stream",
     "text": [
      "55\n"
     ]
    }
   ],
   "source": [
    "list1 = list(range(1,11))\n",
    "print(sum(list1))"
   ]
  },
  {
   "cell_type": "markdown",
   "id": "3aaf3eea-664f-4357-911c-459e1ac972fc",
   "metadata": {},
   "source": [
    "문제 2: Numpy 배열\n",
    "1부터 20까지의 숫자를 포함하는 Numpy 배열을 생성하고, 배열의 평균과 표준편차를 구하세요."
   ]
  },
  {
   "cell_type": "code",
   "execution_count": 83,
   "id": "35a6502a-dcb0-45f1-94f3-113aac828f90",
   "metadata": {},
   "outputs": [
    {
     "name": "stdout",
     "output_type": "stream",
     "text": [
      "10.5 5.766281297335398\n"
     ]
    }
   ],
   "source": [
    "num1 = np.arange(1,21)\n",
    "print(np.mean(num1), np.std(num1))"
   ]
  },
  {
   "cell_type": "markdown",
   "id": "54642d12-f7a9-434a-9b13-310a6b448686",
   "metadata": {},
   "source": [
    "문제 3: Pandas 데이터프레임 생성\n",
    "학생 이름과 점수를 포함하는 데이터프레임을 생성하세요. 이름은 \"Alice\", \"Bob\", \"Charlie\"이고, 점수는 각각 85, 90, 78입니다."
   ]
  },
  {
   "cell_type": "code",
   "execution_count": 139,
   "id": "f80404ad-4d43-4be7-b39a-4ee5fceb933b",
   "metadata": {},
   "outputs": [
    {
     "data": {
      "text/plain": [
       "pandas.core.series.Series"
      ]
     },
     "execution_count": 139,
     "metadata": {},
     "output_type": "execute_result"
    }
   ],
   "source": [
    "test1 = pd.DataFrame({'Name' : [\"Alice\", \"Bob\", \"Charlie\"],\n",
    "                      'Score' : [85, 90, 78]})\n",
    "type(test1['Score'])"
   ]
  },
  {
   "cell_type": "markdown",
   "id": "51061ae4-37b4-4fab-8837-14ffaa7d656f",
   "metadata": {},
   "source": [
    "문제 4: 데이터프레임 열 추가\n",
    "위에서 생성한 데이터프레임에 \"Pass/Fail\"이라는 새 열을 추가하세요. 점수가 80 이상이면 \"Pass\", 미만이면 \"Fail\"로 표시합니다."
   ]
  },
  {
   "cell_type": "code",
   "execution_count": 140,
   "id": "c556b885-ebfe-4b07-bf56-5b59bda9f1de",
   "metadata": {},
   "outputs": [
    {
     "data": {
      "text/html": [
       "<div>\n",
       "<style scoped>\n",
       "    .dataframe tbody tr th:only-of-type {\n",
       "        vertical-align: middle;\n",
       "    }\n",
       "\n",
       "    .dataframe tbody tr th {\n",
       "        vertical-align: top;\n",
       "    }\n",
       "\n",
       "    .dataframe thead th {\n",
       "        text-align: right;\n",
       "    }\n",
       "</style>\n",
       "<table border=\"1\" class=\"dataframe\">\n",
       "  <thead>\n",
       "    <tr style=\"text-align: right;\">\n",
       "      <th></th>\n",
       "      <th>Name</th>\n",
       "      <th>Score</th>\n",
       "      <th>Pass/Fail</th>\n",
       "    </tr>\n",
       "  </thead>\n",
       "  <tbody>\n",
       "    <tr>\n",
       "      <th>0</th>\n",
       "      <td>Alice</td>\n",
       "      <td>85</td>\n",
       "      <td>Pass</td>\n",
       "    </tr>\n",
       "    <tr>\n",
       "      <th>1</th>\n",
       "      <td>Bob</td>\n",
       "      <td>90</td>\n",
       "      <td>Pass</td>\n",
       "    </tr>\n",
       "    <tr>\n",
       "      <th>2</th>\n",
       "      <td>Charlie</td>\n",
       "      <td>78</td>\n",
       "      <td>Fail</td>\n",
       "    </tr>\n",
       "  </tbody>\n",
       "</table>\n",
       "</div>"
      ],
      "text/plain": [
       "      Name  Score Pass/Fail\n",
       "0    Alice     85      Pass\n",
       "1      Bob     90      Pass\n",
       "2  Charlie     78      Fail"
      ]
     },
     "execution_count": 140,
     "metadata": {},
     "output_type": "execute_result"
    }
   ],
   "source": [
    "con = test1['Score'].apply(lambda x: 'Pass' if x >= 80 else \"Fail\")\n",
    "test1[\"Pass/Fail\"] = con\n",
    "test1"
   ]
  },
  {
   "cell_type": "code",
   "execution_count": 137,
   "id": "b63a4f59-bfe7-432f-ba15-d481d375c81d",
   "metadata": {},
   "outputs": [
    {
     "data": {
      "text/html": [
       "<div>\n",
       "<style scoped>\n",
       "    .dataframe tbody tr th:only-of-type {\n",
       "        vertical-align: middle;\n",
       "    }\n",
       "\n",
       "    .dataframe tbody tr th {\n",
       "        vertical-align: top;\n",
       "    }\n",
       "\n",
       "    .dataframe thead th {\n",
       "        text-align: right;\n",
       "    }\n",
       "</style>\n",
       "<table border=\"1\" class=\"dataframe\">\n",
       "  <thead>\n",
       "    <tr style=\"text-align: right;\">\n",
       "      <th></th>\n",
       "      <th>Name</th>\n",
       "      <th>Score</th>\n",
       "      <th>Pass/Fail</th>\n",
       "    </tr>\n",
       "  </thead>\n",
       "  <tbody>\n",
       "    <tr>\n",
       "      <th>0</th>\n",
       "      <td>Alice</td>\n",
       "      <td>85</td>\n",
       "      <td>Pass</td>\n",
       "    </tr>\n",
       "    <tr>\n",
       "      <th>1</th>\n",
       "      <td>Bob</td>\n",
       "      <td>90</td>\n",
       "      <td>Pass</td>\n",
       "    </tr>\n",
       "    <tr>\n",
       "      <th>2</th>\n",
       "      <td>Charlie</td>\n",
       "      <td>78</td>\n",
       "      <td>Fail</td>\n",
       "    </tr>\n",
       "    <tr>\n",
       "      <th>3</th>\n",
       "      <td>Kim</td>\n",
       "      <td>60</td>\n",
       "      <td>Fail</td>\n",
       "    </tr>\n",
       "    <tr>\n",
       "      <th>4</th>\n",
       "      <td>Kim</td>\n",
       "      <td>60</td>\n",
       "      <td>Fail</td>\n",
       "    </tr>\n",
       "    <tr>\n",
       "      <th>5</th>\n",
       "      <td>Kim</td>\n",
       "      <td>60</td>\n",
       "      <td>Fail</td>\n",
       "    </tr>\n",
       "    <tr>\n",
       "      <th>6</th>\n",
       "      <td>Kim</td>\n",
       "      <td>60</td>\n",
       "      <td>Fail</td>\n",
       "    </tr>\n",
       "    <tr>\n",
       "      <th>7</th>\n",
       "      <td>Kim</td>\n",
       "      <td>60</td>\n",
       "      <td>Fail</td>\n",
       "    </tr>\n",
       "    <tr>\n",
       "      <th>8</th>\n",
       "      <td>Kim</td>\n",
       "      <td>60</td>\n",
       "      <td>Fail</td>\n",
       "    </tr>\n",
       "    <tr>\n",
       "      <th>9</th>\n",
       "      <td>Kim</td>\n",
       "      <td>60</td>\n",
       "      <td>Fail</td>\n",
       "    </tr>\n",
       "  </tbody>\n",
       "</table>\n",
       "</div>"
      ],
      "text/plain": [
       "      Name  Score Pass/Fail\n",
       "0    Alice     85      Pass\n",
       "1      Bob     90      Pass\n",
       "2  Charlie     78      Fail\n",
       "3      Kim     60      Fail\n",
       "4      Kim     60      Fail\n",
       "5      Kim     60      Fail\n",
       "6      Kim     60      Fail\n",
       "7      Kim     60      Fail\n",
       "8      Kim     60      Fail\n",
       "9      Kim     60      Fail"
      ]
     },
     "execution_count": 137,
     "metadata": {},
     "output_type": "execute_result"
    }
   ],
   "source": [
    "test1.loc[len(test1)] = ['Kim', 60, 'Pass' if 60 >= 80 else 'Fail'] ## 0부터 시작하니까 현재 데이터 개수로 하면 끝에 추가됨\n",
    "test1"
   ]
  },
  {
   "cell_type": "markdown",
   "id": "0aed5fb6-aa91-4aad-969c-32fd83829ec3",
   "metadata": {},
   "source": [
    "문제 4 + 번외 : 데이터프레임 열 추가\n",
    "위에서 생성한 데이터프레임에\"Kim\" 새 행을 추가하세요. 점수가 80 이상이면 \"Pass\", 미만이면 \"Fail\"로 표시합니다."
   ]
  },
  {
   "cell_type": "code",
   "execution_count": 152,
   "id": "9e816836-6760-4596-b387-78764bc34374",
   "metadata": {},
   "outputs": [
    {
     "data": {
      "text/html": [
       "<div>\n",
       "<style scoped>\n",
       "    .dataframe tbody tr th:only-of-type {\n",
       "        vertical-align: middle;\n",
       "    }\n",
       "\n",
       "    .dataframe tbody tr th {\n",
       "        vertical-align: top;\n",
       "    }\n",
       "\n",
       "    .dataframe thead th {\n",
       "        text-align: right;\n",
       "    }\n",
       "</style>\n",
       "<table border=\"1\" class=\"dataframe\">\n",
       "  <thead>\n",
       "    <tr style=\"text-align: right;\">\n",
       "      <th></th>\n",
       "      <th>Name</th>\n",
       "      <th>Score</th>\n",
       "      <th>Pass/Fail</th>\n",
       "    </tr>\n",
       "  </thead>\n",
       "  <tbody>\n",
       "    <tr>\n",
       "      <th>0</th>\n",
       "      <td>Alice</td>\n",
       "      <td>85</td>\n",
       "      <td>Pass</td>\n",
       "    </tr>\n",
       "    <tr>\n",
       "      <th>1</th>\n",
       "      <td>Bob</td>\n",
       "      <td>90</td>\n",
       "      <td>Pass</td>\n",
       "    </tr>\n",
       "    <tr>\n",
       "      <th>2</th>\n",
       "      <td>Charlie</td>\n",
       "      <td>78</td>\n",
       "      <td>Fail</td>\n",
       "    </tr>\n",
       "    <tr>\n",
       "      <th>3</th>\n",
       "      <td>Kim</td>\n",
       "      <td>60</td>\n",
       "      <td>Fail</td>\n",
       "    </tr>\n",
       "    <tr>\n",
       "      <th>4</th>\n",
       "      <td>Kim</td>\n",
       "      <td>60</td>\n",
       "      <td>Fail</td>\n",
       "    </tr>\n",
       "  </tbody>\n",
       "</table>\n",
       "</div>"
      ],
      "text/plain": [
       "      Name  Score Pass/Fail\n",
       "0    Alice     85      Pass\n",
       "1      Bob     90      Pass\n",
       "2  Charlie     78      Fail\n",
       "3      Kim     60      Fail\n",
       "4      Kim     60      Fail"
      ]
     },
     "execution_count": 152,
     "metadata": {},
     "output_type": "execute_result"
    }
   ],
   "source": [
    "test1 = pd.concat([\n",
    "    test1, pd.DataFrame({\n",
    "        'Name' : 'Kim',\n",
    "        'Score' : 60,\n",
    "        'Pass/Fail' : ['Pass' if 60 >= 80 else 'Fail']\n",
    "    })], ignore_index=True)\n",
    "test1"
   ]
  },
  {
   "cell_type": "code",
   "execution_count": null,
   "id": "646bea5b-e39f-48af-9b42-a73c3d4dfb4b",
   "metadata": {},
   "outputs": [],
   "source": [
    "test1 = pd.concat([\n",
    "    test1, \n",
    "    pd.DataFrame({\n",
    "        'Name': ['Kim'], \n",
    "        'Score': [60], \n",
    "        'Pass/Fail': ['Pass' if 60 >= 80 else 'Fail']  # 60을 기준으로 비교\n",
    "    })\n",
    "], ignore_index=True)"
   ]
  },
  {
   "cell_type": "code",
   "execution_count": 124,
   "id": "b605e12d-3e8a-4f06-a23a-f977d2e09a2b",
   "metadata": {},
   "outputs": [
    {
     "ename": "ValueError",
     "evalue": "The truth value of a Series is ambiguous. Use a.empty, a.bool(), a.item(), a.any() or a.all().",
     "output_type": "error",
     "traceback": [
      "\u001b[1;31m---------------------------------------------------------------------------\u001b[0m",
      "\u001b[1;31mValueError\u001b[0m                                Traceback (most recent call last)",
      "Cell \u001b[1;32mIn[124], line 1\u001b[0m\n\u001b[1;32m----> 1\u001b[0m test1 \u001b[38;5;241m=\u001b[39m pd\u001b[38;5;241m.\u001b[39mconcat([test1, pd\u001b[38;5;241m.\u001b[39mDataFrame({\u001b[38;5;124m'\u001b[39m\u001b[38;5;124mName\u001b[39m\u001b[38;5;124m'\u001b[39m: [\u001b[38;5;124m'\u001b[39m\u001b[38;5;124mKim\u001b[39m\u001b[38;5;124m'\u001b[39m], \u001b[38;5;124m'\u001b[39m\u001b[38;5;124mScore\u001b[39m\u001b[38;5;124m'\u001b[39m: [\u001b[38;5;241m60\u001b[39m], \u001b[38;5;124m'\u001b[39m\u001b[38;5;124mPass/Fail\u001b[39m\u001b[38;5;124m'\u001b[39m: [\u001b[38;5;124m'\u001b[39m\u001b[38;5;124mPass\u001b[39m\u001b[38;5;124m'\u001b[39m \u001b[38;5;28;01mif\u001b[39;00m test1[\u001b[38;5;124m'\u001b[39m\u001b[38;5;124mScore\u001b[39m\u001b[38;5;124m'\u001b[39m] \u001b[38;5;241m>\u001b[39m\u001b[38;5;241m=\u001b[39m \u001b[38;5;241m80\u001b[39m \u001b[38;5;28;01melse\u001b[39;00m \u001b[38;5;124m'\u001b[39m\u001b[38;5;124mFail\u001b[39m\u001b[38;5;124m'\u001b[39m]})], ignore_index\u001b[38;5;241m=\u001b[39m\u001b[38;5;28;01mTrue\u001b[39;00m)\n",
      "File \u001b[1;32m~\\Desktop\\iMdigital\\venv\\Lib\\site-packages\\pandas\\core\\generic.py:1577\u001b[0m, in \u001b[0;36mNDFrame.__nonzero__\u001b[1;34m(self)\u001b[0m\n\u001b[0;32m   1575\u001b[0m \u001b[38;5;129m@final\u001b[39m\n\u001b[0;32m   1576\u001b[0m \u001b[38;5;28;01mdef\u001b[39;00m \u001b[38;5;21m__nonzero__\u001b[39m(\u001b[38;5;28mself\u001b[39m) \u001b[38;5;241m-\u001b[39m\u001b[38;5;241m>\u001b[39m NoReturn:\n\u001b[1;32m-> 1577\u001b[0m     \u001b[38;5;28;01mraise\u001b[39;00m \u001b[38;5;167;01mValueError\u001b[39;00m(\n\u001b[0;32m   1578\u001b[0m         \u001b[38;5;124mf\u001b[39m\u001b[38;5;124m\"\u001b[39m\u001b[38;5;124mThe truth value of a \u001b[39m\u001b[38;5;132;01m{\u001b[39;00m\u001b[38;5;28mtype\u001b[39m(\u001b[38;5;28mself\u001b[39m)\u001b[38;5;241m.\u001b[39m\u001b[38;5;18m__name__\u001b[39m\u001b[38;5;132;01m}\u001b[39;00m\u001b[38;5;124m is ambiguous. \u001b[39m\u001b[38;5;124m\"\u001b[39m\n\u001b[0;32m   1579\u001b[0m         \u001b[38;5;124m\"\u001b[39m\u001b[38;5;124mUse a.empty, a.bool(), a.item(), a.any() or a.all().\u001b[39m\u001b[38;5;124m\"\u001b[39m\n\u001b[0;32m   1580\u001b[0m     )\n",
      "\u001b[1;31mValueError\u001b[0m: The truth value of a Series is ambiguous. Use a.empty, a.bool(), a.item(), a.any() or a.all()."
     ]
    }
   ],
   "source": [
    "test1 = pd.concat([test1, pd.DataFrame({'Name': ['Kim'], 'Score': [60], 'Pass/Fail': ['Pass' if test1['Score'] >= 80 else 'Fail']})], ignore_index=True)"
   ]
  },
  {
   "cell_type": "markdown",
   "id": "defc8d81-6d89-4f83-811b-47e1c238c76a",
   "metadata": {},
   "source": [
    "문제 5: 필터링\n",
    "위 데이터프레임에서 점수가 80 이상인 학생만 필터링하여 새로운 데이터프레임을 만드세요."
   ]
  },
  {
   "cell_type": "code",
   "execution_count": 62,
   "id": "9c2d470b-1ad1-415f-b3c6-1b0bc7ff9404",
   "metadata": {},
   "outputs": [
    {
     "data": {
      "text/html": [
       "<div>\n",
       "<style scoped>\n",
       "    .dataframe tbody tr th:only-of-type {\n",
       "        vertical-align: middle;\n",
       "    }\n",
       "\n",
       "    .dataframe tbody tr th {\n",
       "        vertical-align: top;\n",
       "    }\n",
       "\n",
       "    .dataframe thead th {\n",
       "        text-align: right;\n",
       "    }\n",
       "</style>\n",
       "<table border=\"1\" class=\"dataframe\">\n",
       "  <thead>\n",
       "    <tr style=\"text-align: right;\">\n",
       "      <th></th>\n",
       "      <th>name</th>\n",
       "      <th>score</th>\n",
       "    </tr>\n",
       "  </thead>\n",
       "  <tbody>\n",
       "    <tr>\n",
       "      <th>0</th>\n",
       "      <td>Alice</td>\n",
       "      <td>85</td>\n",
       "    </tr>\n",
       "    <tr>\n",
       "      <th>1</th>\n",
       "      <td>Bob</td>\n",
       "      <td>90</td>\n",
       "    </tr>\n",
       "  </tbody>\n",
       "</table>\n",
       "</div>"
      ],
      "text/plain": [
       "    name  score\n",
       "0  Alice     85\n",
       "1    Bob     90"
      ]
     },
     "execution_count": 62,
     "metadata": {},
     "output_type": "execute_result"
    }
   ],
   "source": []
  },
  {
   "cell_type": "markdown",
   "id": "15ad53e6-8550-499e-aec7-d3bcbe9ba66b",
   "metadata": {},
   "source": [
    "문제 6: Numpy 배열 슬라이싱\n",
    "1부터 100까지의 숫자를 포함하는 Numpy 배열을 생성한 후, 20부터 50까지의 숫자만 포함하는 서브 배열을 슬라이싱하여 출력하세요."
   ]
  },
  {
   "cell_type": "code",
   "execution_count": 17,
   "id": "09374459-cfaf-44b9-b185-cd41a61bafb8",
   "metadata": {},
   "outputs": [
    {
     "data": {
      "text/plain": [
       "array([20, 21, 22, 23, 24, 25, 26, 27, 28, 29, 30, 31, 32, 33, 34, 35, 36,\n",
       "       37, 38, 39, 40, 41, 42, 43, 44, 45, 46, 47, 48, 49, 50])"
      ]
     },
     "execution_count": 17,
     "metadata": {},
     "output_type": "execute_result"
    }
   ],
   "source": [
    "import numpy as np\n",
    "import pandas as pd\n",
    "arr = np.arange(1,101)\n",
    "num1 = np.array(arr)\n",
    "\n",
    "num2 = num1[19:50]\n",
    "num2"
   ]
  },
  {
   "cell_type": "markdown",
   "id": "15919f6e-836e-45ba-864d-4eecc08bebe0",
   "metadata": {},
   "source": [
    "문제 7: Pandas 그룹화\n",
    "아래와 같은 데이터프레임을 생성하고, 각 과목별 평균 점수를 구하세요.\n",
    "\n",
    "data = {\n",
    "   'Name': ['Alice', 'Bob', 'Charlie', 'Alice', 'Bob', 'Charlie'],\n",
    "     'Subject': ['Math', 'Math', 'Math', 'Science', 'Science', 'Science'],\n",
    "     'Score': [85, 90, 78, 92, 88, 80]\n",
    " }"
   ]
  },
  {
   "cell_type": "code",
   "execution_count": 39,
   "id": "8a4f7bd8-e2ee-4144-a703-3d0c3be61712",
   "metadata": {},
   "outputs": [
    {
     "data": {
      "text/plain": [
       "np.float64(85.5)"
      ]
     },
     "execution_count": 39,
     "metadata": {},
     "output_type": "execute_result"
    }
   ],
   "source": [
    "data = pd.DataFrame({'Name': ['Alice', 'Bob', 'Charlie', 'Alice', 'Bob', 'Charlie'], \n",
    "                    'Subject': ['Math', 'Math', 'Math', 'Science', 'Science', 'Science'],\n",
    "                    'Score': [85, 90, 78, 92, 88, 80]})\n",
    "data['Score'].mean()"
   ]
  },
  {
   "cell_type": "markdown",
   "id": "6e4ad154-26b0-4b46-82bc-6531b0ae3005",
   "metadata": {
    "jp-MarkdownHeadingCollapsed": true
   },
   "source": [
    " 문제 8: Numpy 연산\n",
    " 1부터 10까지의 Numpy 배열을 생성한 후, 각 요소에 5를 더한 새로운 배열을 생성하세요."
   ]
  },
  {
   "cell_type": "code",
   "execution_count": 38,
   "id": "362c2c40-dcff-4aac-b40c-7cc59e464bcc",
   "metadata": {},
   "outputs": [
    {
     "data": {
      "text/plain": [
       "array([ 6,  7,  8,  9, 10, 11, 12, 13, 14, 15])"
      ]
     },
     "execution_count": 38,
     "metadata": {},
     "output_type": "execute_result"
    }
   ],
   "source": [
    "num3 = np.arange(1,11)\n",
    "list2 = np.array(num3)\n",
    "list3 = list2 + 5\n",
    "list3"
   ]
  },
  {
   "cell_type": "markdown",
   "id": "304e0a2a-e230-4586-bf3e-e690ecc6d5b8",
   "metadata": {},
   "source": [
    " 문제 9: Pandas 정렬\n",
    " 위에서 생성한 데이터프레임을 점수 기준으로 내림차순 정렬하세요."
   ]
  },
  {
   "cell_type": "code",
   "execution_count": 48,
   "id": "a2a1434a-5f3f-4b96-bc65-e0e0b541d512",
   "metadata": {},
   "outputs": [
    {
     "data": {
      "text/html": [
       "<div>\n",
       "<style scoped>\n",
       "    .dataframe tbody tr th:only-of-type {\n",
       "        vertical-align: middle;\n",
       "    }\n",
       "\n",
       "    .dataframe tbody tr th {\n",
       "        vertical-align: top;\n",
       "    }\n",
       "\n",
       "    .dataframe thead th {\n",
       "        text-align: right;\n",
       "    }\n",
       "</style>\n",
       "<table border=\"1\" class=\"dataframe\">\n",
       "  <thead>\n",
       "    <tr style=\"text-align: right;\">\n",
       "      <th></th>\n",
       "      <th>Name</th>\n",
       "      <th>Subject</th>\n",
       "      <th>Score</th>\n",
       "    </tr>\n",
       "  </thead>\n",
       "  <tbody>\n",
       "    <tr>\n",
       "      <th>3</th>\n",
       "      <td>Alice</td>\n",
       "      <td>Science</td>\n",
       "      <td>92</td>\n",
       "    </tr>\n",
       "    <tr>\n",
       "      <th>1</th>\n",
       "      <td>Bob</td>\n",
       "      <td>Math</td>\n",
       "      <td>90</td>\n",
       "    </tr>\n",
       "    <tr>\n",
       "      <th>4</th>\n",
       "      <td>Bob</td>\n",
       "      <td>Science</td>\n",
       "      <td>88</td>\n",
       "    </tr>\n",
       "    <tr>\n",
       "      <th>0</th>\n",
       "      <td>Alice</td>\n",
       "      <td>Math</td>\n",
       "      <td>85</td>\n",
       "    </tr>\n",
       "    <tr>\n",
       "      <th>5</th>\n",
       "      <td>Charlie</td>\n",
       "      <td>Science</td>\n",
       "      <td>80</td>\n",
       "    </tr>\n",
       "    <tr>\n",
       "      <th>2</th>\n",
       "      <td>Charlie</td>\n",
       "      <td>Math</td>\n",
       "      <td>78</td>\n",
       "    </tr>\n",
       "  </tbody>\n",
       "</table>\n",
       "</div>"
      ],
      "text/plain": [
       "      Name  Subject  Score\n",
       "3    Alice  Science     92\n",
       "1      Bob     Math     90\n",
       "4      Bob  Science     88\n",
       "0    Alice     Math     85\n",
       "5  Charlie  Science     80\n",
       "2  Charlie     Math     78"
      ]
     },
     "execution_count": 48,
     "metadata": {},
     "output_type": "execute_result"
    }
   ],
   "source": [
    "data2 = data.sort_values(by = 'Score', ascending=False)\n",
    "data2"
   ]
  },
  {
   "cell_type": "markdown",
   "id": "9b25d251-99ad-412f-ba51-173eb516507c",
   "metadata": {},
   "source": [
    " 문제 10: 기초 통계\n",
    " 랜덤으로 생성된 100개의 숫자를 포함하는 Numpy 배열을 만들고, 이 배열의 최대값, 최소값, 평균값을 구하세요."
   ]
  },
  {
   "cell_type": "code",
   "execution_count": 62,
   "id": "a58423d2-1abf-4a1b-819d-87ec09104687",
   "metadata": {},
   "outputs": [
    {
     "name": "stdout",
     "output_type": "stream",
     "text": [
      "8 975 470.54\n"
     ]
    }
   ],
   "source": [
    "ran1 = np.random.randint(1000, size = 100)\n",
    "print(ran1.min(), ran1.max(), ran1.mean())"
   ]
  },
  {
   "cell_type": "markdown",
   "id": "c01902b0-a23d-4f67-9b34-b2a40ea43209",
   "metadata": {},
   "source": [
    "# 0930 개인연습 \n",
    "- 클래스 관련 문제"
   ]
  },
  {
   "cell_type": "markdown",
   "id": "88d2e307-bd69-4ad0-9de5-eca0bb37d857",
   "metadata": {},
   "source": [
    "문제 1: 기본 클래스 정의\n",
    "Dog라는 클래스를 정의하세요. 이 클래스는 name과 age라는 두 개의 속성을 가지고 있어야 하며, bark라는 메서드를 통해 \"Woof!\"라는 문자열을 반환해야 합니다."
   ]
  },
  {
   "cell_type": "code",
   "execution_count": 20,
   "id": "0137e6ab-2021-4b56-8869-836d2367368f",
   "metadata": {},
   "outputs": [
    {
     "name": "stdout",
     "output_type": "stream",
     "text": [
      "내이름은 김, 나이는 23 \"Woof!\"\n"
     ]
    }
   ],
   "source": [
    "class Dog():\n",
    "    def __init__(self, name, age):\n",
    "        self.name = name\n",
    "        self.age = age\n",
    "\n",
    "    def bark(self):\n",
    "        print(f\"내이름은 {self.name}, 나이는 {self.age} \\\"Woof!\\\"\")\n",
    "\n",
    "Dog(\"김\",23).bark()"
   ]
  },
  {
   "cell_type": "markdown",
   "id": "f38a2531-1274-45fe-badd-c74ffaea7083",
   "metadata": {},
   "source": [
    "문제 2: 생성자 사용\n",
    "Car라는 클래스를 정의하세요. 이 클래스는 make, model, year 속성을 갖고, 생성자(__init__ 메서드)를 통해 이 속성들을 초기화해야 합니다. 또한, get_info라는 메서드를 추가하여 차의 정보를 \"2023 Toyota Camry\"와 같은 형식으로 반환하도록 하세요."
   ]
  },
  {
   "cell_type": "code",
   "execution_count": 24,
   "id": "ae62ae55-7917-4f66-8e0a-8f6a7faa891e",
   "metadata": {},
   "outputs": [
    {
     "name": "stdout",
     "output_type": "stream",
     "text": [
      "2023 Toyota Camry\n"
     ]
    }
   ],
   "source": [
    "class Car():\n",
    "    def __init__(self, make, model, year):\n",
    "        self.make = make\n",
    "        self.model = model\n",
    "        self.year = year\n",
    "    \n",
    "    def get_info(self):\n",
    "        print(f\"{self.year} {self.make} {self.model}\")\n",
    "\n",
    "Car('Toyota', 'Camry', 2023).get_info()\n",
    "\n"
   ]
  },
  {
   "cell_type": "code",
   "execution_count": null,
   "id": "b23343f3-994c-4306-b6de-fe78f0101e89",
   "metadata": {},
   "outputs": [],
   "source": [
    "class Car: # GPT\n",
    "    def __init__(self, make, model, year):\n",
    "        self.make = make\n",
    "        self.model = model\n",
    "        self.year = year\n",
    "\n",
    "    def get_info(self):\n",
    "        return f\"{self.year} {self.make} {self.model}\"\n",
    "\n",
    "# 사용 예시\n",
    "my_car = Car(\"Toyota\", \"Camry\", 2023)\n",
    "print(my_car.get_info())  # 출력: \"2023 Toyota Camry\"\n"
   ]
  },
  {
   "cell_type": "markdown",
   "id": "7e62f785-b47a-40a7-a949-576500d44098",
   "metadata": {},
   "source": [
    "문제 3: 클래스 메서드\n",
    "Rectangle 클래스를 정의하세요. 이 클래스는 width와 height 속성을 가지며, area라는 메서드를 통해 직사각형의 면적을 계산해 반환해야 합니다. 면적은 width * height로 계산합니다."
   ]
  },
  {
   "cell_type": "code",
   "execution_count": 27,
   "id": "500a3ddb-7ff8-4b35-be45-c5ede8f8c5cb",
   "metadata": {},
   "outputs": [
    {
     "name": "stdout",
     "output_type": "stream",
     "text": [
      "15\n"
     ]
    }
   ],
   "source": [
    "class Rectangle():\n",
    "    def __init__(self, width, height):\n",
    "        self.width = width\n",
    "        self.height = height\n",
    "\n",
    "    def area(self):\n",
    "        print(self.width * self.height)\n",
    "\n",
    "Rectangle(3,5).area()"
   ]
  },
  {
   "cell_type": "markdown",
   "id": "ac816e9f-4ef3-4977-862f-b966906e4bae",
   "metadata": {},
   "source": [
    "문제 4: 클래스 상속\n",
    "Animal이라는 부모 클래스를 정의하고, name 속성을 가지며 speak 메서드가 \"Animal speaks\"라는 문자열을 반환하도록 하세요. 그런 다음 Dog 클래스를 Animal 클래스로부터 상속받아, speak 메서드를 오버라이드하여 \"Woof!\"를 반환하도록 하세요."
   ]
  },
  {
   "cell_type": "code",
   "execution_count": 31,
   "id": "b0c20cba-5cdd-4b0c-9aad-75c5ea3668c9",
   "metadata": {},
   "outputs": [
    {
     "name": "stdout",
     "output_type": "stream",
     "text": [
      "Woof!\n",
      "Animal speaks\n"
     ]
    }
   ],
   "source": [
    "class Animal():\n",
    "    def __init__(self, name):\n",
    "        self.name = name\n",
    "\n",
    "    def speak(self):\n",
    "        print('Animal speaks')\n",
    "\n",
    "class Dog(Animal):\n",
    "    def speak(self):\n",
    "        print('Woof!')\n",
    "\n",
    "Dog('김').speak()\n",
    "Animal('이').speak()"
   ]
  },
  {
   "cell_type": "code",
   "execution_count": null,
   "id": "6598acc5-c250-4552-84b3-fa7af70f9976",
   "metadata": {},
   "outputs": [],
   "source": [
    "class Animal: # GPT\n",
    "    def __init__(self, name):\n",
    "        self.name = name\n",
    "\n",
    "    def speak(self):\n",
    "        return \"Animal speaks\"\n",
    "\n",
    "class Dog(Animal):\n",
    "    def speak(self):\n",
    "        return \"Woof!\"\n",
    "\n",
    "# 사용 예시\n",
    "animal = Animal(\"Generic Animal\")\n",
    "dog = Dog(\"Buddy\")\n",
    "\n",
    "print(animal.speak())  # 출력: \"Animal speaks\"\n",
    "print(dog.speak())     # 출력: \"Woof!\""
   ]
  },
  {
   "cell_type": "markdown",
   "id": "41482e91-b8ef-4f16-92d3-88893a0f6c9e",
   "metadata": {},
   "source": [
    "문제 5: 클래스의 정적 메서드\n",
    "MathUtil이라는 클래스를 정의하고, add라는 정적 메서드를 만들어 두 숫자를 받아 그 합을 반환하도록 하세요. 정적 메서드에는 @staticmethod 데코레이터를 사용해야 합니다."
   ]
  },
  {
   "cell_type": "code",
   "execution_count": 38,
   "id": "92f7bdec-2dfd-4a5f-8c4d-a84b5cf45801",
   "metadata": {},
   "outputs": [
    {
     "data": {
      "text/plain": [
       "8"
      ]
     },
     "execution_count": 38,
     "metadata": {},
     "output_type": "execute_result"
    }
   ],
   "source": [
    "class MathUtil():\n",
    "    @staticmethod\n",
    "    def add(num1, num2):\n",
    "        return num1 + num2\n",
    "\n",
    "MathUtil().add(3,5)\n",
    "    "
   ]
  },
  {
   "cell_type": "code",
   "execution_count": 39,
   "id": "86d7edd0-5d62-448a-9322-9a935c07b976",
   "metadata": {},
   "outputs": [
    {
     "name": "stdout",
     "output_type": "stream",
     "text": [
      "Something is happening before the function is called.\n",
      "Hello!\n",
      "Something is happening after the function is called.\n"
     ]
    }
   ],
   "source": [
    "def my_decorator(func):\n",
    "    def wrapper():\n",
    "        print(\"Something is happening before the function is called.\")\n",
    "        func()\n",
    "        print(\"Something is happening after the function is called.\")\n",
    "    return wrapper\n",
    "\n",
    "@my_decorator\n",
    "def say_hello():\n",
    "    print(\"Hello!\")\n",
    "\n",
    "# 함수 호출\n",
    "say_hello()"
   ]
  }
 ],
 "metadata": {
  "kernelspec": {
   "display_name": "Python 3 (ipykernel)",
   "language": "python",
   "name": "python3"
  },
  "language_info": {
   "codemirror_mode": {
    "name": "ipython",
    "version": 3
   },
   "file_extension": ".py",
   "mimetype": "text/x-python",
   "name": "python",
   "nbconvert_exporter": "python",
   "pygments_lexer": "ipython3",
   "version": "3.12.6"
  }
 },
 "nbformat": 4,
 "nbformat_minor": 5
}
