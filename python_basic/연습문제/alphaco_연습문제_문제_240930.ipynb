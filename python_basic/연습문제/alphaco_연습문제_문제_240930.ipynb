{
 "cells": [
  {
   "cell_type": "markdown",
   "id": "294ecd95-5716-409d-bc14-7fbb85c06fe2",
   "metadata": {},
   "source": [
    "# NumPy & Series 문제\n"
   ]
  },
  {
   "cell_type": "markdown",
   "id": "2ff68c61-f01b-4535-a1b1-aa86d1112799",
   "metadata": {},
   "source": [
    "# 문제 1. \n",
    "- 답지를 확인하고 알맞게 슬라이싱을 진행하세요. "
   ]
  },
  {
   "cell_type": "code",
   "execution_count": 2,
   "id": "7ae6f217-73ae-4f30-a9d7-47d5d3a34ac6",
   "metadata": {},
   "outputs": [],
   "source": [
    "import numpy as np\n",
    "arr = np.array([1, 2, 3, 4, 5, 6])"
   ]
  },
  {
   "cell_type": "code",
   "execution_count": 12,
   "id": "cb65a267-ac90-4b06-8c10-728ba6892d0b",
   "metadata": {},
   "outputs": [
    {
     "data": {
      "text/plain": [
       "array([2, 4])"
      ]
     },
     "execution_count": 12,
     "metadata": {},
     "output_type": "execute_result"
    }
   ],
   "source": [
    "arr[[1,3]]"
   ]
  },
  {
   "cell_type": "code",
   "execution_count": 1,
   "id": "40e5798c-a2f5-4f18-9130-0e6bf4a34cc9",
   "metadata": {},
   "outputs": [
    {
     "data": {
      "text/plain": [
       "[2, 4]"
      ]
     },
     "execution_count": 1,
     "metadata": {},
     "output_type": "execute_result"
    }
   ],
   "source": [
    "# 답지\n",
    "[2, 4]"
   ]
  },
  {
   "cell_type": "markdown",
   "id": "dab83b11-69bf-41f3-bb90-3e85822cfe7d",
   "metadata": {},
   "source": [
    "# 문제 2. 다차원 배열에서 슬라이싱"
   ]
  },
  {
   "cell_type": "code",
   "execution_count": 20,
   "id": "330bff95-1a72-4fbd-a92c-df8c2e437f31",
   "metadata": {},
   "outputs": [],
   "source": [
    "arr = np.array([[1, 2, 3], [4, 5, 6], [7, 8, 9]])"
   ]
  },
  {
   "cell_type": "code",
   "execution_count": 34,
   "id": "78b4e68d-b049-4839-a154-3bd810e24b01",
   "metadata": {},
   "outputs": [
    {
     "data": {
      "text/plain": [
       "array([[2, 3],\n",
       "       [5, 6]])"
      ]
     },
     "execution_count": 34,
     "metadata": {},
     "output_type": "execute_result"
    }
   ],
   "source": [
    "arr[0:2, 1:3]"
   ]
  },
  {
   "cell_type": "code",
   "execution_count": 4,
   "id": "4b8c5543-03ec-4c73-9e54-fc721716c535",
   "metadata": {},
   "outputs": [],
   "source": [
    "# 답지\n",
    "# [[2, 3], [5, 6]]"
   ]
  },
  {
   "cell_type": "markdown",
   "id": "20fca97c-c55b-47dc-83c6-e67cb673ec23",
   "metadata": {},
   "source": [
    "# 문제 3. 배열에서 슬라이싱과 조건 사용"
   ]
  },
  {
   "cell_type": "code",
   "execution_count": 37,
   "id": "b13750ab-60bb-44f1-8477-ba13456a2c6d",
   "metadata": {},
   "outputs": [],
   "source": [
    "arr = np.array([1, 2, 3, 4, 5, 6])"
   ]
  },
  {
   "cell_type": "code",
   "execution_count": 38,
   "id": "6dc2a7eb-1e36-444d-9d8b-27896790213d",
   "metadata": {},
   "outputs": [
    {
     "data": {
      "text/plain": [
       "array([4, 5, 6])"
      ]
     },
     "execution_count": 38,
     "metadata": {},
     "output_type": "execute_result"
    }
   ],
   "source": [
    "arr[3:7]"
   ]
  },
  {
   "cell_type": "code",
   "execution_count": 5,
   "id": "9601f81a-5b72-4dfb-ba76-0af657c5e0a5",
   "metadata": {},
   "outputs": [],
   "source": [
    "# 답지\n",
    "# [4, 5, 6]"
   ]
  },
  {
   "cell_type": "markdown",
   "id": "9b195735-ef24-4fe3-9d49-df193c5c7c36",
   "metadata": {},
   "source": [
    "# 문제 4. 배열의 일부 값 변경\n",
    "- 두 번째와 세 번째 값을 10과 20으로 변경: [1, 10, 20, 4, 5]"
   ]
  },
  {
   "cell_type": "code",
   "execution_count": 39,
   "id": "4cd88502-bf35-4988-a368-9ec5fb6f8fa6",
   "metadata": {},
   "outputs": [],
   "source": [
    "arr = np.array([1, 2, 3, 4, 5])"
   ]
  },
  {
   "cell_type": "code",
   "execution_count": 44,
   "id": "414086fc-9aa0-48c6-8809-ee5e26a62a5f",
   "metadata": {},
   "outputs": [
    {
     "data": {
      "text/plain": [
       "array([ 1, 10, 20,  4,  5])"
      ]
     },
     "execution_count": 44,
     "metadata": {},
     "output_type": "execute_result"
    }
   ],
   "source": [
    "arr[1:3] = [10, 20]\n",
    "arr"
   ]
  },
  {
   "cell_type": "code",
   "execution_count": 15,
   "id": "0236b558-728c-4921-9104-a1e3b256c03f",
   "metadata": {},
   "outputs": [
    {
     "data": {
      "text/plain": [
       "array([ 1, 10, 20,  4,  5])"
      ]
     },
     "execution_count": 15,
     "metadata": {},
     "output_type": "execute_result"
    }
   ],
   "source": [
    "# 답지"
   ]
  },
  {
   "cell_type": "markdown",
   "id": "84aef9d2-1888-4309-8144-cbbd734a47c3",
   "metadata": {},
   "source": [
    "# 문제 5. 다차원 배열의 축 기준으로 슬라이싱\n",
    "- 모든 행의 두번째 열 선택"
   ]
  },
  {
   "cell_type": "code",
   "execution_count": 49,
   "id": "8f29654a-ba0a-4836-ac18-e946313012e7",
   "metadata": {},
   "outputs": [],
   "source": [
    "arr = np.array([[1, 2, 3], [4, 5, 6], [7, 8, 9]])"
   ]
  },
  {
   "cell_type": "code",
   "execution_count": 53,
   "id": "7ef9d88a-373a-4719-ab0f-b9a09eab0d82",
   "metadata": {},
   "outputs": [
    {
     "data": {
      "text/plain": [
       "array([2, 5, 8])"
      ]
     },
     "execution_count": 53,
     "metadata": {},
     "output_type": "execute_result"
    }
   ],
   "source": [
    "arr[:,1]"
   ]
  },
  {
   "cell_type": "code",
   "execution_count": null,
   "id": "2c87490b-2c76-4834-97fe-a9c1e10608fd",
   "metadata": {},
   "outputs": [],
   "source": [
    "# 답지\n",
    "# [2, 5, 8]"
   ]
  },
  {
   "cell_type": "markdown",
   "id": "d7bc395b-4eec-43a8-96d1-d23af0eba67d",
   "metadata": {},
   "source": [
    "# 문제 6. 복합 조건(여러 조건)을 사용\n",
    "- 2보다 크고 5보다 작은 값 조회"
   ]
  },
  {
   "cell_type": "code",
   "execution_count": 74,
   "id": "e373e8f4-a439-4951-af12-31b4a673f120",
   "metadata": {},
   "outputs": [],
   "source": [
    "arr = np.array([1, 2, 3, 4, 5])\n",
    "filtered_arr = arr[(arr > 2) & (arr < 5)]"
   ]
  },
  {
   "cell_type": "code",
   "execution_count": 83,
   "id": "bcb50d79-9335-47bd-9a56-4c6c2768b55d",
   "metadata": {},
   "outputs": [
    {
     "data": {
      "text/plain": [
       "array([3, 4])"
      ]
     },
     "execution_count": 83,
     "metadata": {},
     "output_type": "execute_result"
    }
   ],
   "source": [
    "filtered_arr\n"
   ]
  },
  {
   "cell_type": "code",
   "execution_count": 8,
   "id": "a4a4c3f4-1ef8-4ae5-9fe1-e9f1a0037407",
   "metadata": {},
   "outputs": [
    {
     "data": {
      "text/plain": [
       "[3, 4]"
      ]
     },
     "execution_count": 8,
     "metadata": {},
     "output_type": "execute_result"
    }
   ],
   "source": [
    "# 2보다 크고 5보다 작은 값\n",
    "\n",
    "# 답지\n",
    "[3, 4]"
   ]
  },
  {
   "cell_type": "markdown",
   "id": "7e132a59-7983-487d-810d-b9dadc5c7a9d",
   "metadata": {},
   "source": [
    "# 문제 7. 다차원 배열에 조건 적용\n",
    "- 4보다 큰 값은 그대로, 나머지는 0으로 대체"
   ]
  },
  {
   "cell_type": "code",
   "execution_count": 63,
   "id": "883e9d58-5ed0-4ed0-84a1-4df2724b2235",
   "metadata": {},
   "outputs": [],
   "source": [
    "arr = np.array([[1, 2, 3], [4, 5, 6], [7, 8, 9]])\n",
    "result = np.where(arr > 4, arr, 0) "
   ]
  },
  {
   "cell_type": "code",
   "execution_count": 69,
   "id": "760f0689-6df2-4b92-a80a-8df93a5ee38b",
   "metadata": {},
   "outputs": [
    {
     "data": {
      "text/plain": [
       "array([[0, 0, 0],\n",
       "       [0, 5, 6],\n",
       "       [7, 8, 9]])"
      ]
     },
     "execution_count": 69,
     "metadata": {},
     "output_type": "execute_result"
    }
   ],
   "source": [
    "arr[:] = result\n",
    "arr"
   ]
  },
  {
   "cell_type": "code",
   "execution_count": 15,
   "id": "a067dddf-ae23-4f67-9f38-593e145c6aee",
   "metadata": {},
   "outputs": [
    {
     "data": {
      "text/plain": [
       "[[0, 0, 0], [0, 5, 6], [7, 8, 9]]"
      ]
     },
     "execution_count": 15,
     "metadata": {},
     "output_type": "execute_result"
    }
   ],
   "source": [
    "# 답지\n",
    "[[0, 0, 0], [0, 5, 6], [7, 8, 9]]"
   ]
  },
  {
   "cell_type": "markdown",
   "id": "b7aa639c-9f18-495f-b304-2ae145f5782e",
   "metadata": {},
   "source": [
    "# 문제 8. series에 numpy 적용1\n",
    "- 주어진 Series에서 값이 50보다 큰 경우에는 1로, 그렇지 않은 경우에는 0으로 변경하시오.\n",
    "- numpy 메서드 이용 (numpy.where)"
   ]
  },
  {
   "cell_type": "code",
   "execution_count": 84,
   "id": "04120d63-279f-42c1-bde8-a3e37bb8ba0d",
   "metadata": {},
   "outputs": [],
   "source": [
    "import pandas as pd\n",
    "import numpy as np\n",
    "\n",
    "# Pandas Series 생성\n",
    "series = pd.Series([10, 55, 30, 70, 45])"
   ]
  },
  {
   "cell_type": "code",
   "execution_count": 85,
   "id": "c5a8cf35-036b-4ea5-825b-63a3e56c6805",
   "metadata": {},
   "outputs": [
    {
     "data": {
      "text/plain": [
       "array([0, 1, 0, 1, 0])"
      ]
     },
     "execution_count": 85,
     "metadata": {},
     "output_type": "execute_result"
    }
   ],
   "source": [
    "series_up = np.where(series > 50, 1, 0)\n",
    "series_up"
   ]
  },
  {
   "cell_type": "code",
   "execution_count": 14,
   "id": "4cc8b933-f4ac-4cc6-b794-1996c4ceb21c",
   "metadata": {},
   "outputs": [],
   "source": [
    "# 답지\n",
    "# 결과 출력\n",
    "# [0 1 0 1 0] <class 'numpy.ndarray'>"
   ]
  },
  {
   "cell_type": "markdown",
   "id": "fc4d757f-159f-4b2a-b60f-7bdba0852a95",
   "metadata": {},
   "source": [
    "# 문제 9. series에 numpy 적용2\n",
    "- 주어진 Series에서 값이 30보다 크고 60보다 작은 경우에는 해당 값에 10을 더하고, 그 외의 값은 그대로 두시오.\n",
    "- numpy 메서드 이용 (numpy.where)"
   ]
  },
  {
   "cell_type": "code",
   "execution_count": 86,
   "id": "1c24c950-3ae6-46b6-b286-6cff7d9280c1",
   "metadata": {},
   "outputs": [],
   "source": [
    "# Pandas Series 생성\n",
    "series = pd.Series([25, 35, 45, 60, 75])"
   ]
  },
  {
   "cell_type": "code",
   "execution_count": 87,
   "id": "188ab5e0-f568-46c7-a1cc-fcaaa3cd8f9f",
   "metadata": {},
   "outputs": [
    {
     "data": {
      "text/plain": [
       "array([25, 45, 55, 60, 75])"
      ]
     },
     "execution_count": 87,
     "metadata": {},
     "output_type": "execute_result"
    }
   ],
   "source": [
    "series_p = np.where((series > 30) & (series < 60) , series + 10, series)\n",
    "series_p"
   ]
  },
  {
   "cell_type": "code",
   "execution_count": 18,
   "id": "6de4a0a2-47df-4b0c-a806-0dc3b4f0ef8d",
   "metadata": {},
   "outputs": [
    {
     "name": "stdout",
     "output_type": "stream",
     "text": [
      "0    25\n",
      "1    45\n",
      "2    55\n",
      "3    60\n",
      "4    75\n",
      "dtype: int64\n"
     ]
    }
   ],
   "source": [
    "# Series 결과 답안\n",
    "result_series = pd.Series([25, 45, 55, 60, 75])\n",
    "\n",
    "# 결과 출력\n",
    "print(result_series)"
   ]
  },
  {
   "cell_type": "markdown",
   "id": "fcf184e2-52b8-40da-807b-76f739e7dafd",
   "metadata": {},
   "source": [
    "# 문제 10. 다중 조건\n",
    "- 주어진 Series에서 cond 리스트에 조건을 정의하고, 각 조건을 만족하는 값에 대해 다른 연산을 수행하여 새로운 Series를 생성하시오.\n",
    "    + cond[0]: 값이 50보다 크면 해당 값을 2배로 증가시킴.\n",
    "    + cond[1]: 값이 30보다 작으면 해당 값을 10으로 변경.\n",
    "    + 그 외의 값은 그대로 유지."
   ]
  },
  {
   "cell_type": "code",
   "execution_count": 19,
   "id": "d253ae00-1a88-4a73-91f1-e0722989c4f0",
   "metadata": {},
   "outputs": [],
   "source": [
    "series = pd.Series([25, 45, 55, 60, 75])"
   ]
  },
  {
   "cell_type": "code",
   "execution_count": 97,
   "id": "8e5e9d43-eca4-4c92-8b9b-ccafaf8a41fd",
   "metadata": {},
   "outputs": [
    {
     "ename": "SyntaxError",
     "evalue": "invalid syntax (4141724971.py, line 1)",
     "output_type": "error",
     "traceback": [
      "\u001b[1;36m  Cell \u001b[1;32mIn[97], line 1\u001b[1;36m\u001b[0m\n\u001b[1;33m    cond_0 = series[].apply(lambda x : x > 50, x * 2, x)\u001b[0m\n\u001b[1;37m                    ^\u001b[0m\n\u001b[1;31mSyntaxError\u001b[0m\u001b[1;31m:\u001b[0m invalid syntax\n"
     ]
    }
   ],
   "source": []
  },
  {
   "cell_type": "code",
   "execution_count": 20,
   "id": "b8673339-38e1-4982-ab2f-23b6b36e49a8",
   "metadata": {},
   "outputs": [
    {
     "data": {
      "text/plain": [
       "0     10\n",
       "1     45\n",
       "2    110\n",
       "3    120\n",
       "4    150\n",
       "dtype: int64"
      ]
     },
     "execution_count": 20,
     "metadata": {},
     "output_type": "execute_result"
    }
   ],
   "source": [
    "# 결과 답안\n",
    "pd.Series([10, 45, 110, 120, 150])"
   ]
  }
 ],
 "metadata": {
  "kernelspec": {
   "display_name": "Python 3 (ipykernel)",
   "language": "python",
   "name": "python3"
  },
  "language_info": {
   "codemirror_mode": {
    "name": "ipython",
    "version": 3
   },
   "file_extension": ".py",
   "mimetype": "text/x-python",
   "name": "python",
   "nbconvert_exporter": "python",
   "pygments_lexer": "ipython3",
   "version": "3.12.6"
  }
 },
 "nbformat": 4,
 "nbformat_minor": 5
}
