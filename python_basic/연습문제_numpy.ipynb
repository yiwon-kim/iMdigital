{
 "cells": [
  {
   "cell_type": "markdown",
   "id": "4a0ac583-5dea-4bc7-8e28-c8426ae31695",
   "metadata": {},
   "source": [
    "## 문제 1. \n",
    "문제: 모든 값이 0으로 2차원 배열 (5, 5) 만드세요. "
   ]
  },
  {
   "cell_type": "code",
   "execution_count": 30,
   "id": "01021538-21fb-4f26-a490-81069ab3ad1f",
   "metadata": {},
   "outputs": [
    {
     "name": "stdout",
     "output_type": "stream",
     "text": [
      "[[0. 0. 0. 0. 0.]\n",
      " [0. 0. 0. 0. 0.]\n",
      " [0. 0. 0. 0. 0.]\n",
      " [0. 0. 0. 0. 0.]\n",
      " [0. 0. 0. 0. 0.]]\n",
      "[[0. 0. 0. 0. 0.]\n",
      " [0. 0. 0. 0. 0.]\n",
      " [0. 0. 0. 0. 0.]\n",
      " [0. 0. 0. 0. 0.]\n",
      " [0. 0. 0. 0. 0.]]\n"
     ]
    }
   ],
   "source": [
    "import numpy as np\n",
    "\n",
    "arr1 = np.zeros(25).reshape(5,5)\n",
    "arrr = np.zeros((5,5)) #안에 튜플 값으로 넣으면 배열 된다 \n",
    "print(arr1)\n",
    "print(arrr)\n"
   ]
  },
  {
   "cell_type": "markdown",
   "id": "4682403f-5dc0-45dc-a93f-3e8ad86e7406",
   "metadata": {},
   "source": [
    "## 문제 2. \n",
    "임의의 3x3 크기의 배열을 생성하고 배열의 shape(모양), dtype(데이터 타입), 그리고 배열의 차원 수(ndim)를 출력하세요."
   ]
  },
  {
   "cell_type": "code",
   "execution_count": 33,
   "id": "af719fe1-67f3-4c51-8194-d79c6c521d0b",
   "metadata": {},
   "outputs": [
    {
     "data": {
      "text/plain": [
       "(array([[0, 1, 2],\n",
       "        [3, 4, 5],\n",
       "        [6, 7, 8]]),\n",
       " (3, 3),\n",
       " dtype('int64'),\n",
       " 2)"
      ]
     },
     "execution_count": 33,
     "metadata": {},
     "output_type": "execute_result"
    }
   ],
   "source": [
    "\n",
    "arr2 = np.arange(9).reshape(3, 3)\n",
    "arr2, arr2.shape, arr2.dtype, arr2.ndim\n",
    " "
   ]
  },
  {
   "cell_type": "markdown",
   "id": "62e9e182-6e32-41aa-833c-331a36a0753c",
   "metadata": {},
   "source": [
    "## 문제 3. \n",
    "- 주어진 배열에서 아래와 같이 슬라이싱 하세요. \n",
    "```\n",
    "array([[ 5,  6],\n",
    "       [ 9, 10]])\n",
    "```"
   ]
  },
  {
   "cell_type": "code",
   "execution_count": 24,
   "id": "f0020d3e-0cca-4d90-b9a2-f4a8ca3531af",
   "metadata": {},
   "outputs": [
    {
     "data": {
      "text/plain": [
       "array([[ 0,  1,  2,  3],\n",
       "       [ 4,  5,  6,  7],\n",
       "       [ 8,  9, 10, 11],\n",
       "       [12, 13, 14, 15]])"
      ]
     },
     "execution_count": 24,
     "metadata": {},
     "output_type": "execute_result"
    }
   ],
   "source": [
    "arr = np.arange(16).reshape(4, 4)\n",
    "arr"
   ]
  },
  {
   "cell_type": "code",
   "execution_count": 25,
   "id": "52cfdf99-9fc6-4e08-b743-b621c9606b5a",
   "metadata": {},
   "outputs": [
    {
     "data": {
      "text/plain": [
       "array([[ 5,  6],\n",
       "       [ 9, 10]])"
      ]
     },
     "execution_count": 25,
     "metadata": {},
     "output_type": "execute_result"
    }
   ],
   "source": [
    "arr[1:3,1:3]"
   ]
  }
 ],
 "metadata": {
  "kernelspec": {
   "display_name": "Python 3 (ipykernel)",
   "language": "python",
   "name": "python3"
  },
  "language_info": {
   "codemirror_mode": {
    "name": "ipython",
    "version": 3
   },
   "file_extension": ".py",
   "mimetype": "text/x-python",
   "name": "python",
   "nbconvert_exporter": "python",
   "pygments_lexer": "ipython3",
   "version": "3.12.6"
  }
 },
 "nbformat": 4,
 "nbformat_minor": 5
}
