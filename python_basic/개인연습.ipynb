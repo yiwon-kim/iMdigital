{
 "cells": [
  {
   "cell_type": "markdown",
   "id": "13998404-40b9-41b2-be18-2dc235fb4cfe",
   "metadata": {},
   "source": [
    "# 0927 연습"
   ]
  },
  {
   "cell_type": "markdown",
   "id": "caacd1c1-e1ef-44cc-b2af-769dd46224fb",
   "metadata": {},
   "source": [
    "문제 1: 리스트 합계\n",
    "1부터 10까지의 숫자를 포함하는 리스트를 생성하고, 이 숫자들의 합계를 구하는 코드를 작성하세요."
   ]
  },
  {
   "cell_type": "code",
   "execution_count": 11,
   "id": "49e5d684-6cd0-4059-ba56-bee1785c60b8",
   "metadata": {},
   "outputs": [],
   "source": [
    "import numpy as np\n",
    "import pandas as pd"
   ]
  },
  {
   "cell_type": "code",
   "execution_count": 17,
   "id": "5c6fdc77-40ad-4132-8b03-2291eee76b29",
   "metadata": {},
   "outputs": [
    {
     "data": {
      "text/plain": [
       "np.int64(55)"
      ]
     },
     "execution_count": 17,
     "metadata": {},
     "output_type": "execute_result"
    }
   ],
   "source": [
    "list1 = np.arange(1,11)\n",
    "list1.sum()"
   ]
  },
  {
   "cell_type": "markdown",
   "id": "3aaf3eea-664f-4357-911c-459e1ac972fc",
   "metadata": {},
   "source": [
    "문제 2: Numpy 배열\n",
    "1부터 20까지의 숫자를 포함하는 Numpy 배열을 생성하고, 배열의 평균과 표준편차를 구하세요."
   ]
  },
  {
   "cell_type": "code",
   "execution_count": 29,
   "id": "35a6502a-dcb0-45f1-94f3-113aac828f90",
   "metadata": {},
   "outputs": [
    {
     "data": {
      "text/plain": [
       "(np.float64(10.5), np.float64(5.766281297335398))"
      ]
     },
     "execution_count": 29,
     "metadata": {},
     "output_type": "execute_result"
    }
   ],
   "source": [
    "coun = np.arange(1,21)\n",
    "list2 = np.array(coun)\n",
    "type(list2)\n",
    "list2.mean(), list2.std()"
   ]
  },
  {
   "cell_type": "markdown",
   "id": "54642d12-f7a9-434a-9b13-310a6b448686",
   "metadata": {},
   "source": [
    "문제 3: Pandas 데이터프레임 생성\n",
    "학생 이름과 점수를 포함하는 데이터프레임을 생성하세요. 이름은 \"Alice\", \"Bob\", \"Charlie\"이고, 점수는 각각 85, 90, 78입니다."
   ]
  },
  {
   "cell_type": "code",
   "execution_count": 115,
   "id": "f80404ad-4d43-4be7-b39a-4ee5fceb933b",
   "metadata": {},
   "outputs": [
    {
     "data": {
      "text/html": [
       "<div>\n",
       "<style scoped>\n",
       "    .dataframe tbody tr th:only-of-type {\n",
       "        vertical-align: middle;\n",
       "    }\n",
       "\n",
       "    .dataframe tbody tr th {\n",
       "        vertical-align: top;\n",
       "    }\n",
       "\n",
       "    .dataframe thead th {\n",
       "        text-align: right;\n",
       "    }\n",
       "</style>\n",
       "<table border=\"1\" class=\"dataframe\">\n",
       "  <thead>\n",
       "    <tr style=\"text-align: right;\">\n",
       "      <th></th>\n",
       "      <th>name</th>\n",
       "      <th>score</th>\n",
       "    </tr>\n",
       "  </thead>\n",
       "  <tbody>\n",
       "    <tr>\n",
       "      <th>0</th>\n",
       "      <td>Alice</td>\n",
       "      <td>85</td>\n",
       "    </tr>\n",
       "    <tr>\n",
       "      <th>1</th>\n",
       "      <td>Bob</td>\n",
       "      <td>90</td>\n",
       "    </tr>\n",
       "    <tr>\n",
       "      <th>2</th>\n",
       "      <td>Charlie</td>\n",
       "      <td>78</td>\n",
       "    </tr>\n",
       "  </tbody>\n",
       "</table>\n",
       "</div>"
      ],
      "text/plain": [
       "      name  score\n",
       "0    Alice     85\n",
       "1      Bob     90\n",
       "2  Charlie     78"
      ]
     },
     "execution_count": 115,
     "metadata": {},
     "output_type": "execute_result"
    }
   ],
   "source": [
    "panda = pd.DataFrame({'name' : [\"Alice\", \"Bob\", \"Charlie\"],'score' : [85, 90, 78]})\n",
    "panda"
   ]
  },
  {
   "cell_type": "markdown",
   "id": "51061ae4-37b4-4fab-8837-14ffaa7d656f",
   "metadata": {},
   "source": [
    "문제 4: 데이터프레임 열 추가\n",
    "위에서 생성한 데이터프레임에 \"Pass/Fail\"이라는 새 열을 추가하세요. 점수가 80 이상이면 \"Pass\", 미만이면 \"Fail\"로 표시합니다."
   ]
  },
  {
   "cell_type": "code",
   "execution_count": 116,
   "id": "c556b885-ebfe-4b07-bf56-5b59bda9f1de",
   "metadata": {},
   "outputs": [
    {
     "data": {
      "text/html": [
       "<div>\n",
       "<style scoped>\n",
       "    .dataframe tbody tr th:only-of-type {\n",
       "        vertical-align: middle;\n",
       "    }\n",
       "\n",
       "    .dataframe tbody tr th {\n",
       "        vertical-align: top;\n",
       "    }\n",
       "\n",
       "    .dataframe thead th {\n",
       "        text-align: right;\n",
       "    }\n",
       "</style>\n",
       "<table border=\"1\" class=\"dataframe\">\n",
       "  <thead>\n",
       "    <tr style=\"text-align: right;\">\n",
       "      <th></th>\n",
       "      <th>name</th>\n",
       "      <th>score</th>\n",
       "      <th>pass/fail</th>\n",
       "    </tr>\n",
       "  </thead>\n",
       "  <tbody>\n",
       "    <tr>\n",
       "      <th>0</th>\n",
       "      <td>Alice</td>\n",
       "      <td>85</td>\n",
       "      <td>Pass</td>\n",
       "    </tr>\n",
       "    <tr>\n",
       "      <th>1</th>\n",
       "      <td>Bob</td>\n",
       "      <td>90</td>\n",
       "      <td>Pass</td>\n",
       "    </tr>\n",
       "    <tr>\n",
       "      <th>2</th>\n",
       "      <td>Charlie</td>\n",
       "      <td>78</td>\n",
       "      <td>Fail</td>\n",
       "    </tr>\n",
       "  </tbody>\n",
       "</table>\n",
       "</div>"
      ],
      "text/plain": [
       "      name  score pass/fail\n",
       "0    Alice     85      Pass\n",
       "1      Bob     90      Pass\n",
       "2  Charlie     78      Fail"
      ]
     },
     "execution_count": 116,
     "metadata": {},
     "output_type": "execute_result"
    }
   ],
   "source": [
    "panda['pass/fail'] = panda['score'].apply(lambda x : \"Pass\" if x >= 80 else \"Fail\")\n",
    "# panda['pass/fail'] = panda['score'].apply(lambda x : \"Pass\" if x >= 80 else \"Fail\")\n",
    "panda"
   ]
  },
  {
   "cell_type": "code",
   "execution_count": 117,
   "id": "e042a8fa-78cb-490e-9848-c9b52295e144",
   "metadata": {},
   "outputs": [
    {
     "data": {
      "text/html": [
       "<div>\n",
       "<style scoped>\n",
       "    .dataframe tbody tr th:only-of-type {\n",
       "        vertical-align: middle;\n",
       "    }\n",
       "\n",
       "    .dataframe tbody tr th {\n",
       "        vertical-align: top;\n",
       "    }\n",
       "\n",
       "    .dataframe thead th {\n",
       "        text-align: right;\n",
       "    }\n",
       "</style>\n",
       "<table border=\"1\" class=\"dataframe\">\n",
       "  <thead>\n",
       "    <tr style=\"text-align: right;\">\n",
       "      <th></th>\n",
       "      <th>name</th>\n",
       "      <th>score</th>\n",
       "      <th>pass/fail</th>\n",
       "    </tr>\n",
       "  </thead>\n",
       "  <tbody>\n",
       "    <tr>\n",
       "      <th>0</th>\n",
       "      <td>kim</td>\n",
       "      <td>60</td>\n",
       "      <td>Fail</td>\n",
       "    </tr>\n",
       "  </tbody>\n",
       "</table>\n",
       "</div>"
      ],
      "text/plain": [
       "  name  score pass/fail\n",
       "0  kim     60      Fail"
      ]
     },
     "execution_count": 117,
     "metadata": {},
     "output_type": "execute_result"
    }
   ],
   "source": [
    "new = pd.DataFrame({'name' : ['kim'], 'score' : [60]})\n",
    "new['pass/fail'] = new['score'].apply(lambda x : \"Pass\" if x >= 80 else \"Fail\")\n",
    "new"
   ]
  },
  {
   "cell_type": "code",
   "execution_count": 118,
   "id": "9cb0d50a-0207-4e78-b378-2dcd521ba2a3",
   "metadata": {},
   "outputs": [],
   "source": [
    "panda = pd.concat([panda,new], ignore_index=True)"
   ]
  },
  {
   "cell_type": "code",
   "execution_count": 119,
   "id": "9e816836-6760-4596-b387-78764bc34374",
   "metadata": {},
   "outputs": [
    {
     "data": {
      "text/html": [
       "<div>\n",
       "<style scoped>\n",
       "    .dataframe tbody tr th:only-of-type {\n",
       "        vertical-align: middle;\n",
       "    }\n",
       "\n",
       "    .dataframe tbody tr th {\n",
       "        vertical-align: top;\n",
       "    }\n",
       "\n",
       "    .dataframe thead th {\n",
       "        text-align: right;\n",
       "    }\n",
       "</style>\n",
       "<table border=\"1\" class=\"dataframe\">\n",
       "  <thead>\n",
       "    <tr style=\"text-align: right;\">\n",
       "      <th></th>\n",
       "      <th>name</th>\n",
       "      <th>score</th>\n",
       "      <th>pass/fail</th>\n",
       "    </tr>\n",
       "  </thead>\n",
       "  <tbody>\n",
       "    <tr>\n",
       "      <th>0</th>\n",
       "      <td>Alice</td>\n",
       "      <td>85</td>\n",
       "      <td>Pass</td>\n",
       "    </tr>\n",
       "    <tr>\n",
       "      <th>1</th>\n",
       "      <td>Bob</td>\n",
       "      <td>90</td>\n",
       "      <td>Pass</td>\n",
       "    </tr>\n",
       "    <tr>\n",
       "      <th>2</th>\n",
       "      <td>Charlie</td>\n",
       "      <td>78</td>\n",
       "      <td>Fail</td>\n",
       "    </tr>\n",
       "    <tr>\n",
       "      <th>3</th>\n",
       "      <td>kim</td>\n",
       "      <td>60</td>\n",
       "      <td>Fail</td>\n",
       "    </tr>\n",
       "  </tbody>\n",
       "</table>\n",
       "</div>"
      ],
      "text/plain": [
       "      name  score pass/fail\n",
       "0    Alice     85      Pass\n",
       "1      Bob     90      Pass\n",
       "2  Charlie     78      Fail\n",
       "3      kim     60      Fail"
      ]
     },
     "execution_count": 119,
     "metadata": {},
     "output_type": "execute_result"
    }
   ],
   "source": [
    "panda"
   ]
  },
  {
   "cell_type": "markdown",
   "id": "defc8d81-6d89-4f83-811b-47e1c238c76a",
   "metadata": {},
   "source": [
    "문제 5: 필터링\n",
    "위 데이터프레임에서 점수가 80 이상인 학생만 필터링하여 새로운 데이터프레임을 만드세요."
   ]
  },
  {
   "cell_type": "code",
   "execution_count": 62,
   "id": "9c2d470b-1ad1-415f-b3c6-1b0bc7ff9404",
   "metadata": {},
   "outputs": [
    {
     "data": {
      "text/html": [
       "<div>\n",
       "<style scoped>\n",
       "    .dataframe tbody tr th:only-of-type {\n",
       "        vertical-align: middle;\n",
       "    }\n",
       "\n",
       "    .dataframe tbody tr th {\n",
       "        vertical-align: top;\n",
       "    }\n",
       "\n",
       "    .dataframe thead th {\n",
       "        text-align: right;\n",
       "    }\n",
       "</style>\n",
       "<table border=\"1\" class=\"dataframe\">\n",
       "  <thead>\n",
       "    <tr style=\"text-align: right;\">\n",
       "      <th></th>\n",
       "      <th>name</th>\n",
       "      <th>score</th>\n",
       "    </tr>\n",
       "  </thead>\n",
       "  <tbody>\n",
       "    <tr>\n",
       "      <th>0</th>\n",
       "      <td>Alice</td>\n",
       "      <td>85</td>\n",
       "    </tr>\n",
       "    <tr>\n",
       "      <th>1</th>\n",
       "      <td>Bob</td>\n",
       "      <td>90</td>\n",
       "    </tr>\n",
       "  </tbody>\n",
       "</table>\n",
       "</div>"
      ],
      "text/plain": [
       "    name  score\n",
       "0  Alice     85\n",
       "1    Bob     90"
      ]
     },
     "execution_count": 62,
     "metadata": {},
     "output_type": "execute_result"
    }
   ],
   "source": [
    "\n",
    "panda_80 = panda[panda['score'] >= 80]\n",
    "panda_80"
   ]
  },
  {
   "cell_type": "markdown",
   "id": "15ad53e6-8550-499e-aec7-d3bcbe9ba66b",
   "metadata": {},
   "source": [
    "문제 6: Numpy 배열 슬라이싱\n",
    "1부터 100까지의 숫자를 포함하는 Numpy 배열을 생성한 후, 20부터 50까지의 숫자만 포함하는 서브 배열을 슬라이싱하여 출력하세요."
   ]
  },
  {
   "cell_type": "markdown",
   "id": "15919f6e-836e-45ba-864d-4eecc08bebe0",
   "metadata": {},
   "source": [
    "# 문제 7: Pandas 그룹화\n",
    "# 아래와 같은 데이터프레임을 생성하고, 각 과목별 평균 점수를 구하세요.\n",
    "# \n",
    "# data = {\n",
    "#     'Name': ['Alice', 'Bob', 'Charlie', 'Alice', 'Bob', 'Charlie'],\n",
    "#     'Subject': ['Math', 'Math', 'Math', 'Science', 'Science', 'Science'],\n",
    "#     'Score': [85, 90, 78, 92, 88, 80]\n",
    "# }"
   ]
  },
  {
   "cell_type": "markdown",
   "id": "6e4ad154-26b0-4b46-82bc-6531b0ae3005",
   "metadata": {},
   "source": [
    "# 문제 8: Numpy 연산\n",
    "# 1부터 10까지의 Numpy 배열을 생성한 후, 각 요소에 5를 더한 새로운 배열을 생성하세요."
   ]
  },
  {
   "cell_type": "markdown",
   "id": "304e0a2a-e230-4586-bf3e-e690ecc6d5b8",
   "metadata": {},
   "source": [
    "# 문제 9: Pandas 정렬\n",
    "# 위에서 생성한 데이터프레임을 점수 기준으로 내림차순 정렬하세요."
   ]
  },
  {
   "cell_type": "markdown",
   "id": "9b25d251-99ad-412f-ba51-173eb516507c",
   "metadata": {},
   "source": [
    "# 문제 10: 기초 통계\n",
    "# 랜덤으로 생성된 100개의 숫자를 포함하는 Numpy 배열을 만들고, 이 배열의 최대값, 최소값, 평균값을 구하세요."
   ]
  },
  {
   "cell_type": "code",
   "execution_count": null,
   "id": "a58423d2-1abf-4a1b-819d-87ec09104687",
   "metadata": {},
   "outputs": [],
   "source": []
  },
  {
   "cell_type": "code",
   "execution_count": null,
   "id": "7e920370-0fbc-4352-a57d-ce95c2099501",
   "metadata": {},
   "outputs": [],
   "source": []
  },
  {
   "cell_type": "code",
   "execution_count": null,
   "id": "95b031ed-ef60-462a-bbcb-ffa2152d813e",
   "metadata": {},
   "outputs": [],
   "source": []
  }
 ],
 "metadata": {
  "kernelspec": {
   "display_name": "Python 3 (ipykernel)",
   "language": "python",
   "name": "python3"
  },
  "language_info": {
   "codemirror_mode": {
    "name": "ipython",
    "version": 3
   },
   "file_extension": ".py",
   "mimetype": "text/x-python",
   "name": "python",
   "nbconvert_exporter": "python",
   "pygments_lexer": "ipython3",
   "version": "3.12.6"
  }
 },
 "nbformat": 4,
 "nbformat_minor": 5
}
