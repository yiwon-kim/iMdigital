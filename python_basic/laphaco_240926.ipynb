{
 "cells": [
  {
   "cell_type": "markdown",
   "id": "84137dbd-4142-4f0a-bf62-4961a9ed3bec",
   "metadata": {},
   "source": [
    "# 클래스 선언"
   ]
  },
  {
   "cell_type": "code",
   "execution_count": 7,
   "id": "48ce133a-53ae-4770-bb22-380daabdf0bc",
   "metadata": {},
   "outputs": [],
   "source": [
    "class Bicycle():\n",
    "    pass # 클래스 선언 기초 도입\n",
    "    "
   ]
  },
  {
   "cell_type": "markdown",
   "id": "c3e6dce9-e7e3-4979-8df3-2debe75e8924",
   "metadata": {},
   "source": [
    "# 클래스 선언 했으니, 객체 생성 해야됨"
   ]
  },
  {
   "cell_type": "markdown",
   "id": "9b755f0b-bc2c-434b-bb91-f8100a811dfa",
   "metadata": {},
   "source": [
    "#객체 생성"
   ]
  },
  {
   "cell_type": "code",
   "execution_count": 8,
   "id": "adfabba0-89b9-4016-8aa3-f0a5563625d1",
   "metadata": {},
   "outputs": [
    {
     "data": {
      "text/plain": [
       "<__main__.Bicycle at 0x214f4208d10>"
      ]
     },
     "execution_count": 8,
     "metadata": {},
     "output_type": "execute_result"
    }
   ],
   "source": [
    "my_bicycle = Bicycle() # 객체 생성 된 것\n",
    "my_bicycle"
   ]
  },
  {
   "cell_type": "markdown",
   "id": "a42ac1b0-67ec-4642-ac85-b8d11f081fd3",
   "metadata": {},
   "source": [
    "#클래스 변수 정의"
   ]
  },
  {
   "cell_type": "code",
   "execution_count": 9,
   "id": "077e8879-1651-4559-9ea2-2706df8a2b14",
   "metadata": {},
   "outputs": [],
   "source": [
    "my_bicycle.wheel_size = 26\n",
    "my_bicycle.color = \"black\""
   ]
  },
  {
   "cell_type": "code",
   "execution_count": 10,
   "id": "591d46e1-4f2b-4cd3-9d2c-265e37f1adb2",
   "metadata": {},
   "outputs": [
    {
     "name": "stdout",
     "output_type": "stream",
     "text": [
      "26\n"
     ]
    }
   ],
   "source": [
    "print(my_bicycle.wheel_size)"
   ]
  },
  {
   "cell_type": "code",
   "execution_count": 11,
   "id": "14e0681c-200f-4692-b3bf-a078ec68ff20",
   "metadata": {},
   "outputs": [],
   "source": [
    "class 책:\n",
    "    title = None\n",
    "    author = None\n",
    "    pages = 0\n",
    "    price = 0\n",
    "    discount = 0"
   ]
  },
  {
   "cell_type": "code",
   "execution_count": 13,
   "id": "6a931b89-9706-4776-b334-69aeb4a76226",
   "metadata": {},
   "outputs": [],
   "source": [
    "class Bicycle():\n",
    "    def __init__(self, wheel_size, color):\n",
    "        self.wheel_size = wheel_size\n",
    "        self.color = color"
   ]
  },
  {
   "cell_type": "code",
   "execution_count": 17,
   "id": "05fe9533-7210-4185-bbb4-fc8d7dca92ea",
   "metadata": {},
   "outputs": [
    {
     "name": "stdout",
     "output_type": "stream",
     "text": [
      "26 black\n",
      "자전거 : 시속 60 킬로미터로 전진\n"
     ]
    }
   ],
   "source": [
    "class Bicycle(): # 클래스 속성을 정의함\n",
    "    def __init__(self, wheel_size, color):\n",
    "        self.wheel_size = wheel_size\n",
    "        self.color = color\n",
    "\n",
    "    #메서드\n",
    "    def move(self, speed):\n",
    "        print(f\"자전거 : 시속 {speed} 킬로미터로 전진\")\n",
    "\n",
    "my_bicycle = Bicycle(26, 'black') # 객체 생성과 동시에 속성값을 지정.\n",
    "print(my_bicycle.wheel_size, my_bicycle.color)\n",
    "\n",
    "my_bicycle.move(60)"
   ]
  },
  {
   "cell_type": "markdown",
   "id": "61150d2d-6306-4500-8ad2-32fe4482275e",
   "metadata": {},
   "source": [
    "# 문제\n",
    "- Person 클래스 만드세요\n",
    "    + 속성 : 이름(name), 나이(age)\n",
    "    + greet() 메서드\n",
    "  "
   ]
  },
  {
   "cell_type": "code",
   "execution_count": 31,
   "id": "29bf752c-42eb-40ca-9aa8-d92abd35b124",
   "metadata": {},
   "outputs": [],
   "source": [
    "class Person():\n",
    "    def __init__(self, name, age):\n",
    "        self.name = name # 이름 속성\n",
    "        self.age = age # 나이 속성\n",
    "\n",
    "    def greet(self):\n",
    "        print(f\"안녕하세요 저는{self.name}이고, {self.age}살 입니다.\")\n"
   ]
  },
  {
   "cell_type": "code",
   "execution_count": 32,
   "id": "327a3089-7181-4142-97eb-692c5301999d",
   "metadata": {},
   "outputs": [
    {
     "name": "stdout",
     "output_type": "stream",
     "text": [
      "안녕하세요 저는김이고, 25살 입니다.\n"
     ]
    }
   ],
   "source": [
    "me = Person(\"김\", 25)\n",
    "me.greet()"
   ]
  },
  {
   "cell_type": "code",
   "execution_count": 33,
   "id": "f04573ad-2248-4581-950d-b33e0bd6500e",
   "metadata": {},
   "outputs": [
    {
     "name": "stdout",
     "output_type": "stream",
     "text": [
      "안녕하세요 저는park이고, 33살 입니다.\n"
     ]
    }
   ],
   "source": [
    "kim = Person(\"park\", 33)\n",
    "kim.greet()"
   ]
  },
  {
   "cell_type": "code",
   "execution_count": 36,
   "id": "4feb2a4f-f969-4c0e-8435-3d58a48d56f4",
   "metadata": {},
   "outputs": [
    {
     "name": "stdout",
     "output_type": "stream",
     "text": [
      "안녕하세요, 친구님 저는요이고, 14살 입니다.\n"
     ]
    }
   ],
   "source": [
    "class Person():\n",
    "    def __init__(self, name, age):\n",
    "        self.name = name # 이름 속성\n",
    "        self.age = age # 나이 속성\n",
    "\n",
    "    def greet(self, other_name): # other_name은 메소드(함수)에 사용되는 매개변수이기 때문에 self. 입력은 필요 없다. class 속성 지정 할 때는 self. 넣어줘야함\n",
    "    #def greet(self, other_name=\"친구\"): 디폴트값 넣어주면 따로 매개변수 값 입력 해주지 않아도 고정 값이 표현 됨 \n",
    "        print(f\"안녕하세요, {other_name}님 저는{self.name}이고, {self.age}살 입니다.\")\n",
    "\n",
    "yo = Person(\"요\", 14)\n",
    "yo.greet(\"친구\")\n",
    "#yo.greet() # 입력 안하면 디폴트값, 다른값 입력하면 입력값"
   ]
  },
  {
   "cell_type": "markdown",
   "id": "3b23f31c-3d90-4622-b479-a3420e9c2653",
   "metadata": {},
   "source": [
    "# 다양한 메서드 추가"
   ]
  },
  {
   "cell_type": "code",
   "execution_count": 37,
   "id": "4a09a773-0f83-4b10-be0e-42561017d3ff",
   "metadata": {},
   "outputs": [
    {
     "name": "stdout",
     "output_type": "stream",
     "text": [
      "자전거 : 시속 30 킬로미터로 전진\n",
      "26, black의 특성을 가진 자전거님 정지하세요\n"
     ]
    }
   ],
   "source": [
    "class Bicycle(): # 클래스 속성을 정의함\n",
    "    def __init__(self, wheel_size, color):\n",
    "        self.wheel_size = wheel_size\n",
    "        self.color = color\n",
    "\n",
    "    #메서드\n",
    "    def move(self, speed):\n",
    "        print(f\"자전거 : 시속 {speed} 킬로미터로 전진\")\n",
    "\n",
    "    def stop(self):\n",
    "        print(f\"{self.wheel_size}, {self.color}의 특성을 가진 자전거님 정지하세요\")\n",
    "\n",
    "my_bicycle = Bicycle(26, \"black\")\n",
    "my_bicycle.move(30)\n",
    "my_bicycle.stop()"
   ]
  },
  {
   "cell_type": "markdown",
   "id": "4dd0f31b-baa9-4438-95f1-1647bf02bf10",
   "metadata": {},
   "source": [
    "- 클래스를 만든다고 할 때, 클래스명 특성과 행동을 정의하는 것이 핵심 포인트\n",
    "- 자전거 != 자동차 때문에 각 클래스에 맞춰 속성을 정의 해야함\n",
    "\n",
    "- 시각화를 그리려고 함 (버전 1.0대) (각각 다 속성을 정의 해줘야함 ... )\n",
    "  + 도면 클래스 : 다양한 속성과 함수들이 존재\n",
    "  + 그리기 도구 클래스 : 다양한 속성과 함수들이 존재\n",
    "  + 막대그래프 클래스\n",
    "  + 파이차트 클래스\n",
    "\n",
    "  + 3D 그리기 클래스 추가 -> (버전 1.5)\n",
    "\n",
    "- 3D 그리기 클래스 추가 어려워 뒤집어 엎으면 -> (버전 2.0)\n",
    "  "
   ]
  },
  {
   "cell_type": "markdown",
   "id": "dff4f01c-3415-42bb-959d-6e32256a90ea",
   "metadata": {},
   "source": [
    "# 클래스에서 사용하는 변수"
   ]
  },
  {
   "cell_type": "code",
   "execution_count": 41,
   "id": "bb9889c1-be48-4896-9ee5-70768be88393",
   "metadata": {},
   "outputs": [],
   "source": [
    "class Car():\n",
    "    # 클래스 변수\n",
    "    instance_count = 0 # 클래스 변수 생성 및 초기화\n",
    "\n",
    "    def __init__(self, size, color):\n",
    "        self.size = size # 인스턴스 변수 생성 및 초기화\n",
    "        self.color = color # 인스턴스 변수 생성 및 초기화\n",
    "        Car.instance_count = Car.instance_count + 1 # 클래스 변수 이용 하는 방법\n",
    "        print(f\"자동차 객체의 수: {Car.instance_count}\")\n",
    "\n",
    "    #메서드\n",
    "    def move(self):\n",
    "        print(f\"자동차 {self.sieze}, {self.color}가 움직입니다.\")"
   ]
  },
  {
   "cell_type": "code",
   "execution_count": 46,
   "id": "c3183c97-a76b-420f-9330-4f57f70a4af3",
   "metadata": {},
   "outputs": [
    {
     "name": "stdout",
     "output_type": "stream",
     "text": [
      "자동차 객체의 수: 11\n",
      "자동차 객체의 수: 12\n",
      "자동차 객체의 수: 13\n"
     ]
    }
   ],
   "source": [
    "car1 = Car('small', 'white')\n",
    "car2 = Car('big', 'black')\n",
    "car3 = Car('mideum', 'yellow')"
   ]
  },
  {
   "cell_type": "markdown",
   "id": "dc3d5ab0-f76d-4e20-b00e-232e789dd76b",
   "metadata": {},
   "source": [
    "## 상속의 기본 형태 "
   ]
  },
  {
   "cell_type": "code",
   "execution_count": 48,
   "id": "d7fef79e-56f9-41fb-8835-7dddb2cead74",
   "metadata": {},
   "outputs": [],
   "source": [
    "class 상위클래스():\n",
    "    pass\n",
    "\n",
    "class 하위클래스(상위클래스):\n",
    "    pass\n",
    "    "
   ]
  },
  {
   "cell_type": "code",
   "execution_count": 49,
   "id": "76513fd1-bbf1-4a68-a864-8e549b0dc18b",
   "metadata": {},
   "outputs": [],
   "source": [
    "class 동물:\n",
    "\n",
    "    name = \"\"\n",
    "\n",
    "    def 음식먹기(self):\n",
    "        print(\"저는 음식을 먹습니다\")"
   ]
  },
  {
   "cell_type": "code",
   "execution_count": 52,
   "id": "a0c25b16-2556-44a8-b529-c2a3d5055243",
   "metadata": {},
   "outputs": [
    {
     "name": "stdout",
     "output_type": "stream",
     "text": [
      "저는 음식을 먹습니다\n"
     ]
    }
   ],
   "source": [
    "동물1 = 동물()\n",
    "동물1.음식먹기()"
   ]
  },
  {
   "cell_type": "code",
   "execution_count": 54,
   "id": "f62e1803-518b-452b-9482-67553fa514b5",
   "metadata": {},
   "outputs": [],
   "source": [
    "class 강아지(동물):\n",
    "\n",
    "    def 자기소개(self):\n",
    "        print(f\"내 이름은 {self.name}\") # 상속은 메소드 + 속성값 모두 받음"
   ]
  },
  {
   "cell_type": "code",
   "execution_count": 57,
   "id": "c2738210-251d-44ca-97c6-313ccba72f5d",
   "metadata": {},
   "outputs": [
    {
     "name": "stdout",
     "output_type": "stream",
     "text": [
      "저는 음식을 먹습니다\n",
      "내 이름은 개\n"
     ]
    }
   ],
   "source": [
    "강아지1 = 강아지()\n",
    "강아지1.name = \"개\"\n",
    "강아지1.음식먹기()\n",
    "강아지1.자기소개()"
   ]
  },
  {
   "cell_type": "markdown",
   "id": "0ce3f1e5-823c-4acc-ae37-eaad13c4ba5c",
   "metadata": {},
   "source": [
    "상속은 is-a 관계\n",
    "\n",
    "Car is a vihicle ==> 상위 클래스 : vehicle, 하위 클래스 Car\n",
    "Apple is a Fruit ==> 상위 클래스 : Fruit, 하위 클래스 Apple"
   ]
  },
  {
   "cell_type": "markdown",
   "id": "412b70ab-1baa-4db5-aeb2-e347027991c7",
   "metadata": {},
   "source": [
    "## 다중상속"
   ]
  },
  {
   "cell_type": "code",
   "execution_count": 59,
   "id": "0de67e61-4347-492f-b8bb-3bb18d8d5ade",
   "metadata": {},
   "outputs": [],
   "source": [
    "class 상위클래스1:\n",
    "    pass\n",
    "class 상위클래스2:\n",
    "    pass\n",
    "class 하위클래스(상위클래스1, 상위클래스2):\n",
    "    pass"
   ]
  },
  {
   "cell_type": "code",
   "execution_count": 61,
   "id": "34dec8c5-6ad6-4c4d-a54c-f3242926158e",
   "metadata": {},
   "outputs": [],
   "source": [
    "class 포유류:\n",
    "    def 포유류_정보(self):\n",
    "        print(\"포유류의 특징은 새끼를 낳는다\")\n",
    "    \n",
    "class 날개동물:\n",
    "    def 날개동물_정보(self):\n",
    "        print(\"날개를 가진 동물은 날 수 있다\")\n",
    "\n",
    "class 박쥐(포유류, 날개동물):\n",
    "    pass"
   ]
  },
  {
   "cell_type": "code",
   "execution_count": 66,
   "id": "1b5ab49c-815f-432d-8e1a-a8459b714835",
   "metadata": {},
   "outputs": [
    {
     "name": "stdout",
     "output_type": "stream",
     "text": [
      "포유류의 특징은 새끼를 낳는다\n"
     ]
    }
   ],
   "source": [
    "b1 = 박쥐()\n",
    "b1.포유류_정보()"
   ]
  },
  {
   "cell_type": "code",
   "execution_count": 68,
   "id": "47bc4b42-cbe5-4fa9-b989-c06e4aa97f99",
   "metadata": {},
   "outputs": [
    {
     "name": "stdout",
     "output_type": "stream",
     "text": [
      "날개를 가진 동물은 날 수 있다\n"
     ]
    }
   ],
   "source": [
    "b1 = 박쥐()\n",
    "b1.날개동물_정보()"
   ]
  },
  {
   "cell_type": "markdown",
   "id": "9c59e34e-454e-4a97-ae98-106d88ee4b17",
   "metadata": {},
   "source": [
    "# 클래스 설계 중 발생하는 흔한 문제\n",
    "- 메서드명이 같을 때\n",
    "- 오버라이딩, 다형"
   ]
  },
  {
   "cell_type": "code",
   "execution_count": null,
   "id": "51b6bf6a-0896-4cff-bc1b-f59590055852",
   "metadata": {},
   "outputs": [],
   "source": [
    "\"\"\"\n",
    "- Car 클래스를 만들어보겠습니다. \n",
    "- Car 클래스는 `__init__`, `get_description`, `read_kilometer`, `update_kilometer`, `increment_kilometer`라는 메서드를 갖습니다.\n",
    "    + `__init__` 메서드는 클래스의 생성자로, 객체가 생성될 때 호출됩니다.\n",
    "- 속성 사용하기\n",
    "    + `self.make`, `self.model`, `self.year`, `self.kilometer_reading` 클래스의 속성입니다.\n",
    "    + 객체가 생성될 때 속성값이 초기화됩니다.\n",
    "\n",
    "- self의 의미\n",
    "    + self는 클래스의 인스턴스를 참조합니다. 클래스 내의 메서드가 객체의 속성에 접근하거나 다른 메서드를 호출할 때 사용합니다.\n",
    "    + self를 통해 클래스 내의 속성 및 메서드를 정의하고 접근할 수 있습니다.\n",
    "\n",
    "- 클래스의 위치 인수, 키워드 인수\n",
    "    + `__init__` 메서드의 make, model, year는 위치 인수로 전달됩니다.\n",
    "    + 메서드를 호출할 때 my_car.update_kilometer(kilometers=500)처럼 키워드 인수로 사용할 수도 있습니다.\n",
    "\"\"\""
   ]
  },
  {
   "cell_type": "code",
   "execution_count": 99,
   "id": "c5e8d3bf-dd29-4df7-a2e3-15e9a2417660",
   "metadata": {},
   "outputs": [],
   "source": [
    "class Car():\n",
    "    kilometer_count = 0\n",
    "    def __init__(self, make, model, year, kilometer_reading):\n",
    "        self.make = make\n",
    "        self.model = model\n",
    "        self.year = year\n",
    "        self.kilometer_reading = kilometer_reading\n",
    "\n",
    "    def get_description(self):\n",
    "        print(f\"{self.make}의 {self.year}에 만든 {self.model}\")\n",
    "    def read_kilometer(self, kilometers=0):\n",
    "        print(f\"{self.make}의 {self.year}에 만든 {self.model}의 주행거리는 {self.kilometer_reading}\")\n",
    "    def update_kilometer(self):\n",
    "        pass\n",
    "    def increment_kilometer(self):\n",
    "        pass\n"
   ]
  },
  {
   "cell_type": "code",
   "execution_count": 100,
   "id": "dba41919-4b99-43a1-9f10-95b875dd5406",
   "metadata": {},
   "outputs": [
    {
     "name": "stdout",
     "output_type": "stream",
     "text": [
      "H S 2021 105\n",
      "H의 2021에 만든 S의 주행거리는 105\n"
     ]
    },
    {
     "data": {
      "text/plain": [
       "'105'"
      ]
     },
     "execution_count": 100,
     "metadata": {},
     "output_type": "execute_result"
    }
   ],
   "source": [
    "my_car = Car(\"H\", \"S\", \"2021\", \"105\")\n",
    "print(my_car.make, my_car.model, my_car.year, my_car.kilometer_reading)\n",
    "my_car.read_kilometer(500)\n",
    "my_car.kilometer_reading"
   ]
  },
  {
   "cell_type": "markdown",
   "id": "364c804c-6887-493b-9f95-844811d49bba",
   "metadata": {},
   "source": [
    "# 연습문제"
   ]
  },
  {
   "cell_type": "code",
   "execution_count": 127,
   "id": "59e769b8-ba62-4b32-bad5-843c5fb25087",
   "metadata": {},
   "outputs": [],
   "source": [
    "class Car:\n",
    "\n",
    "    # __init__ 메서드: 객체가 생성될 때 호출되며 속성을 초기화합니다.\n",
    "    def __init__(self, make, model, year):\n",
    "        self.make = make  # 자동차 제조사\n",
    "        self.model = model  # 자동차 모델\n",
    "        self.year = year  # 제조 연도\n",
    "        self.kilometer_reading = 0  # 주행 거리 (초기값 0) 여기에 넣으면 객체 생성 시, 자동으로 값 부여 해준다 \n",
    "\n",
    "    # 자동차의 전체 설명을 반환하는 메서드\n",
    "    def get_description(self):\n",
    "        return f\"{self.year} {self.make} {self.model}\"\n",
    "\n",
    "    # 현재 주행 거리 출력하는 메서드\n",
    "    def read_kilometer(self):\n",
    "        print(f\"이 자동차의 현재 주행 거리는 {self.kilometer_reading} 킬로미터입니다.\")\n",
    "    \n",
    "    # 주행거리 업데이트\n",
    "    # 새로운 값이 기존 값보다 클 경우에만 업데이트\n",
    "    def update_kilometer(self, kilometers):\n",
    "        # if 조건문 사용 예정\n",
    "        if kilometers >= self.kilometer_reading:\n",
    "            self.kilometer_reading = kilometers\n",
    "            print(f\"업데이트 확인 : {self.kilometer_reading} 킬로미터\")\n",
    "        else:\n",
    "            print(f\"현재 : {self.kilometer_reading}, 다시 입력\")\n",
    "    \n",
    "        pass \n",
    "\n",
    "    # 주행거리 증가시키기\n",
    "    def increment_kilometer(self, kilometers):\n",
    "        # 주행거리가 음수가 나오면 안되니깐, if 조건문 사용 예정\n",
    "        if kilometers >= 0:\n",
    "            self.kilometer_reading += kilometers\n",
    "            print(f\"업데이트 확인 : {self.kilometer_reading} 킬로미터\")\n",
    "        else:\n",
    "            print(f\"입력값 : {kilometers}, 다시 입력\")\n",
    "        pass"
   ]
  },
  {
   "cell_type": "markdown",
   "id": "7df53d3f-3f17-4761-983a-0f744c1c68e7",
   "metadata": {},
   "source": [
    "- 클래스 실행"
   ]
  },
  {
   "cell_type": "code",
   "execution_count": 152,
   "id": "ed90a8d7-2740-400e-b3f6-0b7a36dd317d",
   "metadata": {},
   "outputs": [
    {
     "name": "stdout",
     "output_type": "stream",
     "text": [
      "2024 현대 아반떼\n",
      "이 자동차의 현재 주행 거리는 0 킬로미터입니다.\n",
      "업데이트 확인 : 100 킬로미터\n",
      "이 자동차의 현재 주행 거리는 100 킬로미터입니다.\n"
     ]
    }
   ],
   "source": [
    "my_car = Car(\"현대\", \"아반떼\", 2024)\n",
    "description = my_car.get_description()\n",
    "print(description)\n",
    "my_car.read_kilometer()\n",
    "my_car.increment_kilometer(100)\n",
    "my_car.read_kilometer()"
   ]
  },
  {
   "cell_type": "code",
   "execution_count": 162,
   "id": "d6f26c23-0f2d-4a28-830c-4b92ba7da4f9",
   "metadata": {},
   "outputs": [],
   "source": [
    "class Car:\n",
    "    # __init__ 메서드: 객체가 생성될 때 호출되며 속성을 초기화합니다.\n",
    "    def __init__(self, make, model, year):\n",
    "        self.make = make  # 자동차 제조사\n",
    "        self.model = model  # 자동차 모델\n",
    "        self.year = year  # 제조 연도\n",
    "        self.kilometer_reading = 0  # 주행 거리 (초기값 0)\n",
    "\n",
    "    # 자동차의 전체 설명을 반환하는 메서드\n",
    "    def get_description(self):\n",
    "        return f\"{self.year} {self.make} {self.model}\"\n",
    "\n",
    "    # 현재 주행 거리 출력하는 메서드\n",
    "    def read_kilometer(self):\n",
    "        print(f\"이 자동차의 현재 주행 거리는 {self.kilometer_reading} 킬로미터입니다.\")\n",
    "    \n",
    "    # 주행거리 업데이트\n",
    "    # 새로운 값이 기존 값보다 클 경우에만 업데이트\n",
    "    def update_kilometer(self, kilometers):\n",
    "        if kilometers >= self.kilometer_reading:\n",
    "            self.kilometer_reading = kilometers\n",
    "            print(f\"업데이트 확인 : {self.kilometer_reading} 킬로미터\")\n",
    "        else:\n",
    "            print(f\"현재 : {self.kilometer_reading}, 다시 입력해주세용\") \n",
    "\n",
    "    # 주행 거리를 증가시키는 메서드\n",
    "    def increment_kilometer(self, kilometers):\n",
    "        if kilometers > 0:\n",
    "            self.kilometer_reading += kilometers\n",
    "        else:\n",
    "            print(\"음수가 입력되었습니다. 양수로 입력해주세요\")"
   ]
  },
  {
   "cell_type": "code",
   "execution_count": 172,
   "id": "b7dd7db3-978d-462f-88ad-0757f0303ce6",
   "metadata": {},
   "outputs": [
    {
     "name": "stdout",
     "output_type": "stream",
     "text": [
      "2024 현대 아반떼\n",
      "이 자동차의 현재 주행 거리는 0 킬로미터입니다.\n",
      "이 자동차의 현재 주행 거리는 100 킬로미터입니다.\n"
     ]
    }
   ],
   "source": [
    "my_car = Car(\"현대\", \"아반떼\", 2024)\n",
    "description = my_car.get_description()\n",
    "print(description)\n",
    "my_car.read_kilometer()\n",
    "my_car.increment_kilometer(100)\n",
    "my_car.read_kilometer()"
   ]
  },
  {
   "cell_type": "code",
   "execution_count": 168,
   "id": "461a9ece-f500-460e-99c2-15c4ce060209",
   "metadata": {},
   "outputs": [],
   "source": [
    "class Car:\n",
    "    \"\"\"\n",
    "    자동차 객체를 나타내는 클래스. 자동차의 제조사, 모델, 연도 및 주행 거리를 추적합니다.\n",
    "    \"\"\"\n",
    "    \n",
    "    def __init__(self, make: str, model: str, year: int) -> None:\n",
    "        \"\"\"\n",
    "        객체가 생성될 때 호출되며 속성을 초기화합니다.\n",
    "\n",
    "        Args:\n",
    "            make (str): 자동차 제조사\n",
    "            model (str): 자동차 모델\n",
    "            year (int): 제조 연도\n",
    "        \"\"\"\n",
    "        self.make = make  # 자동차 제조사\n",
    "        self.model = model  # 자동차 모델\n",
    "        self.year = year  # 제조 연도\n",
    "        self.kilometer_reading = 0  # 주행 거리 (초기값 0)\n",
    "\n",
    "    def get_description(self) -> str:\n",
    "        \"\"\"\n",
    "        자동차의 전체 설명을 반환합니다.\n",
    "\n",
    "        Returns:\n",
    "            str: 제조 연도, 제조사, 모델 정보를 포함한 문자열\n",
    "        \"\"\"\n",
    "        return f\"{self.year} {self.make} {self.model}\"\n",
    "\n",
    "    def read_kilometer(self) -> None:\n",
    "        \"\"\"\n",
    "        현재 주행 거리를 출력합니다.\n",
    "        \"\"\"\n",
    "        print(f\"이 자동차의 현재 주행 거리는 {self.kilometer_reading} 킬로미터입니다.\")\n",
    "\n",
    "    def update_kilometer(self, kilometers: int) -> None:\n",
    "        \"\"\"\n",
    "        주행 거리를 새로운 값으로 업데이트합니다.\n",
    "        새로운 값이 기존 값보다 클 경우에만 업데이트됩니다.\n",
    "\n",
    "        Args:\n",
    "            kilometers (int): 업데이트하려는 주행 거리 값\n",
    "        \"\"\"\n",
    "        if kilometers >= self.kilometer_reading:\n",
    "            self.kilometer_reading = kilometers\n",
    "            print(f\"업데이트 확인 : {self.kilometer_reading} 킬로미터\")\n",
    "        else:\n",
    "            print(f\"현재 : {self.kilometer_reading}, 다시 입력해주세용\")\n",
    "\n",
    "    def increment_kilometer(self, kilometers: int) -> None:\n",
    "        \"\"\"\n",
    "        주행 거리를 일정량 증가시킵니다.\n",
    "\n",
    "        Args:\n",
    "            kilometers (int): 증가시킬 주행 거리 값. 양수여야 함.\n",
    "        \"\"\"\n",
    "        if kilometers > 0:\n",
    "            self.kilometer_reading += kilometers\n",
    "        else:\n",
    "            print(\"음수가 입력되었습니다. 양수로 입력해주세요.\")"
   ]
  },
  {
   "cell_type": "code",
   "execution_count": 170,
   "id": "89a4b317-3979-44c8-86d5-cee54010fc9a",
   "metadata": {},
   "outputs": [
    {
     "name": "stdout",
     "output_type": "stream",
     "text": [
      "\n",
      "    자동차 객체를 나타내는 클래스. 자동차의 제조사, 모델, 연도 및 주행 거리를 추적합니다.\n",
      "    \n"
     ]
    }
   ],
   "source": [
    "my_car = Car(\"현대\", \"아반떼\", 2024)\n",
    "print(my_car.__doc__)"
   ]
  },
  {
   "cell_type": "code",
   "execution_count": 200,
   "id": "08f12e4e-23a4-4b3a-a447-a7bc6c71ac01",
   "metadata": {},
   "outputs": [],
   "source": [
    "class Car:\n",
    "    # __init__ 메서드: 객체가 생성될 때 호출되며 속성을 초기화합니다.\n",
    "    def __init__(self, make, model, year):\n",
    "        self.make = make  # 자동차 제조사\n",
    "        self.model = model  # 자동차 모델\n",
    "        self.year = year  # 제조 연도\n",
    "        self.kilometer_reading = 0  # 주행 거리 (초기값 0)\n",
    "\n",
    "    # 자동차의 전체 설명을 반환하는 메서드\n",
    "    def get_description(self):\n",
    "        return f\"{self.year} {self.make} {self.model}\"\n",
    "\n",
    "    # 현재 주행 거리 출력하는 메서드\n",
    "    def read_kilometer(self):\n",
    "        print(f\"이 자동차의 현재 주행 거리는 {self.kilometer_reading} 킬로미터입니다.\")\n",
    "    \n",
    "    # 주행거리 업데이트\n",
    "    # 새로운 값이 기존 값보다 클 경우에만 업데이트\n",
    "    def update_kilometer(self, kilometers):\n",
    "        if kilometers >= self.kilometer_reading:\n",
    "            self.kilometer_reading = kilometers\n",
    "            print(f\"업데이트 확인 : {self.kilometer_reading} 킬로미터\")\n",
    "        else:\n",
    "            print(f\"현재 : {self.kilometer_reading}, 다시 입력해주세용\") \n",
    "\n",
    "    # 주행 거리를 증가시키는 메서드\n",
    "    def increment_kilometer(self, kilometers):\n",
    "        if kilometers > 0:\n",
    "            self.kilometer_reading += kilometers\n",
    "        else:\n",
    "            print(\"음수가 입력되었습니다. 양수로 입력해주세요\")"
   ]
  },
  {
   "cell_type": "code",
   "execution_count": 240,
   "id": "e884de1b-0690-4678-899c-cd440a637cc3",
   "metadata": {},
   "outputs": [
    {
     "name": "stdout",
     "output_type": "stream",
     "text": [
      "2024 현대 아반떼\n",
      "이 자동차의 현재 주행 거리는 100 킬로미터입니다.\n"
     ]
    }
   ],
   "source": [
    "my_car = Car(\"현대\", \"아반떼\", 2024)\n",
    "description = my_car.get_description()\n",
    "print(description)\n",
    "\n",
    "my_car.increment_kilometer(100)\n",
    "my_car.read_kilometer()"
   ]
  },
  {
   "cell_type": "code",
   "execution_count": 193,
   "id": "23afdbe0-585b-4fbb-b75e-fb6df68c06e4",
   "metadata": {},
   "outputs": [
    {
     "name": "stdout",
     "output_type": "stream",
     "text": [
      "2024 현대 아반떼\n",
      "이 자동차의 현재 주행 거리는 0 킬로미터입니다.\n",
      "주행 거리 증가: 100 킬로미터\n",
      "이 자동차의 현재 주행 거리는 100 킬로미터입니다.\n"
     ]
    }
   ],
   "source": [
    "class Car:\n",
    "    def __init__(self, make, model, year):\n",
    "        self.make = make  # 자동차 제조사\n",
    "        self.model = model  # 자동차 모델\n",
    "        self.year = year  # 제조 연도\n",
    "        self.kilometer_reading = 0  # 주행 거리 (초기값 0)\n",
    "\n",
    "    def get_description(self):\n",
    "        return f\"{self.year} {self.make} {self.model}\"\n",
    "\n",
    "    def read_kilometer(self):\n",
    "        print(f\"이 자동차의 현재 주행 거리는 {self.kilometer_reading} 킬로미터입니다.\")\n",
    "    \n",
    "    def update_kilometer(self, kilometers):\n",
    "        if kilometers >= self.kilometer_reading:\n",
    "            self.kilometer_reading = kilometers\n",
    "            print(f\"업데이트 확인 : {self.kilometer_reading} 킬로미터\")\n",
    "        else:\n",
    "            print(f\"현재 : {self.kilometer_reading}, 다시 입력해주세용\") \n",
    "\n",
    "    def increment_kilometer(self, kilometers):\n",
    "        if kilometers > 0:\n",
    "            self.kilometer_reading += kilometers\n",
    "            print(f\"주행 거리 증가: {kilometers} 킬로미터\")\n",
    "        else:\n",
    "            print(\"음수가 입력되었습니다. 양수로 입력해주세요\")\n",
    "\n",
    "# 객체 생성 및 메서드 호출\n",
    "my_car = Car(\"현대\", \"아반떼\", 2024)\n",
    "description = my_car.get_description()\n",
    "print(description)  # 자동차 설명 출력\n",
    "my_car.read_kilometer()  # 현재 주행 거리 출력\n",
    "\n"
   ]
  },
  {
   "cell_type": "code",
   "execution_count": 228,
   "id": "3984a785-19a3-4f2c-a1ab-a27d544839a8",
   "metadata": {},
   "outputs": [
    {
     "name": "stdout",
     "output_type": "stream",
     "text": [
      "이 자동차의 현재 주행 거리는 1100 킬로미터입니다.\n"
     ]
    }
   ],
   "source": [
    "# 주행 거리 증가\n",
    "my_car.increment_kilometer(100)  # 100 킬로미터 증가\n",
    "my_car.read_kilometer()  # 현재 주행 거리 다시 출력\n"
   ]
  },
  {
   "cell_type": "markdown",
   "id": "33926aaa-79a3-4ac7-9f30-5896f1f411ab",
   "metadata": {},
   "source": [
    "# 다형성 (Polymorphism)\n",
    "- 하나의 함수로 다양한 결과를 만들어 내는것\n",
    "- 1+1 = 2, A+B = AB : +가 2가지 역할을 함 "
   ]
  },
  {
   "cell_type": "markdown",
   "id": "1216ea80-0644-4ff2-9812-2a1833356140",
   "metadata": {},
   "source": [
    "# 클래스 설계 하다보면 부딪히는 흔항 문제\n",
    "- 메서드명이 같을 때\n",
    "- 오버라이딩(자식 클래스 메서드의 개념을 재정의), 다형성"
   ]
  },
  {
   "cell_type": "code",
   "execution_count": 242,
   "id": "1871210f-90ab-4c08-bcce-72dc3915b4f0",
   "metadata": {},
   "outputs": [],
   "source": [
    "# 부모 클래스\n",
    "class 동물:\n",
    "    def 울음소리(self):\n",
    "        return \"동물 울음소리\"\n",
    "\n",
    "# 자식 클래스\n",
    "class 강아지(동물):\n",
    "    def 울음소리(self):\n",
    "        return \"멍멍\"\n",
    "\n",
    "class 고양이(동물):\n",
    "    def 울음소리(self):\n",
    "        return \"야옹\""
   ]
  },
  {
   "cell_type": "code",
   "execution_count": 245,
   "id": "8cb37063-5820-4c72-b69a-e9b6a7221232",
   "metadata": {},
   "outputs": [],
   "source": [
    "# 다형성 함수\n",
    "\n",
    "def make_sound(animal):\n",
    "    print(animal.울음소리())"
   ]
  },
  {
   "cell_type": "code",
   "execution_count": 244,
   "id": "2a792418-2aac-46b5-be1b-8a46e1066a4e",
   "metadata": {},
   "outputs": [
    {
     "data": {
      "text/plain": [
       "'야옹'"
      ]
     },
     "execution_count": 244,
     "metadata": {},
     "output_type": "execute_result"
    }
   ],
   "source": [
    "# 객체 생성\n",
    "dog = 강아지()\n",
    "cat = 고양이()\n",
    "# dog.울음소리()\n",
    "# cat.울음소리()"
   ]
  },
  {
   "cell_type": "code",
   "execution_count": 247,
   "id": "80d932d0-8c42-471d-a52c-a0c4ef2b272d",
   "metadata": {},
   "outputs": [
    {
     "name": "stdout",
     "output_type": "stream",
     "text": [
      "야옹\n"
     ]
    }
   ],
   "source": [
    "make_sound(cat)"
   ]
  },
  {
   "cell_type": "markdown",
   "id": "d7c82606-415e-440d-a979-cf9737c5846f",
   "metadata": {},
   "source": [
    "# 메서드 오버라이딩"
   ]
  },
  {
   "cell_type": "code",
   "execution_count": 250,
   "id": "441a5f4c-7ed5-402e-8240-0f1c1aeec030",
   "metadata": {},
   "outputs": [],
   "source": [
    "from math import pi\n",
    "\n",
    "\n",
    "# 상위클래스 (모양)\n",
    "class Shape:\n",
    "    def __init__(self, name):\n",
    "        self.name = name\n",
    "\n",
    "    def area(self): # 상위 클래스에서는 pass로 넘어가지만, 하위 클래스 각각 재정의 해준다\n",
    "        pass\n",
    "\n",
    "    def fact(self):\n",
    "        return \"나는 2차원 도형\"\n",
    "\n",
    "# 사각형 하위 클래스\n",
    "class Square(Shape):\n",
    "    def __init__(self, length):\n",
    "        super().__init__(\"Square\") # 여기에 정의를 해줌으로써 초기값을 준다. (name에 대한 정의이며, Square객체를 생성하면 바로 Square가 정의 된다)\n",
    "        # b = Square(\"Square\") 이렇게 지정해주는게 아니라, b = Square()라고만 하면 Square가 정의 되며 객체 생성 됨\n",
    "        self.length = length\n",
    "\n",
    "    def area(self): # 하위 클래스에서 재 정의 해준다\n",
    "        return self.length ** 2\n",
    "\n",
    "# 원 하위 클래스\n",
    "class Circle(Shape):\n",
    "    def __init__(self, radius):\n",
    "        super().__init__(\"Circle\") \n",
    "        self.radius = radius\n",
    "\n",
    "\n",
    "    def area(self):\n",
    "        return pi * self.radius * 2"
   ]
  },
  {
   "cell_type": "code",
   "execution_count": 252,
   "id": "18e26948-24b1-48b6-9f67-c7bc37b71b10",
   "metadata": {},
   "outputs": [
    {
     "name": "stdout",
     "output_type": "stream",
     "text": [
      "16\n"
     ]
    }
   ],
   "source": [
    "a = Square(4)\n",
    "print(a.area())"
   ]
  },
  {
   "cell_type": "code",
   "execution_count": 254,
   "id": "a39b5692-fec7-43e4-a147-f192205d8bef",
   "metadata": {},
   "outputs": [
    {
     "name": "stdout",
     "output_type": "stream",
     "text": [
      "25.132741228718345\n"
     ]
    }
   ],
   "source": [
    "b = Circle(4)\n",
    "print(b.area())"
   ]
  },
  {
   "cell_type": "markdown",
   "id": "d55ac153-e056-4805-9ac9-86339a346754",
   "metadata": {},
   "source": [
    "# 연산자 오버로딩\n",
    "- Operator Overloading"
   ]
  },
  {
   "cell_type": "markdown",
   "id": "9b4b72b0-1563-41cc-87eb-8d275b9db83b",
   "metadata": {},
   "source": [
    "# 같은 .area() 이지만, 각 하위 클래스에서 재정의 된 대로 결과가 다르게 나온다 \n",
    " -> 이것이 오버라이딩\n",
    "\n",
    "a = Square(4)\n",
    "print(a.area())\n",
    "\n",
    "b = Circle(4)\n",
    "print(b.area())"
   ]
  },
  {
   "cell_type": "code",
   "execution_count": 255,
   "id": "c2d792db-4cfa-45b0-936a-3f9081aa1931",
   "metadata": {},
   "outputs": [
    {
     "ename": "TypeError",
     "evalue": "unsupported operand type(s) for +: 'A' and 'A'",
     "output_type": "error",
     "traceback": [
      "\u001b[1;31m---------------------------------------------------------------------------\u001b[0m",
      "\u001b[1;31mTypeError\u001b[0m                                 Traceback (most recent call last)",
      "Cell \u001b[1;32mIn[255], line 8\u001b[0m\n\u001b[0;32m      5\u001b[0m a1 \u001b[38;5;241m=\u001b[39m A(\u001b[38;5;241m2\u001b[39m)\n\u001b[0;32m      6\u001b[0m a2 \u001b[38;5;241m=\u001b[39m A(\u001b[38;5;241m3\u001b[39m)\n\u001b[1;32m----> 8\u001b[0m a3 \u001b[38;5;241m=\u001b[39m \u001b[43ma1\u001b[49m\u001b[43m \u001b[49m\u001b[38;5;241;43m+\u001b[39;49m\u001b[43m \u001b[49m\u001b[43ma2\u001b[49m\n\u001b[0;32m      9\u001b[0m \u001b[38;5;28mprint\u001b[39m(a3\u001b[38;5;241m.\u001b[39mvalue)\n",
      "\u001b[1;31mTypeError\u001b[0m: unsupported operand type(s) for +: 'A' and 'A'"
     ]
    }
   ],
   "source": [
    "class A:\n",
    "    def __init__(self, value):\n",
    "        self.value = value\n",
    "\n",
    "a1 = A(2)\n",
    "a2 = A(3)\n",
    "\n",
    "a3 = a1 + a2\n",
    "print(a3.value)"
   ]
  },
  {
   "cell_type": "code",
   "execution_count": 256,
   "id": "66e76f8f-2010-4110-b89d-6e2dd27c51f5",
   "metadata": {},
   "outputs": [
    {
     "name": "stdout",
     "output_type": "stream",
     "text": [
      "5\n"
     ]
    }
   ],
   "source": [
    "class A:\n",
    "    def __init__(self, value):\n",
    "        self.value = value\n",
    "\n",
    "    # 연산자 오버로딩  -> 클래스들끼리 연산을 시킬 때 해당 되는 메소드를 넣어준다\n",
    "    def __add__(self, other):\n",
    "        result = self.value + other.value\n",
    "        return A(result)\n",
    "\n",
    "a1 = A(2)\n",
    "a2 = A(3)\n",
    "\n",
    "a3 = a1 + a2\n",
    "print(a3.value)"
   ]
  },
  {
   "cell_type": "markdown",
   "id": "912c4c15-cd29-41b6-977a-435312c90d3c",
   "metadata": {},
   "source": [
    "# 예제 2. 책 관리 시스템\n",
    "- 여러분은 간단한 책 관리 시스템을 만들어야 합니다. Book 클래스를 사용하여 책의 정보를 저장하고, 책을 읽고, 현재 페이지를 업데이트하는 프로그램을 작성하세요.\n",
    "- 여러 Book 객체를 생성하고, 각 책에 대해 다음 작업을 수행하세요.\n",
    "    + 책의 설명을 출력하세요.\n",
    "    + 책을 읽고, 현재 페이지를 업데이트하고, 책 읽기 진행 상황을 출력하세요.\n",
    "    + 읽을 페이지 수가 전체 페이지 수를 초과할 경우, 오류 메시지를 출력하세요."
   ]
  },
  {
   "cell_type": "code",
   "execution_count": 328,
   "id": "b8bb3741-bfb1-4935-8a08-856a3cdfbabe",
   "metadata": {},
   "outputs": [],
   "source": [
    "class book():\n",
    "    def __init__(self, name, pages):\n",
    "        self.name = name\n",
    "        self.pages = pages\n",
    "        self.read_pages = 0\n",
    "       \n",
    "    def book_description(self):\n",
    "        return f\"책이름 {self.name}, 페이지 수{self.pages}\"\n",
    "\n",
    "    def book_read(self, read):\n",
    "        self.read_pages += read\n",
    "        print(f\"현재 페이지는 {self.read_pages}\")\n",
    "\n",
    "    def book_update(self):\n",
    "        if self.read_pages + read <= self.pages:\n",
    "            self.read_pages += read\n",
    "            print(f\"{read}읽었고, 총 {self.pages}\")\n",
    "        else:\n",
    "            print(\"오류\")\n",
    "        "
   ]
  },
  {
   "cell_type": "code",
   "execution_count": 329,
   "id": "6715b94a-f9c5-4d68-922e-8b6825ba69e9",
   "metadata": {},
   "outputs": [
    {
     "data": {
      "text/plain": [
       "'책이름 ㅇㅇ, 페이지 수550'"
      ]
     },
     "execution_count": 329,
     "metadata": {},
     "output_type": "execute_result"
    }
   ],
   "source": [
    "책1 = book(\"ㅇㅇ\", 550)\n",
    "책1.book_description()"
   ]
  },
  {
   "cell_type": "code",
   "execution_count": 330,
   "id": "49524e60-588c-41b7-8375-49d20cf32d77",
   "metadata": {},
   "outputs": [
    {
     "name": "stdout",
     "output_type": "stream",
     "text": [
      "현재 페이지는 50\n"
     ]
    }
   ],
   "source": [
    "책1.book_read(50)"
   ]
  },
  {
   "cell_type": "code",
   "execution_count": 331,
   "id": "c62cc6a1-f760-4a4e-8182-9649b91b73a6",
   "metadata": {},
   "outputs": [
    {
     "ename": "NameError",
     "evalue": "name 'read' is not defined",
     "output_type": "error",
     "traceback": [
      "\u001b[1;31m---------------------------------------------------------------------------\u001b[0m",
      "\u001b[1;31mNameError\u001b[0m                                 Traceback (most recent call last)",
      "Cell \u001b[1;32mIn[331], line 1\u001b[0m\n\u001b[1;32m----> 1\u001b[0m \u001b[43m책1\u001b[49m\u001b[38;5;241;43m.\u001b[39;49m\u001b[43mbook_update\u001b[49m\u001b[43m(\u001b[49m\u001b[43m)\u001b[49m\n",
      "Cell \u001b[1;32mIn[328], line 15\u001b[0m, in \u001b[0;36mbook.book_update\u001b[1;34m(self)\u001b[0m\n\u001b[0;32m     14\u001b[0m \u001b[38;5;28;01mdef\u001b[39;00m \u001b[38;5;21mbook_update\u001b[39m(\u001b[38;5;28mself\u001b[39m):\n\u001b[1;32m---> 15\u001b[0m     \u001b[38;5;28;01mif\u001b[39;00m \u001b[38;5;28mself\u001b[39m\u001b[38;5;241m.\u001b[39mread_pages \u001b[38;5;241m+\u001b[39m \u001b[43mread\u001b[49m \u001b[38;5;241m<\u001b[39m\u001b[38;5;241m=\u001b[39m \u001b[38;5;28mself\u001b[39m\u001b[38;5;241m.\u001b[39mpages:\n\u001b[0;32m     16\u001b[0m         \u001b[38;5;28mself\u001b[39m\u001b[38;5;241m.\u001b[39mread_pages \u001b[38;5;241m+\u001b[39m\u001b[38;5;241m=\u001b[39m read\n\u001b[0;32m     17\u001b[0m         \u001b[38;5;28mprint\u001b[39m(\u001b[38;5;124mf\u001b[39m\u001b[38;5;124m\"\u001b[39m\u001b[38;5;132;01m{\u001b[39;00mread\u001b[38;5;132;01m}\u001b[39;00m\u001b[38;5;124m읽었고, 총 \u001b[39m\u001b[38;5;132;01m{\u001b[39;00m\u001b[38;5;28mself\u001b[39m\u001b[38;5;241m.\u001b[39mpages\u001b[38;5;132;01m}\u001b[39;00m\u001b[38;5;124m\"\u001b[39m)\n",
      "\u001b[1;31mNameError\u001b[0m: name 'read' is not defined"
     ]
    }
   ],
   "source": [
    "책1.book_update()"
   ]
  },
  {
   "cell_type": "code",
   "execution_count": null,
   "id": "472cb062-fa50-4f14-a6b6-80e33cf26ec7",
   "metadata": {},
   "outputs": [],
   "source": [
    "class Book:\n",
    "    def __init__(self, title, author, pages):\n",
    "        self.title = title\n",
    "        self.author = author\n",
    "        self.pages = pages\n",
    "        self.current_page = 0\n",
    "\n",
    "    def get_description(self):\n",
    "        return f\"'{self.title}' (저자: {self.author}, 총 {self.pages}페이지)\"\n",
    "        \n",
    "    def read(self, pages):\n",
    "        if self.current_page + pages <= self.pages:\n",
    "            self.current_page += pages\n",
    "            print(f\"{pages}페이지를 읽었습니다. 현재 {self.current_page}페이지에 있습니다.\")\n",
    "        else:\n",
    "            print(f\"책의 총 페이지 수를 초과할 수 없습니다!\")\n",
    "\n",
    "    def book_progress(self):\n",
    "        print(f\"이 책은 총 {self.pages}페이지이며, 현재 {self.current_page}페이지를 읽었습니다.\")\n",
    "\n",
    "book1 = Book('A', 'evan', 300)\n",
    "book1.set_description()"
   ]
  },
  {
   "cell_type": "code",
   "execution_count": null,
   "id": "f28f2726-03b5-4b91-81cc-30eb7d1f6c8c",
   "metadata": {},
   "outputs": [],
   "source": [
    "# 여러 책 인스턴스 생성\n",
    "book1 = Book('오만과 편견', '제인 오스틴', 279)\n",
    "book2 = Book('앵무새 죽이기', '하퍼 리', 281)\n",
    "book3 = Book('위대한 개츠비', 'F. 스콧 피츠제럴드', 180)"
   ]
  },
  {
   "cell_type": "markdown",
   "id": "ccb89009-4abb-4941-88bd-4b7acb8dbd70",
   "metadata": {},
   "source": [
    "## 요구사항\n",
    "- `Spaceship` 클래스를 정의하세요.\n",
    "- 속성\n",
    "    + `color (str):` 우주선의 색상\n",
    "    + `speed (int):` 우주선의 속도\n",
    "    + `passengers (int):` 우주선의 탑승 인원 수\n",
    "- 메서드\n",
    "    + `__init__(self, color: str, speed: int, passengers: int):` 색상, 속도, 탑승 인원 수를 초기화합니다.\n",
    "    + `get_color(self) -> str:` 색상을 반환합니다.\n",
    "    + `set_color(self, color: str):` 색상을 설정합니다.\n",
    "    + `get_speed(self) -> int:` 속도를 반환합니다.\n",
    "    + `set_speed(self, speed: int):` 속도를 설정합니다.\n",
    "    + `get_passengers(self) -> int:` 탑승 인원 수를 반환합니다.\n",
    "    + `set_passengers(self, passengers: int):` 탑승 인원 수를 설정합니다.\n",
    "    + `add_passenger(self):` 탑승 인원 수를 N명 추가합니다.\n",
    "    + `remove_passenger(self):` 탑승 인원 수를 N명 감소시킵니다. 탑승 인원 수가 0명 이하로 내려갈 수 없습니다.\n",
    "    + `increase_speed(self, amount: int):` 속도를 amount만큼 증가시킵니다.\n",
    "    + `decrease_speed(self, amount: int):` 속도를 amount만큼 감소시킵니다. 속도가 0 이하로 내려갈 수 없습니다.\n",
    "    + `get_info(self) -> str:` 현재 우주선의 상태 정보를 반환합니다.\n",
    "\n",
    "## 시뮬레이션 테스트\n",
    "- 시뮬레이션 프로그램을 작성하세요.\n",
    "    + 사용자는 다음 작업을 선택할 수 있습니다:\n",
    "    + 우주선의 색상을 설정합니다.\n",
    "    + 속도를 증가시킵니다.\n",
    "    + 속도를 감소시킵니다.\n",
    "    + 탑승 인원 수를 N명 추가합니다.\n",
    "    + 탑승 인원 수를 N명 감소합니다.\n",
    "    + 시뮬레이션을 종료합니다.\n",
    "    \n",
    "\"\"\""
   ]
  },
  {
   "cell_type": "code",
   "execution_count": 394,
   "id": "e6074e97-97df-4534-9d33-2d2c24c54c08",
   "metadata": {},
   "outputs": [],
   "source": [
    "class Spaceship():\n",
    "    def __init__(self, color, speed, passengers):\n",
    "        self.color = color\n",
    "        self.speed = speed\n",
    "        self.passengers = passengers\n",
    "        self.add_pass = 0\n",
    "\n",
    "    def get_color(self):\n",
    "        return self.color\n",
    "    def set_color(self, color):\n",
    "        return self.color\n",
    "    def set_speed(self, speed):\n",
    "        return self.speed\n",
    "    def get_passengers(self):\n",
    "        return self.passengers\n",
    "    def set_passengers(self, passengers):\n",
    "        self.passengers = passengers\n",
    "    def add_passenger(self, add_pass):\n",
    "        self.passengers += n_pass\n",
    "        print(f\"{self.passengers}\")\n",
    "    def remove_passenger(self, n_pass):\n",
    "        self.passengers -+ n_pass\n",
    "        print(f\"{self.passengers}\")\n",
    "    def increase_speed(self, amount):\n",
    "        self.speed += amount\n",
    "    def decrease_speed(self, amount):\n",
    "        self.speed -= amount\n",
    "    def get_info(self):\n",
    "        print(f\"{color}, {speed}, {passengers}\")\n",
    "\n",
    "\n"
   ]
  },
  {
   "cell_type": "code",
   "execution_count": 396,
   "id": "a56a3740-a04c-4c16-b1f5-7d5aae05c07c",
   "metadata": {},
   "outputs": [],
   "source": [
    "우주선1 = Spaceship(\"black\",5,5)\n",
    "\n"
   ]
  },
  {
   "cell_type": "code",
   "execution_count": 398,
   "id": "dea438db-f10c-4751-af18-827be3a88b11",
   "metadata": {},
   "outputs": [],
   "source": [
    "우주선1.remove_passenger(5)\n"
   ]
  },
  {
   "cell_type": "code",
   "execution_count": null,
   "id": "81ecc169-1384-4a1a-aa24-4a9cb07c04d4",
   "metadata": {},
   "outputs": [],
   "source": []
  },
  {
   "cell_type": "code",
   "execution_count": null,
   "id": "6d6d3572-88d6-408c-876b-6342f329c432",
   "metadata": {},
   "outputs": [],
   "source": []
  }
 ],
 "metadata": {
  "kernelspec": {
   "display_name": "Python 3 (ipykernel)",
   "language": "python",
   "name": "python3"
  },
  "language_info": {
   "codemirror_mode": {
    "name": "ipython",
    "version": 3
   },
   "file_extension": ".py",
   "mimetype": "text/x-python",
   "name": "python",
   "nbconvert_exporter": "python",
   "pygments_lexer": "ipython3",
   "version": "3.12.6"
  }
 },
 "nbformat": 4,
 "nbformat_minor": 5
}
