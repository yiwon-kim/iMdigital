{
 "cells": [
  {
   "cell_type": "markdown",
   "id": "9728aef4-70f6-437d-a1fe-da2c38e0afff",
   "metadata": {},
   "source": [
    "## 논리연산\n",
    "True, False"
   ]
  },
  {
   "cell_type": "code",
   "execution_count": 1,
   "id": "9dade876-c7d9-483b-8d38-b9fbb31c9d57",
   "metadata": {},
   "outputs": [
    {
     "name": "stdout",
     "output_type": "stream",
     "text": [
      "True\n"
     ]
    }
   ],
   "source": [
    "print(True)"
   ]
  },
  {
   "cell_type": "code",
   "execution_count": 3,
   "id": "2898a140-056a-49eb-a750-149fcf5b4869",
   "metadata": {},
   "outputs": [
    {
     "name": "stdout",
     "output_type": "stream",
     "text": [
      "False\n"
     ]
    }
   ],
   "source": [
    "print(False)"
   ]
  },
  {
   "cell_type": "code",
   "execution_count": 4,
   "id": "a8b4899b-86a1-4344-8264-825470334651",
   "metadata": {},
   "outputs": [
    {
     "data": {
      "text/plain": [
       "bool"
      ]
     },
     "execution_count": 4,
     "metadata": {},
     "output_type": "execute_result"
    }
   ],
   "source": [
    "type(True)"
   ]
  },
  {
   "cell_type": "code",
   "execution_count": 5,
   "id": "977e7e4b-d256-4280-ba50-64f44f6d959b",
   "metadata": {},
   "outputs": [
    {
     "name": "stdout",
     "output_type": "stream",
     "text": [
      "True\n",
      "False\n",
      "False\n"
     ]
    }
   ],
   "source": [
    "print(True and True)\n",
    "print(False and True)\n",
    "print(False and False)"
   ]
  },
  {
   "cell_type": "code",
   "execution_count": 6,
   "id": "98ef4128-5823-4730-a894-83772ad84f98",
   "metadata": {},
   "outputs": [
    {
     "name": "stdout",
     "output_type": "stream",
     "text": [
      "True\n",
      "True\n",
      "False\n"
     ]
    }
   ],
   "source": [
    "print(True or True)\n",
    "print(False or True)\n",
    "print(False or False)"
   ]
  },
  {
   "cell_type": "code",
   "execution_count": 7,
   "id": "de97319f-31cf-48f3-9ed8-9d7fbc59b912",
   "metadata": {},
   "outputs": [
    {
     "data": {
      "text/plain": [
       "True"
      ]
     },
     "execution_count": 7,
     "metadata": {},
     "output_type": "execute_result"
    }
   ],
   "source": [
    "(5 > 3) and (6 > 3)"
   ]
  },
  {
   "cell_type": "code",
   "execution_count": 10,
   "id": "558e9f63-8d5e-4c37-87b5-76605bdb8467",
   "metadata": {},
   "outputs": [
    {
     "data": {
      "text/plain": [
       "False"
      ]
     },
     "execution_count": 10,
     "metadata": {},
     "output_type": "execute_result"
    }
   ],
   "source": [
    "5 == 3"
   ]
  },
  {
   "cell_type": "code",
   "execution_count": 9,
   "id": "166fd65b-7378-40d5-a6f7-dced768e0142",
   "metadata": {},
   "outputs": [
    {
     "data": {
      "text/plain": [
       "False"
      ]
     },
     "execution_count": 9,
     "metadata": {},
     "output_type": "execute_result"
    }
   ],
   "source": [
    "5 < 3"
   ]
  },
  {
   "cell_type": "markdown",
   "id": "a174502b-ac8e-46e7-ab36-3c9ab174aa1b",
   "metadata": {},
   "source": [
    "# 입력과 출력\n",
    "- 입력 : input()"
   ]
  },
  {
   "cell_type": "code",
   "execution_count": 11,
   "id": "f4da2893-dbc0-4ce3-8836-052e7aca32bb",
   "metadata": {},
   "outputs": [
    {
     "name": "stdin",
     "output_type": "stream",
     "text": [
      "임의의 값을 입력하세요 d\n"
     ]
    },
    {
     "name": "stdout",
     "output_type": "stream",
     "text": [
      "d\n"
     ]
    }
   ],
   "source": [
    "x = input(\"임의의 값을 입력하세요\")\n",
    "print(x)"
   ]
  },
  {
   "cell_type": "code",
   "execution_count": 12,
   "id": "c3810d0c-2cf5-4224-a3df-4568b519dbeb",
   "metadata": {},
   "outputs": [
    {
     "name": "stdout",
     "output_type": "stream",
     "text": [
      "2\n"
     ]
    }
   ],
   "source": [
    "x = 1\n",
    "y = 1\n",
    "\n",
    "print(x+y)"
   ]
  },
  {
   "cell_type": "code",
   "execution_count": 16,
   "id": "2453c396-d9de-440b-80c1-f73a6f93c72d",
   "metadata": {},
   "outputs": [
    {
     "name": "stdin",
     "output_type": "stream",
     "text": [
      "임의의 숫자를 입력하세요 1\n",
      "임의의 숫자를 입력하세요 1\n"
     ]
    },
    {
     "name": "stdout",
     "output_type": "stream",
     "text": [
      "<class 'str'> <class 'str'>\n",
      "11\n"
     ]
    }
   ],
   "source": [
    "x = input(\"임의의 숫자를 입력하세요\")\n",
    "y = input(\"임의의 숫자를 입력하세요\")\n",
    "\n",
    "print(type(x), type(y))\n",
    "\n",
    "print(x+y)"
   ]
  },
  {
   "cell_type": "markdown",
   "id": "794f9edd-1e3c-43fa-a1bb-dd736e1394be",
   "metadata": {},
   "source": [
    "## 자료 형변환\n",
    "- 문자 -> 숫자, 숫자 -> 문자, A 자료형 -> D 자료형 ....\n",
    "- 대부분이 class or 함수를 활용해서 형변환 # class = int, float..."
   ]
  },
  {
   "cell_type": "code",
   "execution_count": 18,
   "id": "d05e3c85-33d0-4b8f-addf-8732a4dc5027",
   "metadata": {},
   "outputs": [
    {
     "name": "stdin",
     "output_type": "stream",
     "text": [
      "임의의 숫자를 입력하세요 1\n",
      "임의의 숫자를 입력하세요 1\n"
     ]
    },
    {
     "name": "stdout",
     "output_type": "stream",
     "text": [
      "<class 'int'> <class 'int'>\n",
      "2\n"
     ]
    }
   ],
   "source": [
    "x = int(input(\"임의의 숫자를 입력하세요\"))\n",
    "y = int(input(\"임의의 숫자를 입력하세요\"))\n",
    "\n",
    "print(type(x), type(y))\n",
    "\n",
    "print(x+y)"
   ]
  },
  {
   "cell_type": "code",
   "execution_count": 19,
   "id": "cd5d5b93-e9ca-4078-8a96-c4900f5be411",
   "metadata": {},
   "outputs": [
    {
     "name": "stdin",
     "output_type": "stream",
     "text": [
      "임의의 숫자를 입력하세요 2\n",
      "임의의 숫자를 입력하세요 2\n"
     ]
    },
    {
     "name": "stdout",
     "output_type": "stream",
     "text": [
      "<class 'float'> <class 'float'>\n",
      "4.0\n"
     ]
    }
   ],
   "source": [
    "x = float(input(\"임의의 숫자를 입력하세요\"))\n",
    "y = float(input(\"임의의 숫자를 입력하세요\"))\n",
    "\n",
    "print(type(x), type(y))\n",
    "\n",
    "print(x+y)"
   ]
  },
  {
   "cell_type": "code",
   "execution_count": 20,
   "id": "1347bbdd-9dd0-423a-9779-1611da2f110e",
   "metadata": {},
   "outputs": [
    {
     "data": {
      "text/plain": [
       "3"
      ]
     },
     "execution_count": 20,
     "metadata": {},
     "output_type": "execute_result"
    }
   ],
   "source": [
    "# 문자열\n",
    "a = '3.3'\n",
    "int(float(a))"
   ]
  },
  {
   "cell_type": "markdown",
   "id": "867dc714-0ea3-4e85-a9d4-64a60c626c6d",
   "metadata": {},
   "source": [
    "# String"
   ]
  },
  {
   "cell_type": "code",
   "execution_count": 22,
   "id": "086e004e-eb5a-435c-9206-e8bc46bd368e",
   "metadata": {},
   "outputs": [
    {
     "name": "stdout",
     "output_type": "stream",
     "text": [
      "abcdefkga\n"
     ]
    }
   ],
   "source": [
    "a = \"abc\"\n",
    "b = 'def'\n",
    "c = \"kga\"\n",
    "\n",
    "result = a + b + c\n",
    "print(result)"
   ]
  },
  {
   "cell_type": "code",
   "execution_count": 24,
   "id": "5ca475bc-bc33-42a9-abe4-410eeff203ac",
   "metadata": {},
   "outputs": [
    {
     "name": "stdout",
     "output_type": "stream",
     "text": [
      "abcdefkgaabcdefkgaabcdefkga\n"
     ]
    }
   ],
   "source": [
    "print(result * 3)"
   ]
  },
  {
   "cell_type": "code",
   "execution_count": 26,
   "id": "07ce414f-ef39-419a-bf4a-faf89bc26e52",
   "metadata": {},
   "outputs": [
    {
     "name": "stdout",
     "output_type": "stream",
     "text": [
      "\n",
      "fefasf\n",
      "afggg\n",
      "afgfgafg\n",
      "afg\n"
     ]
    }
   ],
   "source": [
    "a = \"\"\"\n",
    "fefasf\n",
    "afggg\n",
    "afgfgafg\n",
    "afg\"\"\"\n",
    "\n",
    "print(a)"
   ]
  },
  {
   "cell_type": "code",
   "execution_count": 27,
   "id": "d7f23d2c-afd9-44f2-b3c2-f9d825d05222",
   "metadata": {},
   "outputs": [
    {
     "name": "stdout",
     "output_type": "stream",
     "text": [
      "\n",
      "fefasf\n",
      "afggg\n",
      "afgfgafg\n",
      "afg\n"
     ]
    }
   ],
   "source": [
    "a = '''\n",
    "fefasf\n",
    "afggg\n",
    "afgfgafg\n",
    "afg'''\n",
    "\n",
    "print(a)"
   ]
  },
  {
   "cell_type": "markdown",
   "id": "53482f26-e615-4231-81dd-6693a224ea5e",
   "metadata": {},
   "source": [
    "## 문자열 포맷팅\n",
    "* F-string 포맷팅으로 문자열 만들기"
   ]
  },
  {
   "cell_type": "code",
   "execution_count": 30,
   "id": "871a3add-0606-45b6-847f-80f9d37143f9",
   "metadata": {},
   "outputs": [
    {
     "name": "stdout",
     "output_type": "stream",
     "text": [
      "<class 'str'> 안녕하세요, 저눈 숫자 1 입니다.\n"
     ]
    }
   ],
   "source": [
    "x = 1 \n",
    "a = f'안녕하세요, 저눈 숫자 {x} 입니다.'\n",
    "print(type(a), a)"
   ]
  },
  {
   "cell_type": "markdown",
   "id": "f867d20e-d896-4f35-9476-40503857a5d7",
   "metadata": {},
   "source": [
    "## 인덱싱 및 슬라이싱"
   ]
  },
  {
   "cell_type": "code",
   "execution_count": 31,
   "id": "92e95de9-58c1-4343-8f96-4d8bbb34a7cf",
   "metadata": {},
   "outputs": [
    {
     "name": "stdout",
     "output_type": "stream",
     "text": [
      "23\n"
     ]
    }
   ],
   "source": [
    "a = \"안녕하세요, 저는 파이썬 강사 알파코입니다\"\n",
    "print(len(a))"
   ]
  },
  {
   "cell_type": "code",
   "execution_count": 111,
   "id": "65093cc3-d301-45db-aea8-9171a9a3c65d",
   "metadata": {},
   "outputs": [],
   "source": [
    "# a[23] # 범위 밖 값을 가져올 때, IndexError 발생"
   ]
  },
  {
   "cell_type": "code",
   "execution_count": 36,
   "id": "5cc4089c-67e5-41bd-898d-2e7c35aa117f",
   "metadata": {},
   "outputs": [
    {
     "name": "stdout",
     "output_type": "stream",
     "text": [
      "22\n"
     ]
    },
    {
     "data": {
      "text/plain": [
       "'다'"
      ]
     },
     "execution_count": 36,
     "metadata": {},
     "output_type": "execute_result"
    }
   ],
   "source": [
    "a = \"안녕하세요, 저는 파이썬 강사 알파코입니다\"\n",
    "print(len(a)-1)\n",
    "a[len(a)-1]"
   ]
  },
  {
   "cell_type": "code",
   "execution_count": 37,
   "id": "48993ea5-ff74-4be5-b04c-246f81c21a4c",
   "metadata": {},
   "outputs": [
    {
     "data": {
      "text/plain": [
       "'다'"
      ]
     },
     "execution_count": 37,
     "metadata": {},
     "output_type": "execute_result"
    }
   ],
   "source": [
    "a[-1]"
   ]
  },
  {
   "cell_type": "markdown",
   "id": "57dcbc15-283d-4dd5-86f3-cd8ddddb784e",
   "metadata": {},
   "source": [
    "## 슬라이싱"
   ]
  },
  {
   "cell_type": "code",
   "execution_count": 44,
   "id": "6f99f430-5266-4105-a8b4-12e42254c526",
   "metadata": {},
   "outputs": [
    {
     "name": "stdout",
     "output_type": "stream",
     "text": [
      "0246\n",
      "6789\n",
      "012345\n"
     ]
    }
   ],
   "source": [
    "a = \"0123456789\"\n",
    "print(a[0:8:2])\n",
    "print(a[6:])\n",
    "print(a[:6])"
   ]
  },
  {
   "cell_type": "markdown",
   "id": "1db2618d-2427-4c81-8568-d274164f3ba4",
   "metadata": {},
   "source": [
    "## 문자열 수정"
   ]
  },
  {
   "cell_type": "code",
   "execution_count": 52,
   "id": "fac37c56-b135-425d-b962-73938cf1ef2f",
   "metadata": {},
   "outputs": [
    {
     "data": {
      "text/plain": [
       "'Python'"
      ]
     },
     "execution_count": 52,
     "metadata": {},
     "output_type": "execute_result"
    }
   ],
   "source": [
    "a = \"Aython\"\n",
    "\n",
    "\"P\" + a[1:]\n",
    "\n",
    "# 미션\n",
    "# A를 P로 변경"
   ]
  },
  {
   "cell_type": "code",
   "execution_count": 149,
   "id": "1a1db5c5-9bfd-4515-9ee6-0f406474f19c",
   "metadata": {},
   "outputs": [],
   "source": [
    "#a = \"Aython\"\n",
    "# a[0] = 'P' # 이렇게는 안됨"
   ]
  },
  {
   "cell_type": "code",
   "execution_count": 57,
   "id": "58307fc1-211a-4407-b0dc-2826fe204f3a",
   "metadata": {},
   "outputs": [
    {
     "name": "stdout",
     "output_type": "stream",
     "text": [
      "Python\n"
     ]
    }
   ],
   "source": [
    "a = \"Aython\"\n",
    "\n",
    "result = a.replace(\"A\", \"P\") # replace라는 메소드 사용\n",
    "print(result)"
   ]
  },
  {
   "cell_type": "markdown",
   "id": "5f41556d-f790-4dc2-bcac-01b184fbb98d",
   "metadata": {},
   "source": [
    "## 문자열 메서드\n",
    "- 클래스와 클래스 메서드에 대한 이해"
   ]
  },
  {
   "cell_type": "code",
   "execution_count": 63,
   "id": "6601761e-dcab-44b3-8bf5-fadf755cc6e9",
   "metadata": {},
   "outputs": [],
   "source": [
    "#a = \"Aython\"\n",
    "\n",
    "#result = a.Replace(\"A\", \"P\") # AttributeError 'str' object has no attribute 'Replace' str이라는 객체(a)에 REplace가 없다\n",
    "\n",
    "#print(result) "
   ]
  },
  {
   "cell_type": "code",
   "execution_count": 61,
   "id": "bb245a76-35da-4e4b-bb1c-2a23ee79dd6b",
   "metadata": {},
   "outputs": [],
   "source": [
    "b = \"Aython\"\n",
    "\n",
    "#b를 활용해서 무언가를 하고 싶음 ==> 메서드가 있을 것 같은데 ~ "
   ]
  },
  {
   "cell_type": "code",
   "execution_count": 64,
   "id": "805a8ad9-1280-44a5-aa39-3a75fbd91532",
   "metadata": {},
   "outputs": [],
   "source": [
    "b = \"python\"\n",
    "\n",
    "# 메서드 사용 예시 string object b = \"python\" ==> 대문자로 바꾸고 싶음 ==> gpt 답변 ==> 공식문서 체크"
   ]
  },
  {
   "cell_type": "code",
   "execution_count": 65,
   "id": "dea89f75-10c2-4a95-a0ce-a82e86321d44",
   "metadata": {},
   "outputs": [
    {
     "data": {
      "text/plain": [
       "'HELLO, STREAMLIT'"
      ]
     },
     "execution_count": 65,
     "metadata": {},
     "output_type": "execute_result"
    }
   ],
   "source": [
    "sampleText = \"hello, streamlit\"\n",
    "sampleText = sampleText.upper()\n",
    "sampleText"
   ]
  },
  {
   "cell_type": "code",
   "execution_count": 66,
   "id": "d2391583-bbf5-4e01-a9d9-12bd9f6d318f",
   "metadata": {},
   "outputs": [
    {
     "data": {
      "text/plain": [
       "'hello, streamlit'"
      ]
     },
     "execution_count": 66,
     "metadata": {},
     "output_type": "execute_result"
    }
   ],
   "source": [
    "sampleText.lower()"
   ]
  },
  {
   "cell_type": "code",
   "execution_count": 69,
   "id": "cc735472-6ce3-4d6c-a157-249940d8b2c5",
   "metadata": {},
   "outputs": [
    {
     "data": {
      "text/plain": [
       "'Hello, streamlit'"
      ]
     },
     "execution_count": 69,
     "metadata": {},
     "output_type": "execute_result"
    }
   ],
   "source": [
    "sampleText = \"hello, streamlit\"\n",
    "sampleText.capitalize()  # 첫글자만 대문자"
   ]
  },
  {
   "cell_type": "code",
   "execution_count": 71,
   "id": "61adb149-f729-4d8a-ae5d-61a96e4f3acf",
   "metadata": {},
   "outputs": [
    {
     "data": {
      "text/plain": [
       "'Hello, Streamlit'"
      ]
     },
     "execution_count": 71,
     "metadata": {},
     "output_type": "execute_result"
    }
   ],
   "source": [
    "sampleText = \"hello, streamlit\"\n",
    "sampleText.title() # 각 단어를 대문자"
   ]
  },
  {
   "cell_type": "code",
   "execution_count": 72,
   "id": "10fa269a-f10a-4b91-81e1-266fe061936b",
   "metadata": {},
   "outputs": [
    {
     "data": {
      "text/plain": [
       "['hello', ' streamlit']"
      ]
     },
     "execution_count": 72,
     "metadata": {},
     "output_type": "execute_result"
    }
   ],
   "source": [
    "sampleText = \"hello, streamlit\"\n",
    "words = sampleText.split(sep=\",\")\n",
    "words"
   ]
  },
  {
   "cell_type": "code",
   "execution_count": 73,
   "id": "4681d63a-6077-4696-8dd9-79adf1e7e65a",
   "metadata": {},
   "outputs": [
    {
     "data": {
      "text/plain": [
       "['hello,', 'streamlit']"
      ]
     },
     "execution_count": 73,
     "metadata": {},
     "output_type": "execute_result"
    }
   ],
   "source": [
    "sampleText = \"hello, streamlit\"\n",
    "words = sampleText.split() # 공백기준\n",
    "words"
   ]
  },
  {
   "cell_type": "code",
   "execution_count": 78,
   "id": "8673ed14-1474-4864-a850-c58efe834d28",
   "metadata": {},
   "outputs": [
    {
     "data": {
      "text/plain": [
       "list"
      ]
     },
     "execution_count": 78,
     "metadata": {},
     "output_type": "execute_result"
    }
   ],
   "source": [
    "sampleText = \"hello, stream,lit\"\n",
    "words = sampleText.split(sep=\",\") # Str => list\n",
    "type(words)"
   ]
  },
  {
   "cell_type": "code",
   "execution_count": 77,
   "id": "3bdb0a89-570d-488e-a9a0-335879f7ee00",
   "metadata": {},
   "outputs": [
    {
     "data": {
      "text/plain": [
       "'hello, streamlit'"
      ]
     },
     "execution_count": 77,
     "metadata": {},
     "output_type": "execute_result"
    }
   ],
   "source": [
    "samplelist = [\"hello\", \"streamlit\"]\n",
    "text = \", \".join(samplelist) # list => str\n",
    "text"
   ]
  },
  {
   "cell_type": "code",
   "execution_count": null,
   "id": "31204f4b-6996-4bbb-8477-b86d72810ecd",
   "metadata": {},
   "outputs": [],
   "source": [
    "#리스트는 함수 문자열 리스트, 등등 상관없이 다 들어가서 저장할 수 있는 공간 "
   ]
  },
  {
   "cell_type": "markdown",
   "id": "900497b5-c406-4022-b6c6-932feaf13f8c",
   "metadata": {},
   "source": [
    "## 시퀀스 자료형 확인\n",
    "시퀀스 자료형\n",
    "슬라이스와 인덱싱이 가능한 자료\n",
    "반복문의 기초적인 자료로 사용 가능\n",
    "\n",
    "인지 확인하는 것이다"
   ]
  },
  {
   "cell_type": "code",
   "execution_count": 79,
   "id": "3fbe8db4-3ab8-4bdd-9614-63dd1f4a2dd8",
   "metadata": {},
   "outputs": [
    {
     "name": "stdout",
     "output_type": "stream",
     "text": [
      "False\n",
      "True\n",
      "True\n"
     ]
    }
   ],
   "source": [
    "from collections.abc import Sequence\n",
    "\n",
    "my_num = 100\n",
    "my_list = [1, 2, 3]\n",
    "my_string = \"hello\"\n",
    "\n",
    "is_num = isinstance(my_num, Sequence)\n",
    "is_list = isinstance(my_list, Sequence)\n",
    "is_string = isinstance(my_string, Sequence)\n",
    "\n",
    "print(is_num)\n",
    "print(is_list)\n",
    "print(is_string)"
   ]
  },
  {
   "cell_type": "markdown",
   "id": "23143e8a-a784-40bd-9b36-b8a6be1e1625",
   "metadata": {},
   "source": [
    "# List 리스트"
   ]
  },
  {
   "cell_type": "code",
   "execution_count": 83,
   "id": "4cd0c5f6-48ed-40cf-b8bf-ebac8bf133b2",
   "metadata": {},
   "outputs": [
    {
     "name": "stdout",
     "output_type": "stream",
     "text": [
      "1\n",
      "[0, 1, 2, 3, 4, 5, 6, 7]\n"
     ]
    }
   ],
   "source": [
    "a = [0, 1, 2, 3, 4, 5, 6, 7, 8]\n",
    "print(a[1])\n",
    "print(a[0:8])"
   ]
  },
  {
   "cell_type": "code",
   "execution_count": 87,
   "id": "4cfed7da-5958-4215-97c0-9b2fee7460f2",
   "metadata": {},
   "outputs": [
    {
     "data": {
      "text/plain": [
       "'e'"
      ]
     },
     "execution_count": 87,
     "metadata": {},
     "output_type": "execute_result"
    }
   ],
   "source": [
    "a = [0, 1, 2, [\"Python\", \"Hello\"], 3, 4, 5]\n",
    "a[3][1][1]"
   ]
  },
  {
   "cell_type": "code",
   "execution_count": 148,
   "id": "e661d26d-c025-46a8-889f-30d370fd2ff2",
   "metadata": {},
   "outputs": [
    {
     "data": {
      "text/plain": [
       "['iM', '뱅크', '아카데미']"
      ]
     },
     "execution_count": 148,
     "metadata": {},
     "output_type": "execute_result"
    }
   ],
   "source": [
    "a = [\"iM\", \"뱅크\"]\n",
    "a.append(\"아카데미\")  # append 는 바로 출력 안되고 내부적으로 업데이트 됨\n",
    "a"
   ]
  },
  {
   "cell_type": "code",
   "execution_count": 150,
   "id": "a681f41d-3ef3-4f5d-8d88-6b1f105271d3",
   "metadata": {
    "scrolled": true
   },
   "outputs": [
    {
     "name": "stdout",
     "output_type": "stream",
     "text": [
      "None\n"
     ]
    }
   ],
   "source": [
    "a = [\"iM\", \"뱅크\"]\n",
    "result = a.append(\"아카데미\") # 이렇게 하지 말고 그냥 바로 append 사용할것 \n",
    "print(result)"
   ]
  },
  {
   "cell_type": "code",
   "execution_count": 91,
   "id": "a849a7ed-6696-42ac-879e-07dcd50c49d3",
   "metadata": {},
   "outputs": [
    {
     "data": {
      "text/plain": [
       "[100, 200, 300, 400]"
      ]
     },
     "execution_count": 91,
     "metadata": {},
     "output_type": "execute_result"
    }
   ],
   "source": [
    "[100, 200] + [300, 400]"
   ]
  },
  {
   "cell_type": "code",
   "execution_count": 147,
   "id": "d14968f1-5450-492c-9f56-56b671f36270",
   "metadata": {},
   "outputs": [
    {
     "data": {
      "text/plain": [
       "[100, 200, [300, 400]]"
      ]
     },
     "execution_count": 147,
     "metadata": {},
     "output_type": "execute_result"
    }
   ],
   "source": [
    "a = [100, 200]\n",
    "a.append([300,400]) # 1개만 추가 가능\n",
    "a"
   ]
  },
  {
   "cell_type": "code",
   "execution_count": 95,
   "id": "def33de1-564b-4b0c-8bcb-2aab4db5d3f6",
   "metadata": {},
   "outputs": [
    {
     "data": {
      "text/plain": [
       "[100, 200, 300, 400]"
      ]
     },
     "execution_count": 95,
     "metadata": {},
     "output_type": "execute_result"
    }
   ],
   "source": [
    "a = [100, 200]\n",
    "a.extend([300, 400]) \n",
    "a"
   ]
  },
  {
   "cell_type": "markdown",
   "id": "6bf8ab08-64fc-4810-91fd-9ffc2e42a555",
   "metadata": {},
   "source": [
    "## 리스트 값 변경 및 삭제"
   ]
  },
  {
   "cell_type": "code",
   "execution_count": 97,
   "id": "5a776f2f-3e4a-4815-8949-6f7d64f94d66",
   "metadata": {},
   "outputs": [
    {
     "data": {
      "text/plain": [
       "[1302, 401, 418, 430, 529]"
      ]
     },
     "execution_count": 97,
     "metadata": {},
     "output_type": "execute_result"
    }
   ],
   "source": [
    "numbers = [302, 401, 418, 430, 529]\n",
    "numbers[0] = 1302\n",
    "numbers"
   ]
  },
  {
   "cell_type": "code",
   "execution_count": 152,
   "id": "a63ae7ea-b398-42b4-8024-2f6859ec679d",
   "metadata": {},
   "outputs": [],
   "source": [
    "# 튜플 (구성요소 변경 안됨)\n",
    "# numbers = (302, 401, 418, 430, 529)\n",
    "# numbers[0] = 1302\n",
    "# numbers"
   ]
  },
  {
   "cell_type": "code",
   "execution_count": 144,
   "id": "3caf5d6a-beed-4dfe-bd97-4ff11733c207",
   "metadata": {},
   "outputs": [
    {
     "data": {
      "text/plain": [
       "[302, 418, 430, 529]"
      ]
     },
     "execution_count": 144,
     "metadata": {},
     "output_type": "execute_result"
    }
   ],
   "source": [
    "# 리스트 삭제1\n",
    "numbers = [302, 401, 418, 430, 529]\n",
    "\n",
    "# 401을 제거한다.\n",
    "# numbers.remove(1) # ValueError: list.remove(x): x not in list 값과 관련 된 에러임 \n",
    "numbers.remove(401) # 구성 요소 중 값을 넣어줘야함\n",
    "numbers"
   ]
  },
  {
   "cell_type": "code",
   "execution_count": 145,
   "id": "7cc246c7-f63b-42e0-8a69-9bd987761deb",
   "metadata": {},
   "outputs": [
    {
     "data": {
      "text/plain": [
       "[302, 418, 430, 529]"
      ]
     },
     "execution_count": 145,
     "metadata": {},
     "output_type": "execute_result"
    }
   ],
   "source": [
    "# 리스트 삭제2\n",
    "numbers = [302, 401, 418, 430, 529]\n",
    "\n",
    "# 401을 제거한다.\n",
    "del numbers[1] # 인덱스 번호로 삭제\n",
    "numbers"
   ]
  },
  {
   "cell_type": "markdown",
   "id": "944d8686-3e0d-49e0-b026-dddf5d3ded03",
   "metadata": {},
   "source": [
    "## 딕셔너리"
   ]
  },
  {
   "cell_type": "code",
   "execution_count": 106,
   "id": "57e0b2b9-accb-43cc-afc4-82b791f4920c",
   "metadata": {},
   "outputs": [],
   "source": [
    "my_dic = {\n",
    "    'key1' : 'value',\n",
    "    'key2' : '모든 기초 자료형'   \n",
    "}   # 리스트, 숫자, 튜플, 딕셔너리 등등 다 value로 들어감"
   ]
  },
  {
   "cell_type": "code",
   "execution_count": 143,
   "id": "fbd9ec3d-6a08-4edf-b41c-6b606dbadc72",
   "metadata": {},
   "outputs": [
    {
     "data": {
      "text/plain": [
       "{'name': 'evan',\n",
       " 'age': 20,\n",
       " 'job': '강사',\n",
       " '쇼핑목록': [0, 1, 2, ['Python', 'Hello'], 3, 4, 5],\n",
       " '그 외': (1, 2, 3),\n",
       " '그 외2': {'key': 'value'}}"
      ]
     },
     "execution_count": 143,
     "metadata": {},
     "output_type": "execute_result"
    }
   ],
   "source": [
    "my_dic = {\n",
    "    \"name\" : \"evan\",\n",
    "    \"age\" : 20,\n",
    "    \"job\" : \"강사\",\n",
    "    \"쇼핑목록\" : [0, 1, 2, [\"Python\", \"Hello\"], 3, 4, 5],\n",
    "    \"그 외\" : (1, 2, 3),\n",
    "    \"그 외2\" : {\"key\" : \"value\"}\n",
    "}\n",
    "my_dic"
   ]
  },
  {
   "cell_type": "code",
   "execution_count": 141,
   "id": "fa054247-11df-4179-af2d-47d63df22c21",
   "metadata": {},
   "outputs": [],
   "source": [
    "# my_dic[0] # KeyError: 0 key 값을 입력 해야한다. 인덱스 번호는 없으니 사용 불가"
   ]
  },
  {
   "cell_type": "code",
   "execution_count": 124,
   "id": "83cd759e-b43e-4ecd-ac2f-93972a915de6",
   "metadata": {},
   "outputs": [
    {
     "data": {
      "text/plain": [
       "'o'"
      ]
     },
     "execution_count": 124,
     "metadata": {},
     "output_type": "execute_result"
    }
   ],
   "source": [
    "my_dic = {\n",
    "    \"name\" : \"evan\",\n",
    "    \"age\" : 20,\n",
    "    \"job\" : \"강사\",\n",
    "    \"쇼핑목록\" : [0, 1, 2, [\"Python\", \"Hello\"], 3, 4, 5],\n",
    "    \"그 외\" : (1, 2, 3),\n",
    "    \"그 외2\" : {\"key\" : \"value\"}\n",
    "}\n",
    "my_dic[\"쇼핑목록\"][3][1][-1]"
   ]
  },
  {
   "cell_type": "markdown",
   "id": "32f5c8ef-088b-47fe-84eb-7ec1d1737812",
   "metadata": {},
   "source": [
    "## 값 추가 변경"
   ]
  },
  {
   "cell_type": "code",
   "execution_count": 142,
   "id": "38aecb5a-4e59-4af8-a594-22ffe761551c",
   "metadata": {},
   "outputs": [
    {
     "data": {
      "text/plain": [
       "{'name': 'evan',\n",
       " 'age': 20,\n",
       " 'job': '강사',\n",
       " '쇼핑목록': ['맥벅', '아이패드'],\n",
       " '그 외': (1, 2, 3),\n",
       " '그 외2': {'key': 'value'},\n",
       " '기타': '아무거나'}"
      ]
     },
     "execution_count": 142,
     "metadata": {},
     "output_type": "execute_result"
    }
   ],
   "source": [
    "my_dic[\"기타\"] = \"아무거나\"\n",
    "my_dic"
   ]
  },
  {
   "cell_type": "code",
   "execution_count": 153,
   "id": "5ba8b6b6-9744-4983-b6f5-745063a0cec1",
   "metadata": {},
   "outputs": [
    {
     "data": {
      "text/plain": [
       "{'name': 'evan',\n",
       " 'age': 20,\n",
       " 'job': '강사',\n",
       " '쇼핑목록': ['맥북', '아이패드'],\n",
       " '그 외': (1, 2, 3),\n",
       " '그 외2': {'key': 'value'}}"
      ]
     },
     "execution_count": 153,
     "metadata": {},
     "output_type": "execute_result"
    }
   ],
   "source": [
    "my_dic[\"쇼핑목록\"] = [\"맥북\", \"아이패드\"]\n",
    "my_dic"
   ]
  },
  {
   "cell_type": "code",
   "execution_count": 155,
   "id": "680946d1-a8e2-405e-91d8-1b0bd6d87801",
   "metadata": {},
   "outputs": [
    {
     "data": {
      "text/plain": [
       "{'name': 'evan',\n",
       " 'age': 20,\n",
       " 'job': '강사',\n",
       " '쇼핑목록': ['맥벅', '아이패드'],\n",
       " '그 외': (1, 2, 3),\n",
       " '그 외2': {'key': 'value'}}"
      ]
     },
     "execution_count": 155,
     "metadata": {},
     "output_type": "execute_result"
    }
   ],
   "source": [
    "my_dic[\"쇼핑목록\"][0] = \"맥벅\"\n",
    "my_dic"
   ]
  },
  {
   "cell_type": "code",
   "execution_count": 128,
   "id": "79cb4623-0208-4616-963f-33e7b2f60529",
   "metadata": {},
   "outputs": [
    {
     "data": {
      "text/plain": [
       "dict_keys(['name', 'age', 'job', '쇼핑목록', '그 외', '그 외2', '기타'])"
      ]
     },
     "execution_count": 128,
     "metadata": {},
     "output_type": "execute_result"
    }
   ],
   "source": [
    "my_dic.keys()"
   ]
  },
  {
   "cell_type": "code",
   "execution_count": 139,
   "id": "88362b9d-9e64-485c-9569-883d2ef99841",
   "metadata": {},
   "outputs": [],
   "source": [
    "# 리스트로 작업하고 싶으면 list로 변경\n",
    "# list(my_dic.keys())"
   ]
  },
  {
   "cell_type": "code",
   "execution_count": 129,
   "id": "ccae7f3f-5412-47b1-87a7-066c2157dc58",
   "metadata": {},
   "outputs": [
    {
     "data": {
      "text/plain": [
       "dict_values(['evan', 20, '강사', ['맥벅', '아이패드'], (1, 2, 3), {'key': 'value'}, '아무거나'])"
      ]
     },
     "execution_count": 129,
     "metadata": {},
     "output_type": "execute_result"
    }
   ],
   "source": [
    "my_dic.values()"
   ]
  },
  {
   "cell_type": "code",
   "execution_count": 140,
   "id": "29e35695-8196-4290-a95f-84e456adcb18",
   "metadata": {},
   "outputs": [
    {
     "data": {
      "text/plain": [
       "dict_keys(['name', 'age', 'job', '쇼핑목록', '그 외', '그 외2', '기타'])"
      ]
     },
     "execution_count": 140,
     "metadata": {},
     "output_type": "execute_result"
    }
   ],
   "source": [
    "my_dic.keys()"
   ]
  },
  {
   "cell_type": "code",
   "execution_count": 137,
   "id": "47154ba9-de27-4e08-b7f0-757023a0a8a0",
   "metadata": {},
   "outputs": [
    {
     "data": {
      "text/plain": [
       "dict_items([('name', 'evan'), ('age', 20), ('job', '강사'), ('쇼핑목록', ['맥벅', '아이패드']), ('그 외', (1, 2, 3)), ('그 외2', {'key': 'value'}), ('기타', '아무거나')])"
      ]
     },
     "execution_count": 137,
     "metadata": {},
     "output_type": "execute_result"
    }
   ],
   "source": [
    "my_dic.items()"
   ]
  }
 ],
 "metadata": {
  "kernelspec": {
   "display_name": "Python 3 (ipykernel)",
   "language": "python",
   "name": "python3"
  },
  "language_info": {
   "codemirror_mode": {
    "name": "ipython",
    "version": 3
   },
   "file_extension": ".py",
   "mimetype": "text/x-python",
   "name": "python",
   "nbconvert_exporter": "python",
   "pygments_lexer": "ipython3",
   "version": "3.12.6"
  }
 },
 "nbformat": 4,
 "nbformat_minor": 5
}
