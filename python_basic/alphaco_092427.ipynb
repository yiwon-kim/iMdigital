{
 "cells": [
  {
   "cell_type": "markdown",
   "id": "28b64389-5507-495f-a09c-9b8d731a9a1b",
   "metadata": {},
   "source": [
    "# 라이브러리 설치"
   ]
  },
  {
   "cell_type": "code",
   "execution_count": 2,
   "id": "32382f0b-4e83-4b21-8eca-ad4f3ddcce7d",
   "metadata": {},
   "outputs": [
    {
     "name": "stdout",
     "output_type": "stream",
     "text": [
      "Requirement already satisfied: numpy in c:\\users\\campus3s002\\desktop\\imdigital\\venv\\lib\\site-packages (2.1.1)\n"
     ]
    }
   ],
   "source": [
    "!pip install numpy  # 터미널에서 라이브러리 설치하는 방법 ! 붙이기"
   ]
  },
  {
   "cell_type": "code",
   "execution_count": 3,
   "id": "121200eb-70dd-43c1-8bfb-340a14229696",
   "metadata": {},
   "outputs": [
    {
     "name": "stdout",
     "output_type": "stream",
     "text": [
      "2.1.1\n"
     ]
    }
   ],
   "source": [
    "import numpy as np # 사용하기 위해 저장소에서 꺼내는 역할 import \n",
    "\n",
    "print(np.__version__)"
   ]
  },
  {
   "cell_type": "code",
   "execution_count": 5,
   "id": "8c5e4d01-7ff3-4b79-b102-2a460e6f96da",
   "metadata": {},
   "outputs": [],
   "source": [
    "# help(np)"
   ]
  },
  {
   "cell_type": "code",
   "execution_count": 6,
   "id": "03e750dc-f836-474d-92d7-3e1d461648fd",
   "metadata": {},
   "outputs": [
    {
     "data": {
      "text/plain": [
       "[1, 2, 3, 4, 5, 6]"
      ]
     },
     "execution_count": 6,
     "metadata": {},
     "output_type": "execute_result"
    }
   ],
   "source": [
    "num1 = [1, 2, 3]\n",
    "num2 = [4, 5, 6]\n",
    "#      [5, 7, 9]\n",
    "\n",
    "num1 + num2\n"
   ]
  },
  {
   "cell_type": "code",
   "execution_count": 354,
   "id": "7e49269b-e266-4604-a509-dacfbcdb88c6",
   "metadata": {},
   "outputs": [
    {
     "data": {
      "text/plain": [
       "array([5, 7, 9])"
      ]
     },
     "execution_count": 354,
     "metadata": {},
     "output_type": "execute_result"
    }
   ],
   "source": [
    "num1_arr = np.array(num1) # 기본 numpy 배열 만드는 법\n",
    "num2_arr = np.array(num2)\n",
    "\n",
    "num1_arr + num2_arr"
   ]
  },
  {
   "cell_type": "code",
   "execution_count": 9,
   "id": "c6bf373d-d81c-4594-a1ce-99aba160604a",
   "metadata": {},
   "outputs": [
    {
     "name": "stdout",
     "output_type": "stream",
     "text": [
      "<class 'numpy.ndarray'>\n"
     ]
    }
   ],
   "source": [
    "print(type(num1_arr))\n",
    "# 속성, 메서드"
   ]
  },
  {
   "cell_type": "code",
   "execution_count": 352,
   "id": "e131222b-e8ce-4634-ba62-ec3e6a02bf04",
   "metadata": {},
   "outputs": [
    {
     "data": {
      "text/plain": [
       "(3,)"
      ]
     },
     "execution_count": 352,
     "metadata": {},
     "output_type": "execute_result"
    }
   ],
   "source": [
    "num1_arr.shape # 배열 모양"
   ]
  },
  {
   "cell_type": "code",
   "execution_count": 351,
   "id": "f6cc6f2b-c1f7-4ee5-a08f-e610c3338076",
   "metadata": {},
   "outputs": [
    {
     "data": {
      "text/plain": [
       "1"
      ]
     },
     "execution_count": 351,
     "metadata": {},
     "output_type": "execute_result"
    }
   ],
   "source": [
    "num1_arr.ndim # 배열의 차원 수 "
   ]
  },
  {
   "cell_type": "code",
   "execution_count": 19,
   "id": "771b7531-63b2-4cc9-b4ce-7d294b696a70",
   "metadata": {},
   "outputs": [
    {
     "name": "stdout",
     "output_type": "stream",
     "text": [
      "1\n"
     ]
    }
   ],
   "source": [
    "num1_arr.max(axis=0)\n",
    "print(num1_arr.min(axis=0))"
   ]
  },
  {
   "cell_type": "code",
   "execution_count": 353,
   "id": "7c03058e-8ff7-42cc-8e98-4968057c195d",
   "metadata": {},
   "outputs": [
    {
     "data": {
      "text/plain": [
       "dtype('int8')"
      ]
     },
     "execution_count": 353,
     "metadata": {},
     "output_type": "execute_result"
    }
   ],
   "source": [
    "num1_arr = np.array(num1, dtype=\"int8\")\n",
    "num1_arr.dtype # 데이터 타입"
   ]
  },
  {
   "cell_type": "markdown",
   "id": "938945ba-1547-41e9-a3ec-6d71a7c27655",
   "metadata": {},
   "source": [
    "### 배열 만드는 방법"
   ]
  },
  {
   "cell_type": "code",
   "execution_count": 356,
   "id": "50900ffc-041e-4993-8d95-ec795c37bd2c",
   "metadata": {},
   "outputs": [
    {
     "name": "stdout",
     "output_type": "stream",
     "text": [
      "[0. 0. 0.]\n",
      "[[0. 0. 0.]\n",
      " [0. 0. 0.]\n",
      " [0. 0. 0.]]\n",
      "[1. 1. 1.]\n"
     ]
    }
   ],
   "source": [
    "# 기본적으로 다른 데이터 자료형을 numpy 배열로 변환\n",
    "# 배열 생성\n",
    "print(np.zeros(3))\n",
    "print(np.zeros((3,3))) # 튜플형식으로 () 추가해서 행열 조합 가능\n",
    "print(np.ones(3)) # 1로 된 numpy 배열 생성"
   ]
  },
  {
   "cell_type": "code",
   "execution_count": 360,
   "id": "c9d56c5d-5253-42fa-951f-84d7d8129859",
   "metadata": {},
   "outputs": [
    {
     "data": {
      "text/plain": [
       "array([[ 5., 15.],\n",
       "       [10., 20.]])"
      ]
     },
     "execution_count": 360,
     "metadata": {},
     "output_type": "execute_result"
    }
   ],
   "source": [
    "arr = np.ndarray(shape=(2,2,2), dtype=float, order=\"F\") # ndarray는 이전에 가져온 값을 초기화 하지 않음\n",
    "#기본 array는 array 뒤에 초기화 시키는 값이 입력되어 있음. shape 은 2*2*2 3차원, order \"F\"는 열우선 저장, 기본 \"C\"는 행우선 저장 용도는 확인 필요\n",
    "arr.shape\n",
    "arr"
   ]
  },
  {
   "cell_type": "code",
   "execution_count": 30,
   "id": "ef2f6f9d-4e0e-493b-9247-5b7cca8b24ef",
   "metadata": {},
   "outputs": [
    {
     "data": {
      "text/plain": [
       "array([[ 0,  1,  2,  3],\n",
       "       [ 4,  5,  6,  7],\n",
       "       [ 8,  9, 10, 11],\n",
       "       [12, 13, 14, 15]])"
      ]
     },
     "execution_count": 30,
     "metadata": {},
     "output_type": "execute_result"
    }
   ],
   "source": [
    "temp_arr = np.arange(16) # 16개 숫자 배열 만듦 1* 16\n",
    "temp_arr.reshape(4,4) # 16개를 4*4로 재배열"
   ]
  },
  {
   "cell_type": "code",
   "execution_count": 31,
   "id": "bb181a50-c3fb-4f40-8f47-9950914f4c3b",
   "metadata": {},
   "outputs": [
    {
     "name": "stdout",
     "output_type": "stream",
     "text": [
      "[1.333]\n",
      "[1.333333]\n"
     ]
    }
   ],
   "source": [
    "a16 = np.array([1.333333], dtype=np.float16) # 비트 차이에 따라 입력 값 차이 발생해서 통일 시키거나, 정형화 하는 것 중요\n",
    "a32 = np.array([1.333333], dtype=np.float32)\n",
    "\n",
    "print(a16)\n",
    "print(a32)"
   ]
  },
  {
   "cell_type": "code",
   "execution_count": 32,
   "id": "ea1de819-35a7-46fd-bfe8-d3e24f4785ea",
   "metadata": {},
   "outputs": [
    {
     "name": "stdout",
     "output_type": "stream",
     "text": [
      "[1.7773433]\n"
     ]
    }
   ],
   "source": [
    "print(a16*a32)"
   ]
  },
  {
   "cell_type": "code",
   "execution_count": 359,
   "id": "4c8afbb9-dfa6-496d-8fd0-e94da2babe24",
   "metadata": {},
   "outputs": [
    {
     "name": "stderr",
     "output_type": "stream",
     "text": [
      "C:\\Users\\campus3S002\\AppData\\Local\\Temp\\ipykernel_1448\\3259108307.py:2: RuntimeWarning: divide by zero encountered in divide\n",
      "  arr/0\n"
     ]
    },
    {
     "data": {
      "text/plain": [
       "array([-inf, -inf, -inf])"
      ]
     },
     "execution_count": 359,
     "metadata": {},
     "output_type": "execute_result"
    }
   ],
   "source": [
    "arr = np.array([-1, -2, -3])\n",
    "arr/0"
   ]
  },
  {
   "cell_type": "markdown",
   "id": "7f9cbbe7-ab1c-4114-91b0-bc816efe8b81",
   "metadata": {},
   "source": [
    "결측치\n",
    "- Missing Value\n",
    "- nan : Not a Number, --> 아직 정의 되지 않은 숫자 의미"
   ]
  },
  {
   "cell_type": "code",
   "execution_count": 36,
   "id": "74f53ade-de1f-4a25-b8b7-3df57f86bfff",
   "metadata": {},
   "outputs": [
    {
     "name": "stdout",
     "output_type": "stream",
     "text": [
      "nan <class 'float'>\n"
     ]
    }
   ],
   "source": [
    "print(np.nan, type(np.nan))"
   ]
  },
  {
   "cell_type": "code",
   "execution_count": 37,
   "id": "bf70c5df-8d3c-4f7e-9ff5-a1905e334401",
   "metadata": {},
   "outputs": [
    {
     "name": "stdout",
     "output_type": "stream",
     "text": [
      "inf <class 'float'>\n"
     ]
    }
   ],
   "source": [
    "print(np.inf, type(np.inf))"
   ]
  },
  {
   "cell_type": "code",
   "execution_count": 38,
   "id": "d45ac19e-5642-4108-9d44-a590cea1789c",
   "metadata": {},
   "outputs": [
    {
     "name": "stdout",
     "output_type": "stream",
     "text": [
      "[nan nan nan]\n",
      "[inf inf inf]\n"
     ]
    }
   ],
   "source": [
    "arr = np.array([-1, -2, -3])\n",
    "print(arr + np.nan)\n",
    "print(arr + np.inf)"
   ]
  },
  {
   "cell_type": "markdown",
   "id": "60edbcda-1c55-436e-a39d-946a53f7e8e4",
   "metadata": {},
   "source": [
    "# 인덱싱 & 슬라이싱"
   ]
  },
  {
   "cell_type": "code",
   "execution_count": 39,
   "id": "7f684f05-8216-429e-bef6-f86b03a6cd3d",
   "metadata": {},
   "outputs": [
    {
     "data": {
      "text/plain": [
       "array([1, 2, 3, 4])"
      ]
     },
     "execution_count": 39,
     "metadata": {},
     "output_type": "execute_result"
    }
   ],
   "source": [
    "arr = np.arange(10)\n",
    "arr[1:5]"
   ]
  },
  {
   "cell_type": "code",
   "execution_count": 41,
   "id": "a06c60da-7138-4a63-9061-501de115afc1",
   "metadata": {},
   "outputs": [
    {
     "data": {
      "text/plain": [
       "array([[0, 1, 2, 3, 4],\n",
       "       [5, 6, 7, 8, 9]])"
      ]
     },
     "execution_count": 41,
     "metadata": {},
     "output_type": "execute_result"
    }
   ],
   "source": [
    "arr = np.arange(10).reshape(2, 5)\n",
    "arr"
   ]
  },
  {
   "cell_type": "code",
   "execution_count": 44,
   "id": "193c446a-6145-458e-9676-981b969f9a45",
   "metadata": {},
   "outputs": [
    {
     "data": {
      "text/plain": [
       "np.int64(2)"
      ]
     },
     "execution_count": 44,
     "metadata": {},
     "output_type": "execute_result"
    }
   ],
   "source": [
    "arr[0][2]"
   ]
  },
  {
   "cell_type": "code",
   "execution_count": 48,
   "id": "b53d17bd-691f-4070-962c-2a1731e5fd3f",
   "metadata": {},
   "outputs": [
    {
     "data": {
      "text/plain": [
       "array([[ 0,  1,  2,  3,  4,  5,  6,  7,  8,  9, 10, 11, 12, 13, 14, 15,\n",
       "        16, 17, 18, 19, 20, 21, 22, 23, 24, 25, 26, 27, 28, 29, 30, 31,\n",
       "        32, 33, 34, 35, 36, 37, 38, 39, 40, 41, 42, 43, 44, 45, 46, 47,\n",
       "        48, 49, 50, 51, 52, 53, 54, 55, 56, 57, 58, 59, 60, 61, 62, 63,\n",
       "        64, 65, 66, 67, 68, 69, 70, 71, 72, 73, 74, 75, 76, 77, 78, 79,\n",
       "        80, 81, 82, 83, 84, 85, 86, 87, 88, 89, 90, 91, 92, 93, 94, 95,\n",
       "        96, 97, 98, 99]])"
      ]
     },
     "execution_count": 48,
     "metadata": {},
     "output_type": "execute_result"
    }
   ],
   "source": [
    "arr = np.arange(10000).reshape(100, 100)\n",
    "arr[0:4][0:1]"
   ]
  },
  {
   "cell_type": "code",
   "execution_count": 50,
   "id": "797a929c-c2de-4bfc-a04a-5b9cbfd9eaf5",
   "metadata": {},
   "outputs": [
    {
     "data": {
      "text/plain": [
       "array([0, 1])"
      ]
     },
     "execution_count": 50,
     "metadata": {},
     "output_type": "execute_result"
    }
   ],
   "source": [
    "arr = np.arange(4)\n",
    "arr[:2]"
   ]
  },
  {
   "cell_type": "code",
   "execution_count": 69,
   "id": "b28d115b-615a-4c59-95f7-142a69a2f860",
   "metadata": {},
   "outputs": [
    {
     "data": {
      "text/plain": [
       "array([[ 7,  8,  9],\n",
       "       [12, 13, 14],\n",
       "       [17, 18, 19]])"
      ]
     },
     "execution_count": 69,
     "metadata": {},
     "output_type": "execute_result"
    }
   ],
   "source": [
    "arr = np.arange(20).reshape(4,5)\n",
    "arr[1:4, 2:5] # arr[행, 열]\n",
    "arr[:, :] # 전체 데터터"
   ]
  },
  {
   "cell_type": "markdown",
   "id": "d24c4708-4e4f-44a4-a2ed-b425c23260d7",
   "metadata": {},
   "source": [
    "# numpy broadcating 연산\n",
    "- 리스트 배열이 달라도 맞춰서 연산 해주는 기능\n",
    "- \n",
    "  `ex) [3*3] * 3 가능\n",
    "      [3*3] + 1 가능\n"
   ]
  },
  {
   "cell_type": "code",
   "execution_count": 82,
   "id": "0c1f47e5-63fc-4940-a5ba-cd9a71030391",
   "metadata": {},
   "outputs": [
    {
     "data": {
      "text/plain": [
       "array([2, 4, 6])"
      ]
     },
     "execution_count": 82,
     "metadata": {},
     "output_type": "execute_result"
    }
   ],
   "source": [
    "a = np.array([1, 2, 3])\n",
    "b = np.array([1, 2, 3])\n",
    "a + b"
   ]
  },
  {
   "cell_type": "code",
   "execution_count": 83,
   "id": "87822aec-8f6d-4756-8437-997bb32ca995",
   "metadata": {},
   "outputs": [
    {
     "data": {
      "text/plain": [
       "array([4., 5., 6.])"
      ]
     },
     "execution_count": 83,
     "metadata": {},
     "output_type": "execute_result"
    }
   ],
   "source": [
    "a = np.array([1, 2, 3])\n",
    "b = 3.0\n",
    "a + b"
   ]
  },
  {
   "cell_type": "markdown",
   "id": "960f9dcb-b0b8-4b02-90e3-a2eb8789ec08",
   "metadata": {},
   "source": [
    "## 조건 연산\n",
    "- 원하는 결과값 : True/False\n"
   ]
  },
  {
   "cell_type": "code",
   "execution_count": 88,
   "id": "99960956-a137-4d84-a287-40847836cee7",
   "metadata": {},
   "outputs": [
    {
     "data": {
      "text/plain": [
       "array([False,  True,  True])"
      ]
     },
     "execution_count": 88,
     "metadata": {},
     "output_type": "execute_result"
    }
   ],
   "source": [
    "arr = np.array([10, 20, 30]) # True 값만 가져온다 -> 필터\n",
    "arr > 10"
   ]
  },
  {
   "cell_type": "code",
   "execution_count": 86,
   "id": "4bf47fb7-a99c-4630-a55e-546b7be6df3b",
   "metadata": {},
   "outputs": [
    {
     "data": {
      "text/plain": [
       "array([20, 30])"
      ]
     },
     "execution_count": 86,
     "metadata": {},
     "output_type": "execute_result"
    }
   ],
   "source": [
    "arr = np.array([10, 20, 30])\n",
    "cond = [False, True, True]\n",
    "\n",
    "arr[cond]"
   ]
  },
  {
   "cell_type": "code",
   "execution_count": 87,
   "id": "6dd78d7d-af8b-49c5-b18f-25ba0006c1fd",
   "metadata": {},
   "outputs": [
    {
     "data": {
      "text/plain": [
       "array([20, 50, 30])"
      ]
     },
     "execution_count": 87,
     "metadata": {},
     "output_type": "execute_result"
    }
   ],
   "source": [
    "arr = np.array([18, 20, 50, 30, 16])\n",
    "cond = arr > 18\n",
    "\n",
    "arr[cond]"
   ]
  },
  {
   "cell_type": "code",
   "execution_count": 89,
   "id": "1f27d4c4-6e44-4036-b3e3-ce5363cebadc",
   "metadata": {},
   "outputs": [
    {
     "data": {
      "text/plain": [
       "array([20, 50, 30])"
      ]
     },
     "execution_count": 89,
     "metadata": {},
     "output_type": "execute_result"
    }
   ],
   "source": [
    "arr = np.array([18, 20, 50, 30, 16])\n",
    "\n",
    "arr[arr > 18]"
   ]
  },
  {
   "cell_type": "code",
   "execution_count": 99,
   "id": "bc87a284-97ea-4f95-811a-e9b4a53d7857",
   "metadata": {},
   "outputs": [
    {
     "data": {
      "text/plain": [
       "(array([18, 20, 50, 30, 16, 65, 70]), array([20, 50, 30]))"
      ]
     },
     "execution_count": 99,
     "metadata": {},
     "output_type": "execute_result"
    }
   ],
   "source": [
    "arr = np.array([18, 20, 50, 30, 16, 65, 70]) # 다중조건\n",
    "con0 = arr > 18\n",
    "con1 = arr < 65\n",
    "\n",
    "arr[con0 | con1], arr[con0 & con1] # or, and"
   ]
  },
  {
   "cell_type": "code",
   "execution_count": 101,
   "id": "00677c10-1580-4272-92ec-7a1f457c42c1",
   "metadata": {},
   "outputs": [
    {
     "data": {
      "text/plain": [
       "array([18, 20, 50, 30, 16, 65, 70])"
      ]
     },
     "execution_count": 101,
     "metadata": {},
     "output_type": "execute_result"
    }
   ],
   "source": [
    "# 괄호로 감싸는 것 권장사항, 이유 : pandas 다중조건 필터링할 때는 아래 방법으로만 가능\n",
    "# () 반드시 필요\n",
    "arr[(con0 | con1)] "
   ]
  },
  {
   "cell_type": "markdown",
   "id": "ababf1b8-12ba-4ba1-b81a-11c543413d33",
   "metadata": {},
   "source": [
    "## np.where\n",
    "- 조건문이라고 생각"
   ]
  },
  {
   "cell_type": "code",
   "execution_count": 103,
   "id": "1e768729-3a92-4cd5-8e14-29fbf4067f17",
   "metadata": {},
   "outputs": [
    {
     "data": {
      "text/plain": [
       "array([ 0,  1,  2,  3,  4, 50, 60, 70, 80, 90])"
      ]
     },
     "execution_count": 103,
     "metadata": {},
     "output_type": "execute_result"
    }
   ],
   "source": [
    "import numpy as np\n",
    "a = np.arange(10)\n",
    "a\n",
    "np.where(a < 5, a, 10*a) # where(조건, 반환값, else 반환값)"
   ]
  },
  {
   "cell_type": "markdown",
   "id": "7429f19e-a638-4f67-b9ad-8588404c6c4a",
   "metadata": {},
   "source": [
    "# 함수와 메서드"
   ]
  },
  {
   "cell_type": "code",
   "execution_count": 107,
   "id": "ca097d2a-b02b-4fe9-b6e2-821435e2d0bc",
   "metadata": {},
   "outputs": [
    {
     "data": {
      "text/plain": [
       "(np.int64(28),\n",
       " array([[0, 1],\n",
       "        [2, 3],\n",
       "        [4, 5],\n",
       "        [6, 7]]))"
      ]
     },
     "execution_count": 107,
     "metadata": {},
     "output_type": "execute_result"
    }
   ],
   "source": [
    "arr = np.arange(8).reshape(4, 2)\n",
    "arr.sum(), arr"
   ]
  },
  {
   "cell_type": "code",
   "execution_count": 108,
   "id": "a21e219c-11f9-46b4-85b7-a9240722d568",
   "metadata": {},
   "outputs": [
    {
     "data": {
      "text/plain": [
       "(array([12, 16]), array([ 1,  5,  9, 13]))"
      ]
     },
     "execution_count": 108,
     "metadata": {},
     "output_type": "execute_result"
    }
   ],
   "source": [
    "arr.sum(axis = 0) #세로축 합, 열단위 합\n",
    "arr.sum(axis = 1) # 가로축 합, 행단위 합"
   ]
  },
  {
   "cell_type": "code",
   "execution_count": 168,
   "id": "624d1abc-9727-41b0-97a4-51aef576f186",
   "metadata": {},
   "outputs": [
    {
     "data": {
      "text/plain": [
       "6"
      ]
     },
     "execution_count": 168,
     "metadata": {},
     "output_type": "execute_result"
    }
   ],
   "source": [
    "# 무작위 랜덤 함수 만들기\n",
    "np.random.seed(42) # 머신러닝 할 때, 이 코드를 자주 사용. 값이 고정 됨 \n",
    "np.random.randint(10)"
   ]
  },
  {
   "cell_type": "code",
   "execution_count": 169,
   "id": "0103f9b7-bb13-447c-a751-25ba198f3a96",
   "metadata": {},
   "outputs": [
    {
     "data": {
      "text/plain": [
       "array([28, 14, 42,  7, 20, 38], dtype=int32)"
      ]
     },
     "execution_count": 169,
     "metadata": {},
     "output_type": "execute_result"
    }
   ],
   "source": [
    "np.random.randint(46, size=6) # 0~ 45까지 무작위로 6개 가져오겠음"
   ]
  },
  {
   "cell_type": "code",
   "execution_count": 167,
   "id": "0f531ecf-bdac-4240-a3ab-a4c83b419c4b",
   "metadata": {},
   "outputs": [
    {
     "data": {
      "text/plain": [
       "array([[20, 24, 33, 24],\n",
       "       [11,  8, 36, 38],\n",
       "       [40, 20, 35, 25]], dtype=int32)"
      ]
     },
     "execution_count": 167,
     "metadata": {},
     "output_type": "execute_result"
    }
   ],
   "source": [
    "np.random.randint(1, 46, size=(3, 4))# 1~ 45까지 무작위로 (3,4)로 가져오겠음"
   ]
  },
  {
   "cell_type": "code",
   "execution_count": 165,
   "id": "af9f19e7-f7a6-483c-9ca5-1c181b5c14c9",
   "metadata": {},
   "outputs": [
    {
     "name": "stdout",
     "output_type": "stream",
     "text": [
      "[  0.  10.  20.  30.  40.  50.  60.  70.  80.  90. 100.]\n"
     ]
    }
   ],
   "source": [
    "x = np.linspace(0, 100, 11) # 0~ 100까지 11개로 분할 \n",
    "print(x)"
   ]
  },
  {
   "cell_type": "markdown",
   "id": "6125be6b-38a4-45bf-89f2-b23762d52e8a",
   "metadata": {},
   "source": [
    "# Pandas Series\n",
    "- 1차원 배열"
   ]
  },
  {
   "cell_type": "code",
   "execution_count": 171,
   "id": "c1a58c16-6f45-4ea3-aa00-b1d401970fdb",
   "metadata": {},
   "outputs": [
    {
     "data": {
      "text/plain": [
       "'2.2.3'"
      ]
     },
     "execution_count": 171,
     "metadata": {},
     "output_type": "execute_result"
    }
   ],
   "source": [
    "import pandas as pd\n",
    "pd.__version__"
   ]
  },
  {
   "cell_type": "code",
   "execution_count": 194,
   "id": "8a46f8c6-2031-47ce-bb06-b41e140bba1c",
   "metadata": {},
   "outputs": [
    {
     "data": {
      "text/plain": [
       "0    10\n",
       "1    20\n",
       "2    30\n",
       "dtype: int64"
      ]
     },
     "execution_count": 194,
     "metadata": {},
     "output_type": "execute_result"
    }
   ],
   "source": [
    "data = [10, 20, 30]\n",
    "s = pd.Series(data) # 시리즈는 행만 있는 1차원 배열\n",
    "s"
   ]
  },
  {
   "cell_type": "code",
   "execution_count": 173,
   "id": "8cea79a4-6aac-40a2-92b8-0452a43ab87d",
   "metadata": {},
   "outputs": [
    {
     "data": {
      "text/plain": [
       "pandas.core.series.Series"
      ]
     },
     "execution_count": 173,
     "metadata": {},
     "output_type": "execute_result"
    }
   ],
   "source": [
    "type(s)"
   ]
  },
  {
   "cell_type": "code",
   "execution_count": 196,
   "id": "4d77191d-cfd0-4614-a199-b82908a478dc",
   "metadata": {},
   "outputs": [
    {
     "data": {
      "text/plain": [
       "0    0\n",
       "1    1\n",
       "2    2\n",
       "3    3\n",
       "4    4\n",
       "dtype: int64"
      ]
     },
     "execution_count": 196,
     "metadata": {},
     "output_type": "execute_result"
    }
   ],
   "source": [
    "import numpy as np\n",
    "\n",
    "data = np.arange(5) # numpy를 series 로 변환 할 수 있음 \n",
    "s = pd.Series(data)\n",
    "s"
   ]
  },
  {
   "cell_type": "code",
   "execution_count": 195,
   "id": "e4eb0e21-4104-488f-b08c-2895903047fc",
   "metadata": {},
   "outputs": [
    {
     "data": {
      "text/html": [
       "<div>\n",
       "<style scoped>\n",
       "    .dataframe tbody tr th:only-of-type {\n",
       "        vertical-align: middle;\n",
       "    }\n",
       "\n",
       "    .dataframe tbody tr th {\n",
       "        vertical-align: top;\n",
       "    }\n",
       "\n",
       "    .dataframe thead th {\n",
       "        text-align: right;\n",
       "    }\n",
       "</style>\n",
       "<table border=\"1\" class=\"dataframe\">\n",
       "  <thead>\n",
       "    <tr style=\"text-align: right;\">\n",
       "      <th></th>\n",
       "      <th>0</th>\n",
       "    </tr>\n",
       "  </thead>\n",
       "  <tbody>\n",
       "    <tr>\n",
       "      <th>0</th>\n",
       "      <td>0</td>\n",
       "    </tr>\n",
       "    <tr>\n",
       "      <th>1</th>\n",
       "      <td>1</td>\n",
       "    </tr>\n",
       "    <tr>\n",
       "      <th>2</th>\n",
       "      <td>2</td>\n",
       "    </tr>\n",
       "    <tr>\n",
       "      <th>3</th>\n",
       "      <td>3</td>\n",
       "    </tr>\n",
       "    <tr>\n",
       "      <th>4</th>\n",
       "      <td>4</td>\n",
       "    </tr>\n",
       "  </tbody>\n",
       "</table>\n",
       "</div>"
      ],
      "text/plain": [
       "   0\n",
       "0  0\n",
       "1  1\n",
       "2  2\n",
       "3  3\n",
       "4  4"
      ]
     },
     "execution_count": 195,
     "metadata": {},
     "output_type": "execute_result"
    }
   ],
   "source": [
    "import numpy as np\n",
    "\n",
    "data = np.arange(5)\n",
    "s = pd.DataFrame(data) # DF는 행열이 있는 2차원 배열\n",
    "s"
   ]
  },
  {
   "cell_type": "code",
   "execution_count": 176,
   "id": "6536db85-e84a-45fe-9a4e-e3328dca4171",
   "metadata": {},
   "outputs": [
    {
     "data": {
      "text/plain": [
       "0    시가\n",
       "1    고가\n",
       "dtype: object"
      ]
     },
     "execution_count": 176,
     "metadata": {},
     "output_type": "execute_result"
    }
   ],
   "source": [
    "data = [\"시가\", \"고가\",]\n",
    "s = pd.Series(data)\n",
    "s"
   ]
  },
  {
   "cell_type": "code",
   "execution_count": 177,
   "id": "5b0af31f-8398-4fdc-8e69-2df395c43ac7",
   "metadata": {},
   "outputs": [
    {
     "data": {
      "text/plain": [
       "0    80000\n",
       "1    90000\n",
       "dtype: object"
      ]
     },
     "execution_count": 177,
     "metadata": {},
     "output_type": "execute_result"
    }
   ],
   "source": [
    "data = [80000, \"90000\",]\n",
    "s = pd.Series(data) # ㅐobject, category 등 속성 살펴보는 것도 중요\n",
    "s"
   ]
  },
  {
   "cell_type": "markdown",
   "id": "a2811bf9-8919-472f-900f-c09abb3b2f9f",
   "metadata": {},
   "source": [
    "# 시리즈 인덱스"
   ]
  },
  {
   "cell_type": "code",
   "execution_count": 181,
   "id": "e6c9aca1-8dd0-4548-b859-b65639059828",
   "metadata": {},
   "outputs": [
    {
     "name": "stdout",
     "output_type": "stream",
     "text": [
      "<class 'pandas.core.indexes.range.RangeIndex'>\n"
     ]
    }
   ],
   "source": [
    "data = [1000, 2000, 3000]\n",
    "s = pd.Series(data)\n",
    "print(type(s.index)) # pandas에서 사용하는 객체"
   ]
  },
  {
   "cell_type": "code",
   "execution_count": 182,
   "id": "855a4aa4-c375-4d61-b568-45df9e19a3d4",
   "metadata": {},
   "outputs": [
    {
     "data": {
      "text/plain": [
       "[0, 1, 2]"
      ]
     },
     "execution_count": 182,
     "metadata": {},
     "output_type": "execute_result"
    }
   ],
   "source": [
    "list(s.index)"
   ]
  },
  {
   "cell_type": "code",
   "execution_count": 183,
   "id": "a94a3280-c3d4-41ae-a6a2-9ed93b9106d8",
   "metadata": {},
   "outputs": [
    {
     "data": {
      "text/plain": [
       "[0, 1, 2]"
      ]
     },
     "execution_count": 183,
     "metadata": {},
     "output_type": "execute_result"
    }
   ],
   "source": [
    "s.index.to_list()"
   ]
  },
  {
   "cell_type": "code",
   "execution_count": 199,
   "id": "a8443b7c-063f-46b8-87f9-2c85f9d8778e",
   "metadata": {},
   "outputs": [],
   "source": [
    "#help(s.index) # 클래스에는 항상 속성과 메서드가 존재한다. \n",
    "# 원하는 메소드가 있으면, type 찾아보고 RangeIndex -> 공식문서 검색, to_list() 없으면 상위 클래스에서 상속 된거라 생각하고 한단계씩 올라가기"
   ]
  },
  {
   "cell_type": "code",
   "execution_count": 243,
   "id": "ba83abdb-e004-4094-9c65-08c00154eea0",
   "metadata": {},
   "outputs": [
    {
     "data": {
      "text/plain": [
       "메로나    1000\n",
       "월드콘    2000\n",
       "와      3000\n",
       "dtype: int64"
      ]
     },
     "execution_count": 243,
     "metadata": {},
     "output_type": "execute_result"
    }
   ],
   "source": [
    "# 시리즈 생성하면서 인덱스도 같이 생성\n",
    "data = [1000, 2000, 3000,]\n",
    "index = [\"메로나\", \"월드콘\", \"와\"]\n",
    "\n",
    "s = pd.Series(data=data, index=index) # data, index 명 지정해서 생성 가능\n",
    "s"
   ]
  },
  {
   "cell_type": "code",
   "execution_count": 209,
   "id": "40e3f7b1-2333-4ec8-ac61-b01667e79895",
   "metadata": {},
   "outputs": [
    {
     "data": {
      "text/plain": [
       "(array([1000, 2000, 3000]), numpy.ndarray)"
      ]
     },
     "execution_count": 209,
     "metadata": {},
     "output_type": "execute_result"
    }
   ],
   "source": [
    "s.values, type(s.values) # numpy 배열임"
   ]
  },
  {
   "cell_type": "code",
   "execution_count": 210,
   "id": "d9ffd469-45c8-4e0c-9d97-6055e44f5586",
   "metadata": {},
   "outputs": [
    {
     "data": {
      "text/plain": [
       "Index(['메로나', '월드콘', '와'], dtype='object')"
      ]
     },
     "execution_count": 210,
     "metadata": {},
     "output_type": "execute_result"
    }
   ],
   "source": [
    "s.index"
   ]
  },
  {
   "cell_type": "markdown",
   "id": "de7b9b22-33df-4c92-9bfe-2e1f12a05585",
   "metadata": {},
   "source": [
    "# 시리즈 인덱싱"
   ]
  },
  {
   "cell_type": "code",
   "execution_count": 215,
   "id": "0f641b21-8990-4dfb-9f42-a849213224a7",
   "metadata": {},
   "outputs": [
    {
     "name": "stdout",
     "output_type": "stream",
     "text": [
      "1000\n",
      "2000\n",
      "3000\n"
     ]
    },
    {
     "data": {
      "text/plain": [
       "(None, None, None)"
      ]
     },
     "execution_count": 215,
     "metadata": {},
     "output_type": "execute_result"
    }
   ],
   "source": [
    "print(s.iloc[0]), print(s.iloc[1]), print(s.iloc[2]) # 위치 index를 입력해서 값을"
   ]
  },
  {
   "cell_type": "code",
   "execution_count": 212,
   "id": "0c2d0952-72d6-41bb-a4e3-66c23c741604",
   "metadata": {},
   "outputs": [
    {
     "name": "stdout",
     "output_type": "stream",
     "text": [
      "1000\n"
     ]
    }
   ],
   "source": [
    "print(s.loc[\"메로나\"]) # 값 index를 입력해서 값을 가져옴"
   ]
  },
  {
   "cell_type": "code",
   "execution_count": 216,
   "id": "f1f2f2d9-d59e-425f-b9c5-5b3fa4619a67",
   "metadata": {},
   "outputs": [
    {
     "data": {
      "text/plain": [
       "[0, 1, 2]"
      ]
     },
     "execution_count": 216,
     "metadata": {},
     "output_type": "execute_result"
    }
   ],
   "source": [
    "data = [1000, 2000, 3000,]\n",
    "# index가 없음\n",
    "s2 = pd.Series(data=data)\n",
    "s2.index.to_list()"
   ]
  },
  {
   "cell_type": "code",
   "execution_count": 217,
   "id": "ff379c6b-90da-4b89-87ca-097e8decb80e",
   "metadata": {},
   "outputs": [
    {
     "name": "stdout",
     "output_type": "stream",
     "text": [
      "1000\n",
      "1000\n"
     ]
    }
   ],
   "source": [
    "print(s2.iloc[0]) # iloc에서는 0은 위치 0을 의미\n",
    "print(s2.loc[0]) # loc에서의 0은 라벨 0을 미미"
   ]
  },
  {
   "cell_type": "code",
   "execution_count": 227,
   "id": "7ec19699-18b2-4e10-9be2-eee96f84b8fb",
   "metadata": {},
   "outputs": [
    {
     "name": "stdout",
     "output_type": "stream",
     "text": [
      "1000\n",
      "메로나    1000\n",
      "와      3000\n",
      "월드콘    2000\n",
      "dtype: int64\n"
     ]
    }
   ],
   "source": [
    "print(s.loc[\"메로나\"])\n",
    "print(s.loc[[\"메로나\", \"와\", \"월드콘\"]]) # 여러개 불러올 때는 []로 묶어서 가져옴 "
   ]
  },
  {
   "cell_type": "markdown",
   "id": "72f21605-7951-4490-a72f-ea541dd7f8e3",
   "metadata": {},
   "source": [
    "# 슬라이싱"
   ]
  },
  {
   "cell_type": "code",
   "execution_count": 229,
   "id": "d12841fe-d3cb-434b-96f8-fdc4c8819b2d",
   "metadata": {},
   "outputs": [
    {
     "data": {
      "text/plain": [
       "메로나    1000\n",
       "월드콘    2000\n",
       "dtype: int64"
      ]
     },
     "execution_count": 229,
     "metadata": {},
     "output_type": "execute_result"
    }
   ],
   "source": [
    "s.iloc[0:2]"
   ]
  },
  {
   "cell_type": "code",
   "execution_count": 231,
   "id": "773d2e5b-b903-4c2e-8d1d-131214912d24",
   "metadata": {},
   "outputs": [
    {
     "data": {
      "text/plain": [
       "메로나    1000\n",
       "월드콘    2000\n",
       "와      3000\n",
       "dtype: int64"
      ]
     },
     "execution_count": 231,
     "metadata": {},
     "output_type": "execute_result"
    }
   ],
   "source": [
    "s.loc[\"메로나\":\"와\"]"
   ]
  },
  {
   "cell_type": "code",
   "execution_count": 233,
   "id": "8dde0f5b-b6aa-4c5f-97f4-02d81429a5c0",
   "metadata": {},
   "outputs": [
    {
     "data": {
      "text/plain": [
       "0    1000\n",
       "1    2000\n",
       "dtype: int64"
      ]
     },
     "execution_count": 233,
     "metadata": {},
     "output_type": "execute_result"
    }
   ],
   "source": [
    "s2.iloc[0:2]"
   ]
  },
  {
   "cell_type": "code",
   "execution_count": 234,
   "id": "e6ae93d6-4d4d-450a-8426-5871dff43e63",
   "metadata": {},
   "outputs": [
    {
     "data": {
      "text/plain": [
       "0    1000\n",
       "1    2000\n",
       "2    3000\n",
       "dtype: int64"
      ]
     },
     "execution_count": 234,
     "metadata": {},
     "output_type": "execute_result"
    }
   ],
   "source": [
    "s2.loc[0:2]"
   ]
  },
  {
   "cell_type": "markdown",
   "id": "4e8d920b-dcc2-4b9d-9ff9-815b478a2536",
   "metadata": {},
   "source": [
    "## 시리즈 수정/추가/삭제"
   ]
  },
  {
   "cell_type": "code",
   "execution_count": 268,
   "id": "b9d95324-7242-49d7-b58a-868258ddcf4c",
   "metadata": {},
   "outputs": [
    {
     "data": {
      "text/plain": [
       "메로나    1000\n",
       "월드콘    2000\n",
       "와      3000\n",
       "dtype: int64"
      ]
     },
     "execution_count": 268,
     "metadata": {},
     "output_type": "execute_result"
    }
   ],
   "source": [
    "# 시리즈 생성하면서 인덱스도 같이 생성\n",
    "data = [1000, 2000, 3000,]\n",
    "index = [\"메로나\", \"월드콘\", \"와\"]\n",
    "\n",
    "s = pd.Series(data=data, index=index) # data, index 명 지정해서 생성 가능\n",
    "s"
   ]
  },
  {
   "cell_type": "code",
   "execution_count": 240,
   "id": "272f5334-9252-4f6a-8afe-28dea90ad28c",
   "metadata": {},
   "outputs": [
    {
     "data": {
      "text/plain": [
       "메로나     500\n",
       "월드콘    2000\n",
       "와      3000\n",
       "dtype: int64"
      ]
     },
     "execution_count": 240,
     "metadata": {},
     "output_type": "execute_result"
    }
   ],
   "source": [
    "s.loc[\"메로나\"] = 500 # 수정 방법 1 Dic key값으로 value 값 수정하는 것과 유사함\n",
    "s"
   ]
  },
  {
   "cell_type": "code",
   "execution_count": 244,
   "id": "142868f0-84bb-41dd-a7c1-8722dcd8049c",
   "metadata": {},
   "outputs": [
    {
     "data": {
      "text/plain": [
       "메로나     500\n",
       "월드콘    2000\n",
       "와      3000\n",
       "dtype: int64"
      ]
     },
     "execution_count": 244,
     "metadata": {},
     "output_type": "execute_result"
    }
   ],
   "source": [
    "s.iloc[0] = 500 # 수정 방법 2\n",
    "s"
   ]
  },
  {
   "cell_type": "code",
   "execution_count": 246,
   "id": "25a26c61-23a8-421c-bb80-2c423d91cbf0",
   "metadata": {},
   "outputs": [
    {
     "data": {
      "text/plain": [
       "메로나     500\n",
       "월드콘    2000\n",
       "와      3000\n",
       "dtype: int64"
      ]
     },
     "execution_count": 246,
     "metadata": {},
     "output_type": "execute_result"
    }
   ],
   "source": [
    "s['메로나'] = 500 # 수정 방법 3\n",
    "s"
   ]
  },
  {
   "cell_type": "code",
   "execution_count": 267,
   "id": "ce5d7450-b5ae-4d33-9f78-212a1019545f",
   "metadata": {},
   "outputs": [
    {
     "data": {
      "text/plain": [
       "월드콘    2000\n",
       "dtype: int64"
      ]
     },
     "execution_count": 267,
     "metadata": {},
     "output_type": "execute_result"
    }
   ],
   "source": [
    "s.drop(labels = ['메로나',\"와\"]) # 삭제 하는 법"
   ]
  },
  {
   "cell_type": "markdown",
   "id": "fdfb3b70-c732-48ac-bd42-5f1d54c06ac5",
   "metadata": {},
   "source": [
    "# 시리즈 연산\n",
    "- index 값 매칭을 통해 동일한 index를 찾아가서 연산을 해줌\n",
    "- 시리즈끼리 바로 연산 가능함 (a + b, a - b...)"
   ]
  },
  {
   "cell_type": "code",
   "execution_count": 254,
   "id": "4fd5ecef-7ff0-41d0-b5ca-8142a5444130",
   "metadata": {},
   "outputs": [
    {
     "data": {
      "text/plain": [
       "naver      10\n",
       "apple      20\n",
       "nvieda    300\n",
       "dtype: int64"
      ]
     },
     "execution_count": 254,
     "metadata": {},
     "output_type": "execute_result"
    }
   ],
   "source": [
    "import pandas as pd\n",
    "\n",
    "evan = pd.Series([10, 20, 300], index=[\"naver\", \"apple\", \"nvieda\"])\n",
    "딸1 = pd.Series([10, 30, 20], index=[\"nvieda\", \"naver\", \"apple\"])\n",
    "\n",
    "evan"
   ]
  },
  {
   "cell_type": "code",
   "execution_count": 255,
   "id": "bf5cb63f-a95f-4916-bda7-b890a0bc325b",
   "metadata": {},
   "outputs": [
    {
     "data": {
      "text/plain": [
       "nvieda    10\n",
       "naver     30\n",
       "apple     20\n",
       "dtype: int64"
      ]
     },
     "execution_count": 255,
     "metadata": {},
     "output_type": "execute_result"
    }
   ],
   "source": [
    "딸1"
   ]
  },
  {
   "cell_type": "code",
   "execution_count": 256,
   "id": "9441b06f-2920-409a-ae58-6a18b5e3362b",
   "metadata": {},
   "outputs": [
    {
     "data": {
      "text/plain": [
       "apple      40\n",
       "naver      40\n",
       "nvieda    310\n",
       "dtype: int64"
      ]
     },
     "execution_count": 256,
     "metadata": {},
     "output_type": "execute_result"
    }
   ],
   "source": [
    "evan + 딸1"
   ]
  },
  {
   "cell_type": "code",
   "execution_count": 258,
   "id": "efdc5a25-906c-48c9-82b6-f2c6312c1dd1",
   "metadata": {},
   "outputs": [
    {
     "data": {
      "text/plain": [
       "naver     10\n",
       "apple     20\n",
       "tesla    300\n",
       "dtype: int64"
      ]
     },
     "execution_count": 258,
     "metadata": {},
     "output_type": "execute_result"
    }
   ],
   "source": [
    "import pandas as pd \n",
    "\n",
    "evan = pd.Series([10, 20, 300], index=[\"naver\", \"apple\", \"tesla\"])\n",
    "딸1 = pd.Series([10, 30, 20], index=[\"nvieda\", \"naver\", \"apple\"])\n",
    "\n",
    "evan # 각 Series의 index가 맞지 않은 상태에서 더하면 NaN 발생함"
   ]
  },
  {
   "cell_type": "code",
   "execution_count": 259,
   "id": "72134d49-661f-4c80-9ff2-f60c8b3b25fe",
   "metadata": {},
   "outputs": [
    {
     "data": {
      "text/plain": [
       "nvieda    10\n",
       "naver     30\n",
       "apple     20\n",
       "dtype: int64"
      ]
     },
     "execution_count": 259,
     "metadata": {},
     "output_type": "execute_result"
    }
   ],
   "source": [
    "딸1"
   ]
  },
  {
   "cell_type": "code",
   "execution_count": 260,
   "id": "ce59c6ee-2835-413b-8e3e-f954f4bb98c4",
   "metadata": {},
   "outputs": [
    {
     "data": {
      "text/plain": [
       "apple     40.0\n",
       "naver     40.0\n",
       "nvieda     NaN\n",
       "tesla      NaN\n",
       "dtype: float64"
      ]
     },
     "execution_count": 260,
     "metadata": {},
     "output_type": "execute_result"
    }
   ],
   "source": [
    "evan + 딸1"
   ]
  },
  {
   "cell_type": "code",
   "execution_count": 270,
   "id": "3fd9795d-657c-4774-907c-e8071a90503f",
   "metadata": {},
   "outputs": [
    {
     "name": "stdout",
     "output_type": "stream",
     "text": [
      "6/1    650\n",
      "6/2    550\n",
      "6/3    750\n",
      "6/4    800\n",
      "6/5    650\n",
      "dtype: int64\n"
     ]
    }
   ],
   "source": [
    "date = [\"6/1\", \"6/2\", \"6/3\", \"6/4\", \"6/5\"]\n",
    "high = pd.Series([42800, 42700, 42050, 42950, 43000], index=date)\n",
    "low = pd.Series([42150, 42150, 41300, 42150, 42350] , index=date)\n",
    "\n",
    "diff = high - low\n",
    "print(diff)"
   ]
  },
  {
   "cell_type": "code",
   "execution_count": 275,
   "id": "8f1e26b4-5a19-4307-94ab-0e8297384942",
   "metadata": {},
   "outputs": [
    {
     "data": {
      "text/plain": [
       "('6/4', np.int64(800))"
      ]
     },
     "execution_count": 275,
     "metadata": {},
     "output_type": "execute_result"
    }
   ],
   "source": [
    "diff.idxmax(), diff[diff.idxmax()] # 최대값의 ID, 값"
   ]
  },
  {
   "cell_type": "code",
   "execution_count": 276,
   "id": "a310b5c6-09d9-4219-b644-e05231fe02dd",
   "metadata": {},
   "outputs": [
    {
     "data": {
      "text/plain": [
       "'6/2'"
      ]
     },
     "execution_count": 276,
     "metadata": {},
     "output_type": "execute_result"
    }
   ],
   "source": [
    "diff.idxmin() # 최소값의 ID, 값"
   ]
  },
  {
   "cell_type": "code",
   "execution_count": 277,
   "id": "f6fccfe1-cc61-4f54-9ba7-11f258b9ac55",
   "metadata": {},
   "outputs": [
    {
     "data": {
      "text/plain": [
       "6/1    1.015421\n",
       "6/2    1.013049\n",
       "6/3    1.018160\n",
       "6/4    1.018980\n",
       "6/5    1.015348\n",
       "dtype: float64"
      ]
     },
     "execution_count": 277,
     "metadata": {},
     "output_type": "execute_result"
    }
   ],
   "source": [
    "profit = high / low # 단순 수익률 계산\n",
    "profit"
   ]
  },
  {
   "cell_type": "code",
   "execution_count": 280,
   "id": "4af534e3-1a89-476e-aeee-0cb48dfb6a8b",
   "metadata": {},
   "outputs": [
    {
     "data": {
      "text/plain": [
       "6/1    1.015421\n",
       "6/2    1.028671\n",
       "6/3    1.047351\n",
       "6/4    1.067230\n",
       "6/5    1.083610\n",
       "dtype: float64"
      ]
     },
     "execution_count": 280,
     "metadata": {},
     "output_type": "execute_result"
    }
   ],
   "source": [
    "profit.cumprod() # 누적곱"
   ]
  },
  {
   "cell_type": "markdown",
   "id": "35aed610-a5a2-4a11-9862-cdcde7852b9f",
   "metadata": {},
   "source": [
    "# 시리즈와 Map"
   ]
  },
  {
   "cell_type": "code",
   "execution_count": 282,
   "id": "27347a82-a808-4ba7-9fab-75d387868adc",
   "metadata": {},
   "outputs": [
    {
     "ename": "TypeError",
     "evalue": "cannot convert the series to <class 'int'>",
     "output_type": "error",
     "traceback": [
      "\u001b[1;31m---------------------------------------------------------------------------\u001b[0m",
      "\u001b[1;31mTypeError\u001b[0m                                 Traceback (most recent call last)",
      "Cell \u001b[1;32mIn[282], line 2\u001b[0m\n\u001b[0;32m      1\u001b[0m s \u001b[38;5;241m=\u001b[39m pd\u001b[38;5;241m.\u001b[39mSeries([\u001b[38;5;124m'\u001b[39m\u001b[38;5;124m1,234\u001b[39m\u001b[38;5;124m'\u001b[39m, \u001b[38;5;124m'\u001b[39m\u001b[38;5;124m5,678\u001b[39m\u001b[38;5;124m'\u001b[39m, \u001b[38;5;124m'\u001b[39m\u001b[38;5;124m12,345\u001b[39m\u001b[38;5;124m'\u001b[39m])\n\u001b[1;32m----> 2\u001b[0m \u001b[38;5;28;43mint\u001b[39;49m\u001b[43m(\u001b[49m\u001b[43ms\u001b[49m\u001b[43m)\u001b[49m \u001b[38;5;66;03m# 문자 -> 숫자로 바로 변경 안됨 \u001b[39;00m\n",
      "File \u001b[1;32m~\\Desktop\\iMdigital\\venv\\Lib\\site-packages\\pandas\\core\\series.py:248\u001b[0m, in \u001b[0;36m_coerce_method.<locals>.wrapper\u001b[1;34m(self)\u001b[0m\n\u001b[0;32m    240\u001b[0m     warnings\u001b[38;5;241m.\u001b[39mwarn(\n\u001b[0;32m    241\u001b[0m         \u001b[38;5;124mf\u001b[39m\u001b[38;5;124m\"\u001b[39m\u001b[38;5;124mCalling \u001b[39m\u001b[38;5;132;01m{\u001b[39;00mconverter\u001b[38;5;241m.\u001b[39m\u001b[38;5;18m__name__\u001b[39m\u001b[38;5;132;01m}\u001b[39;00m\u001b[38;5;124m on a single element Series is \u001b[39m\u001b[38;5;124m\"\u001b[39m\n\u001b[0;32m    242\u001b[0m         \u001b[38;5;124m\"\u001b[39m\u001b[38;5;124mdeprecated and will raise a TypeError in the future. \u001b[39m\u001b[38;5;124m\"\u001b[39m\n\u001b[1;32m   (...)\u001b[0m\n\u001b[0;32m    245\u001b[0m         stacklevel\u001b[38;5;241m=\u001b[39mfind_stack_level(),\n\u001b[0;32m    246\u001b[0m     )\n\u001b[0;32m    247\u001b[0m     \u001b[38;5;28;01mreturn\u001b[39;00m converter(\u001b[38;5;28mself\u001b[39m\u001b[38;5;241m.\u001b[39miloc[\u001b[38;5;241m0\u001b[39m])\n\u001b[1;32m--> 248\u001b[0m \u001b[38;5;28;01mraise\u001b[39;00m \u001b[38;5;167;01mTypeError\u001b[39;00m(\u001b[38;5;124mf\u001b[39m\u001b[38;5;124m\"\u001b[39m\u001b[38;5;124mcannot convert the series to \u001b[39m\u001b[38;5;132;01m{\u001b[39;00mconverter\u001b[38;5;132;01m}\u001b[39;00m\u001b[38;5;124m\"\u001b[39m)\n",
      "\u001b[1;31mTypeError\u001b[0m: cannot convert the series to <class 'int'>"
     ]
    }
   ],
   "source": [
    "s = pd.Series(['1,234', '5,678', '12,345'])\n",
    "int(s) # 문자 -> 숫자로 바로 변경 안됨 "
   ]
  },
  {
   "cell_type": "code",
   "execution_count": 285,
   "id": "e4b3a706-0989-4c39-93c2-21aaf9464168",
   "metadata": {},
   "outputs": [
    {
     "data": {
      "text/plain": [
       "(int, 1234)"
      ]
     },
     "execution_count": 285,
     "metadata": {},
     "output_type": "execute_result"
    }
   ],
   "source": [
    "text = '1,234'\n",
    "result = int(text.replace(\",\",\"\"))\n",
    "type(result), result"
   ]
  },
  {
   "cell_type": "code",
   "execution_count": 287,
   "id": "514418a4-4d13-48de-8bf9-3bbea797372b",
   "metadata": {},
   "outputs": [
    {
     "data": {
      "text/plain": [
       "[1234, 5678, 12345]"
      ]
     },
     "execution_count": 287,
     "metadata": {},
     "output_type": "execute_result"
    }
   ],
   "source": [
    "num_str = ['1,234', '5,678', '12,345']\n",
    "results = []\n",
    "for num in num_str:\n",
    "    temp = int(num.replace(\",\",\"\"))\n",
    "    results.append(temp)\n",
    "\n",
    "results"
   ]
  },
  {
   "cell_type": "code",
   "execution_count": 291,
   "id": "004a195d-a782-41b9-9f72-51238a410478",
   "metadata": {},
   "outputs": [],
   "source": [
    "def rm_comma(x):\n",
    "    return int(x.replace(\",\",\"\"))"
   ]
  },
  {
   "cell_type": "code",
   "execution_count": 292,
   "id": "bf91a13f-e031-4e45-afd5-0ee2fc5a1a99",
   "metadata": {},
   "outputs": [
    {
     "data": {
      "text/plain": [
       "0     1234\n",
       "1     5678\n",
       "2    12345\n",
       "dtype: int64"
      ]
     },
     "execution_count": 292,
     "metadata": {},
     "output_type": "execute_result"
    }
   ],
   "source": [
    "s = pd.Series(['1,234', '5,678', '12,345'])\n",
    "result = s.map(rm_comma) # map 함수는 사용자지정 함수를 쓸 수 있게 해주는 함수이며, 사용자 지정함수를 만들어줘야함\n",
    "result"
   ]
  },
  {
   "cell_type": "code",
   "execution_count": 294,
   "id": "35e0061f-e400-437d-9e9c-71348e924b60",
   "metadata": {},
   "outputs": [
    {
     "data": {
      "text/plain": [
       "0     1234.56\n",
       "1     5678.90\n",
       "2    12345.67\n",
       "dtype: float64"
      ]
     },
     "execution_count": 294,
     "metadata": {},
     "output_type": "execute_result"
    }
   ],
   "source": [
    "def remove_dollar_sign(x):\n",
    "    return float(x.replace('$', '').replace(',', '')) # 함수 연속 사용 확인\n",
    "s = pd.Series(['$1,234.56', '$5,678.90', '$12,345.67'])\n",
    "result = s.map(remove_dollar_sign)\n",
    "result"
   ]
  },
  {
   "cell_type": "markdown",
   "id": "56504e79-b8a9-4e52-bd92-6d0b46bdb11f",
   "metadata": {},
   "source": [
    "# 문제\n",
    "- 기준점이 13이상\n",
    "  + 크다 or 작다"
   ]
  },
  {
   "cell_type": "code",
   "execution_count": 303,
   "id": "b93f2e32-9f29-491a-a760-34bf40c7bee6",
   "metadata": {},
   "outputs": [
    {
     "data": {
      "text/plain": [
       "0     5\n",
       "1    10\n",
       "2    15\n",
       "3    20\n",
       "dtype: int64"
      ]
     },
     "execution_count": 303,
     "metadata": {},
     "output_type": "execute_result"
    }
   ],
   "source": [
    "s = pd.Series([5, 10, 15, 20])\n",
    "s"
   ]
  },
  {
   "cell_type": "code",
   "execution_count": 306,
   "id": "9faf9995-07e0-4394-b6f6-4b594458c1df",
   "metadata": {},
   "outputs": [],
   "source": [
    "def ud(x):\n",
    "    if x >= 13 :\n",
    "        return \"크다\"\n",
    "    else:\n",
    "        return \"작다\"\n",
    "        \n",
    "result = s.map(ud)\n",
    "result"
   ]
  },
  {
   "cell_type": "code",
   "execution_count": 309,
   "id": "07485ecd-3224-4be3-809d-c207b5f1d2b2",
   "metadata": {},
   "outputs": [
    {
     "data": {
      "text/plain": [
       "0    작다\n",
       "1    작다\n",
       "2    크다\n",
       "3    크다\n",
       "dtype: object"
      ]
     },
     "execution_count": 309,
     "metadata": {},
     "output_type": "execute_result"
    }
   ],
   "source": [
    "result = s.map(lambda x: '크다' if x>=13 else '작다') # lambda 사용하여 한문장 처리, pandas에서 많이 사용함\n",
    "result"
   ]
  },
  {
   "cell_type": "code",
   "execution_count": 313,
   "id": "e760c126-b9c8-49be-8571-bf91bda75b42",
   "metadata": {},
   "outputs": [
    {
     "data": {
      "text/plain": [
       "0    작다\n",
       "1    작다\n",
       "2    크다\n",
       "3    크다\n",
       "dtype: object"
      ]
     },
     "execution_count": 313,
     "metadata": {},
     "output_type": "execute_result"
    }
   ],
   "source": [
    "result = s.apply(lambda x: '크다' if x>=13 else '작다') # map과 비슷한 기능을 함 apply\n",
    "result"
   ]
  },
  {
   "cell_type": "markdown",
   "id": "5ca4fcf2-d42d-4f80-aecd-ee086a3d6cdb",
   "metadata": {},
   "source": [
    "## 필터링"
   ]
  },
  {
   "cell_type": "code",
   "execution_count": 315,
   "id": "fb5df4ed-e22e-46e8-b3e7-0323b9649a03",
   "metadata": {},
   "outputs": [
    {
     "data": {
      "text/plain": [
       "2019-05-31    42500\n",
       "2019-05-30    42550\n",
       "2019-05-29    41800\n",
       "2019-05-28    42550\n",
       "2019-05-27    42650\n",
       "dtype: int64"
      ]
     },
     "execution_count": 315,
     "metadata": {},
     "output_type": "execute_result"
    }
   ],
   "source": [
    "data = [42500, 42550, 41800, 42550, 42650]\n",
    "index = ['2019-05-31', '2019-05-30', '2019-05-29', '2019-05-28', '2019-05-27']\n",
    "s = pd.Series(data=data, index=index)\n",
    "s"
   ]
  },
  {
   "cell_type": "code",
   "execution_count": 316,
   "id": "76b6dfcc-c01c-4a85-98aa-1c0aa82fa550",
   "metadata": {},
   "outputs": [
    {
     "name": "stdout",
     "output_type": "stream",
     "text": [
      "2019-05-31     True\n",
      "2019-05-30     True\n",
      "2019-05-29    False\n",
      "2019-05-28     True\n",
      "2019-05-27     True\n",
      "dtype: bool\n"
     ]
    }
   ],
   "source": [
    "cond = s > 42000\n",
    "print(cond)"
   ]
  },
  {
   "cell_type": "code",
   "execution_count": 317,
   "id": "2c7a675c-fc2d-4368-8f45-dac1d8e569a1",
   "metadata": {},
   "outputs": [
    {
     "data": {
      "text/plain": [
       "2019-05-31    42500\n",
       "2019-05-30    42550\n",
       "2019-05-28    42550\n",
       "2019-05-27    42650\n",
       "dtype: int64"
      ]
     },
     "execution_count": 317,
     "metadata": {},
     "output_type": "execute_result"
    }
   ],
   "source": [
    "s[cond]"
   ]
  },
  {
   "cell_type": "code",
   "execution_count": 318,
   "id": "543fe49d-dc03-4542-a2d5-bd53c041b115",
   "metadata": {},
   "outputs": [
    {
     "data": {
      "text/plain": [
       "2019-05-31    42500\n",
       "2019-05-30    42550\n",
       "2019-05-28    42550\n",
       "2019-05-27    42650\n",
       "dtype: int64"
      ]
     },
     "execution_count": 318,
     "metadata": {},
     "output_type": "execute_result"
    }
   ],
   "source": [
    "s[s > 42000]"
   ]
  },
  {
   "cell_type": "code",
   "execution_count": 322,
   "id": "e2e6193a-7bb5-40c0-a658-3ec72aba7054",
   "metadata": {},
   "outputs": [],
   "source": [
    "from pandas import Series\n",
    "\n",
    "close = [42500, 42550, 41800, 42550, 42650]\n",
    "open = [42600, 42200, 41850, 42550, 42500]\n",
    "index = ['2019-05-31', '2019-05-30', '2019-05-29', '2019-05-28', '2019-05-27']\n",
    "\n",
    "open = Series(data=open, index=index)\n",
    "close = Series(data=close, index=index)\n",
    "\n",
    "# 문제: 종가가 시가보다 높은 날을 구하세요"
   ]
  },
  {
   "cell_type": "code",
   "execution_count": 350,
   "id": "bb8b4951-22a0-462a-b679-db6c08734871",
   "metadata": {},
   "outputs": [
    {
     "data": {
      "text/plain": [
       "Index(['2019-05-30', '2019-05-27'], dtype='object')"
      ]
     },
     "execution_count": 350,
     "metadata": {},
     "output_type": "execute_result"
    }
   ],
   "source": [
    "gap = close - open\n",
    "gap[gap > 0].index"
   ]
  },
  {
   "cell_type": "code",
   "execution_count": null,
   "id": "6a916988-329f-465c-a9f0-7ff8282d362a",
   "metadata": {},
   "outputs": [],
   "source": []
  }
 ],
 "metadata": {
  "kernelspec": {
   "display_name": "Python 3 (ipykernel)",
   "language": "python",
   "name": "python3"
  },
  "language_info": {
   "codemirror_mode": {
    "name": "ipython",
    "version": 3
   },
   "file_extension": ".py",
   "mimetype": "text/x-python",
   "name": "python",
   "nbconvert_exporter": "python",
   "pygments_lexer": "ipython3",
   "version": "3.12.6"
  }
 },
 "nbformat": 4,
 "nbformat_minor": 5
}
