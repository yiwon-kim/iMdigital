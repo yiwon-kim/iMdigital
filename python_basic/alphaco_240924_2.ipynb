{
 "cells": [
  {
   "cell_type": "code",
   "execution_count": 1,
   "id": "407b2c9a-81ab-4a1a-a96e-c3a806a3414a",
   "metadata": {},
   "outputs": [
    {
     "data": {
      "text/plain": [
       "2"
      ]
     },
     "execution_count": 1,
     "metadata": {},
     "output_type": "execute_result"
    }
   ],
   "source": [
    "1+1"
   ]
  },
  {
   "cell_type": "markdown",
   "id": "089e8dd8-2ba3-414d-911c-2d44bdb97c8c",
   "metadata": {},
   "source": [
    "# 대제목"
   ]
  },
  {
   "cell_type": "markdown",
   "id": "c7b295d5-807b-4dd9-ab44-94df7d155aea",
   "metadata": {},
   "source": [
    "## 중간제목"
   ]
  },
  {
   "cell_type": "code",
   "execution_count": 4,
   "id": "80f01b2f-46e8-482b-8a42-470343ea45c1",
   "metadata": {},
   "outputs": [
    {
     "name": "stdout",
     "output_type": "stream",
     "text": [
      "2.1.1\n",
      "2.2.3\n",
      "1.5.2\n",
      "3.9.2\n",
      "0.13.2\n"
     ]
    }
   ],
   "source": [
    "import numpy as np \n",
    "import pandas as pd \n",
    "import sklearn \n",
    "import matplotlib as mpl\n",
    "import seaborn as sns\n",
    "\n",
    "print(np.__version__)\n",
    "print(pd.__version__)\n",
    "print(sklearn.__version__)\n",
    "print(mpl.__version__)\n",
    "print(sns.__version__)"
   ]
  },
  {
   "cell_type": "code",
   "execution_count": null,
   "id": "0653ef5b-303a-4b2a-8e04-7309dbed254b",
   "metadata": {},
   "outputs": [],
   "source": []
  }
 ],
 "metadata": {
  "kernelspec": {
   "display_name": "Python 3 (ipykernel)",
   "language": "python",
   "name": "python3"
  },
  "language_info": {
   "codemirror_mode": {
    "name": "ipython",
    "version": 3
   },
   "file_extension": ".py",
   "mimetype": "text/x-python",
   "name": "python",
   "nbconvert_exporter": "python",
   "pygments_lexer": "ipython3",
   "version": "3.12.6"
  }
 },
 "nbformat": 4,
 "nbformat_minor": 5
}
