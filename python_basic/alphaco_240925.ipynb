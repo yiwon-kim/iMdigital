{
 "cells": [
  {
   "cell_type": "markdown",
   "id": "0960f1a4-2434-489a-a1c4-b5c30b7fadff",
   "metadata": {},
   "source": [
    "# 제어문 & 반복문"
   ]
  },
  {
   "cell_type": "markdown",
   "id": "3db36edd-0c60-4fa8-8f3f-953bd77f127a",
   "metadata": {},
   "source": [
    "## 단일 조건에 따른 분기"
   ]
  },
  {
   "cell_type": "code",
   "execution_count": 2,
   "id": "b97d10dc-df4d-4815-be6f-8fa3f9080c7c",
   "metadata": {},
   "outputs": [
    {
     "name": "stdout",
     "output_type": "stream",
     "text": [
      "Pass\n"
     ]
    }
   ],
   "source": [
    "x = 95\n",
    "if x >= 90:\n",
    "    print(\"Pass\")"
   ]
  },
  {
   "cell_type": "code",
   "execution_count": 4,
   "id": "96bce813-e9f4-4e95-993a-03236fd04e28",
   "metadata": {},
   "outputs": [
    {
     "name": "stdin",
     "output_type": "stream",
     "text": [
      "입력 10\n"
     ]
    },
    {
     "name": "stdout",
     "output_type": "stream",
     "text": [
      "Pass\n"
     ]
    }
   ],
   "source": [
    "x = int(input(\"입력\"))\n",
    "if x >= 10:\n",
    "    print(\"Pass\")"
   ]
  },
  {
   "cell_type": "markdown",
   "id": "7bb2e6dd-fd6d-4159-9829-0e2afc35a256",
   "metadata": {},
   "source": [
    "## 단일 조건 및 그 외 조건에 따른 분기"
   ]
  },
  {
   "cell_type": "code",
   "execution_count": 5,
   "id": "6e327c4c-6989-4c00-83b9-0b1926c5559d",
   "metadata": {},
   "outputs": [
    {
     "name": "stdin",
     "output_type": "stream",
     "text": [
      "입력 50\n"
     ]
    },
    {
     "name": "stdout",
     "output_type": "stream",
     "text": [
      "Fail\n"
     ]
    }
   ],
   "source": [
    "x = int(input(\"입력\"))\n",
    "if x >= 90:\n",
    "    print(\"Pass\")\n",
    "else:\n",
    "    print(\"Fail\")"
   ]
  },
  {
   "cell_type": "markdown",
   "id": "a749c36c-5dfe-492e-836b-a88623744852",
   "metadata": {},
   "source": [
    "## 여러 조건에 따른 분기"
   ]
  },
  {
   "cell_type": "code",
   "execution_count": 7,
   "id": "e4d249e4-9712-4eae-882b-4c0bf5c0edc8",
   "metadata": {},
   "outputs": [
    {
     "name": "stdin",
     "output_type": "stream",
     "text": [
      "입력 85\n"
     ]
    },
    {
     "name": "stdout",
     "output_type": "stream",
     "text": [
      "조건부합격\n"
     ]
    }
   ],
   "source": [
    "x = int(input(\"입력\"))\n",
    "if x >= 90:\n",
    "    print(\"Pass\")\n",
    "elif (x >= 80) and (x < 90):\n",
    "    print(\"조건부합격\")\n",
    "else:\n",
    "    print(\"Fail\")"
   ]
  },
  {
   "cell_type": "markdown",
   "id": "78490e5d-f9f8-435a-8a5f-0c45c73ab286",
   "metadata": {},
   "source": [
    "## 중첩 조건에 따른 분기\n",
    "- 시나리오\n",
    "- 90점 넘으면 합격, 그 중 100점자는 장학금 지급\n",
    "- 80점 이상 조건부\n",
    "- 나머지 fail"
   ]
  },
  {
   "cell_type": "code",
   "execution_count": 11,
   "id": "14a3026a-7be2-4f54-8b01-ad7874f10dd2",
   "metadata": {
    "collapsed": true,
    "jupyter": {
     "outputs_hidden": true
    }
   },
   "outputs": [
    {
     "name": "stdin",
     "output_type": "stream",
     "text": [
      "입력 80\n"
     ]
    },
    {
     "name": "stdout",
     "output_type": "stream",
     "text": [
      "조건부합격\n"
     ]
    }
   ],
   "source": [
    "x = int(input(\"입력\"))\n",
    "if x >= 90:\n",
    "    if x == 100:\n",
    "        print(\"장학금 지급 \")\n",
    "    else:\n",
    "        print(\"Pass\")\n",
    "elif (x >= 80) and (x < 90):\n",
    "    print(\"조건부합격\")\n",
    "else:\n",
    "    print(\"Fail\")"
   ]
  },
  {
   "cell_type": "markdown",
   "id": "2df4c1fe-6bfa-4c47-9301-309f5ed4d645",
   "metadata": {},
   "source": [
    "# 반복문"
   ]
  },
  {
   "cell_type": "code",
   "execution_count": 13,
   "id": "965ec573-9256-48e6-bbfd-f8185366632a",
   "metadata": {},
   "outputs": [
    {
     "name": "stdout",
     "output_type": "stream",
     "text": [
      "안녕하세요\n",
      "안녕하세요\n",
      "안녕하세요\n"
     ]
    }
   ],
   "source": [
    "for i in range(3):\n",
    "    print(\"안녕하세요\")"
   ]
  },
  {
   "cell_type": "markdown",
   "id": "793dc140-4d83-4539-94d2-3a17427bd47e",
   "metadata": {},
   "source": [
    "- 시퀀스 자료형이 range 대신에 들어갈 수 있음"
   ]
  },
  {
   "cell_type": "code",
   "execution_count": 15,
   "id": "8ccad2f8-fac0-4d87-b5ea-79872cc139a9",
   "metadata": {},
   "outputs": [
    {
     "name": "stdout",
     "output_type": "stream",
     "text": [
      "False\n",
      "True\n",
      "True\n"
     ]
    }
   ],
   "source": [
    "from collections.abc import Sequence\n",
    "\n",
    "my_num = 100\n",
    "my_list = [1, 2, 3]\n",
    "my_string = \"hello\"\n",
    "\n",
    "is_num = isinstance(my_num, Sequence)\n",
    "is_list = isinstance(my_list, Sequence)\n",
    "is_string = isinstance(my_string, Sequence)\n",
    "\n",
    "print(is_num)\n",
    "print(is_list)\n",
    "print(is_string)\n",
    "\n",
    "# 시퀀스 자료 확인"
   ]
  },
  {
   "cell_type": "code",
   "execution_count": 17,
   "id": "7f4ae18b-7786-4dec-bab4-325e27479a28",
   "metadata": {},
   "outputs": [
    {
     "name": "stdout",
     "output_type": "stream",
     "text": [
      "h\n",
      "e\n",
      "l\n",
      "l\n",
      "o\n"
     ]
    }
   ],
   "source": [
    "for i in my_string:\n",
    "    print(i)"
   ]
  },
  {
   "cell_type": "code",
   "execution_count": 18,
   "id": "f9c27eae-4ed2-415b-9774-13fb2286d471",
   "metadata": {},
   "outputs": [
    {
     "name": "stdout",
     "output_type": "stream",
     "text": [
      "1\n",
      "2\n",
      "3\n"
     ]
    }
   ],
   "source": [
    "for i in my_list:\n",
    "    print(i)"
   ]
  },
  {
   "cell_type": "code",
   "execution_count": 19,
   "id": "77e8825e-9153-4b7e-9c5c-3bbe17db5d38",
   "metadata": {},
   "outputs": [
    {
     "data": {
      "text/plain": [
       "[0, 1, 2]"
      ]
     },
     "execution_count": 19,
     "metadata": {},
     "output_type": "execute_result"
    }
   ],
   "source": [
    "list(range(3))"
   ]
  },
  {
   "cell_type": "markdown",
   "id": "cfe0fb5f-5295-49eb-a184-e593a2363341",
   "metadata": {},
   "source": [
    "## 중첩 for문\n",
    "- 구구단 중첩 for 문 등 ...\n",
    "- # 원하는 결과물 \n",
    "x1, y1 \n",
    "x1, y2\n",
    "x2, y1\n",
    "x2, y2"
   ]
  },
  {
   "cell_type": "code",
   "execution_count": 26,
   "id": "5a3a7857-9aae-4903-834c-7cf4502de072",
   "metadata": {},
   "outputs": [
    {
     "name": "stdout",
     "output_type": "stream",
     "text": [
      "x y\n",
      "x1\n",
      "x1 y1\n",
      "x1 y2\n",
      "x2\n",
      "x2 y1\n",
      "x2 y2\n"
     ]
    }
   ],
   "source": [
    "x_list = [\"x1\", \"x2\"]\n",
    "y_list = [\"y1\", \"y2\"]\n",
    "\n",
    "print(\"x y\")\n",
    "for x in x_list:\n",
    "    print(x)\n",
    "    for y in y_list:\n",
    "        print(x, y)"
   ]
  },
  {
   "cell_type": "markdown",
   "id": "73435b7b-6d69-46d2-b62f-5b76f0fe941d",
   "metadata": {},
   "source": [
    "## 여러 개의 리스트 다루기"
   ]
  },
  {
   "cell_type": "code",
   "execution_count": 33,
   "id": "80cd6724-e020-4633-b0c1-f44e329607b3",
   "metadata": {},
   "outputs": [
    {
     "name": "stdout",
     "output_type": "stream",
     "text": [
      "James 95\n",
      "Robert 96\n",
      "Lisa 97\n",
      "Mary 94\n"
     ]
    }
   ],
   "source": [
    "names = ['James', 'Robert', 'Lisa', 'Mary']\n",
    "scores = [95, 96, 97, 94]\n",
    "\n",
    "# idx : index 번호 의미\n",
    "for idx in range(len(names)): # len 함수는 길이 나타냄, 리스트는 리스트 속 인자 수 알려줌\n",
    "    # print (idx)\n",
    "    print(names[idx], scores[idx])"
   ]
  },
  {
   "cell_type": "markdown",
   "id": "b6c2d432-3539-4ba7-aefd-80030181a3b1",
   "metadata": {},
   "source": [
    "## 리스트 컴프리헨션\n",
    "- 반복문을 한줄로 처리하는 것"
   ]
  },
  {
   "cell_type": "code",
   "execution_count": 36,
   "id": "9684f961-9db7-4026-9fcf-4e34ca8a7ea7",
   "metadata": {},
   "outputs": [
    {
     "name": "stdout",
     "output_type": "stream",
     "text": [
      "2\n",
      "4\n",
      "6\n",
      "8\n",
      "10\n",
      "[2, 4, 6, 8, 10]\n"
     ]
    }
   ],
   "source": [
    "numbers = [1, 2, 3, 4, 5]\n",
    "result = []\n",
    "for x in numbers:\n",
    "    print(x * 2)   # 각 요소마다 곱하기 2\n",
    "    result.append(x * 2)\n",
    "print(result)"
   ]
  },
  {
   "cell_type": "code",
   "execution_count": 38,
   "id": "9b65bf88-ef43-454c-bee6-5102adbd9162",
   "metadata": {},
   "outputs": [
    {
     "name": "stdout",
     "output_type": "stream",
     "text": [
      "[2, 4, 6, 8, 10]\n"
     ]
    }
   ],
   "source": [
    "numbers = [1, 2, 3, 4, 5]\n",
    "result2 = [x * 2 for x in numbers] # 리스트 뿐만 아니라 딕셔너리도 가능\n",
    "print(result2)"
   ]
  },
  {
   "cell_type": "code",
   "execution_count": 42,
   "id": "0c68d4c8-0ed2-4b74-a0c1-12b4c4e80561",
   "metadata": {},
   "outputs": [
    {
     "data": {
      "text/plain": [
       "[2, 4, 6]"
      ]
     },
     "execution_count": 42,
     "metadata": {},
     "output_type": "execute_result"
    }
   ],
   "source": [
    "numbers = [1, 2, 3, 4, 5, 6]\n",
    "result = []\n",
    "for x in numbers:\n",
    "    if x % 2 == 0:\n",
    "        result.append(x)\n",
    "result"
   ]
  },
  {
   "cell_type": "code",
   "execution_count": 51,
   "id": "c4df93cb-6200-44eb-a442-663de656d3c5",
   "metadata": {},
   "outputs": [
    {
     "data": {
      "text/plain": [
       "[2, 4, 6]"
      ]
     },
     "execution_count": 51,
     "metadata": {},
     "output_type": "execute_result"
    }
   ],
   "source": [
    "# 짝수만 출력하세요\n",
    "numbers = [1, 2, 3, 4, 5, 6]\n",
    "result2 = [x for x in numbers if x % 2 == 0]\n",
    "result2"
   ]
  },
  {
   "cell_type": "markdown",
   "id": "73cc27aa-f628-4650-b578-485f6e458a4e",
   "metadata": {},
   "source": [
    "## while 반복문\n",
    "- 조건문이 참일 때만 반복해서 실행 -> 언제 break 할지 false 조건을 고려 해야함\n",
    "- 데이터 분석 : 데이터셋이 정해져 있음\n",
    "  + 행과 열이 고정이 되어 있음\n",
    "  + 범위가 주어진 상태\n",
    "\n",
    "따라서 for 문을 쓰는 경우가 대부분임"
   ]
  },
  {
   "cell_type": "code",
   "execution_count": null,
   "id": "57a15d8f-e729-4137-aca0-deee5825c08e",
   "metadata": {},
   "outputs": [],
   "source": [
    "# while True:\n",
    "#    print(\"안녕하세요\") "
   ]
  },
  {
   "cell_type": "code",
   "execution_count": 52,
   "id": "22c0cb66-bbdd-49ee-8612-2fb5910f33c7",
   "metadata": {},
   "outputs": [
    {
     "name": "stdout",
     "output_type": "stream",
     "text": [
      "1 1\n",
      "2 3\n",
      "3 6\n",
      "4 10\n",
      "5 15\n",
      "6 21\n"
     ]
    }
   ],
   "source": [
    "i = 0\n",
    "total = 0\n",
    "\n",
    "while (total < 20) :\n",
    "    i = i + 1\n",
    "    total = total + i\n",
    "    print(i, total)"
   ]
  },
  {
   "cell_type": "code",
   "execution_count": 54,
   "id": "0691dad8-446e-4ee0-bc9f-58eb4e43d939",
   "metadata": {},
   "outputs": [
    {
     "name": "stdout",
     "output_type": "stream",
     "text": [
      "hi\n",
      "hi\n",
      "hi\n",
      "hi\n",
      "4\n"
     ]
    }
   ],
   "source": [
    "k = 0 \n",
    "while True:\n",
    "    k = k + 1\n",
    "    print(\"hi\")\n",
    "    if (k > 3):\n",
    "        print (k)    \n",
    "        break    # while, for -loop 문에서 강제적으로 종료시킬 때\n",
    "    "
   ]
  },
  {
   "cell_type": "markdown",
   "id": "d67141fc-0e05-460f-9623-38018cf778a4",
   "metadata": {},
   "source": [
    "## 사용자 정의 함수"
   ]
  },
  {
   "cell_type": "code",
   "execution_count": 55,
   "id": "dc4e420d-8f7f-4515-be2c-44b20ad3e260",
   "metadata": {},
   "outputs": [],
   "source": [
    "def my_1st_func():\n",
    "    print(\"hi\")\n",
    "    print(\"hello\")"
   ]
  },
  {
   "cell_type": "code",
   "execution_count": 56,
   "id": "f8094313-6b67-44c9-b2f6-94df30780527",
   "metadata": {},
   "outputs": [
    {
     "name": "stdout",
     "output_type": "stream",
     "text": [
      "hi\n",
      "hello\n"
     ]
    }
   ],
   "source": [
    "my_1st_func()"
   ]
  },
  {
   "cell_type": "code",
   "execution_count": 57,
   "id": "4be524fc-f0ee-4034-ac45-08ba851bfedf",
   "metadata": {},
   "outputs": [
    {
     "name": "stdout",
     "output_type": "stream",
     "text": [
      "hi\n",
      "hello\n",
      "hi\n",
      "hello\n",
      "hi\n",
      "hello\n",
      "3\n"
     ]
    }
   ],
   "source": [
    "k = 0 \n",
    "while True:\n",
    "    k = k + 1\n",
    "    my_1st_func()\n",
    "    if (k > 2):\n",
    "        print (k)    \n",
    "        break    # while, for -loop 문에서 강제적으로 종료시킬 때\n",
    "    "
   ]
  },
  {
   "cell_type": "code",
   "execution_count": 58,
   "id": "f09c6f18-ac32-435d-a003-99793ac125c6",
   "metadata": {},
   "outputs": [
    {
     "name": "stdout",
     "output_type": "stream",
     "text": [
      "hi\n",
      "hello\n",
      "hi\n",
      "hello\n",
      "hi\n",
      "hello\n",
      "hi\n",
      "hello\n",
      "hi\n",
      "hello\n",
      "hi\n",
      "hello\n"
     ]
    },
    {
     "data": {
      "text/plain": [
       "[2, 4, 6]"
      ]
     },
     "execution_count": 58,
     "metadata": {},
     "output_type": "execute_result"
    }
   ],
   "source": [
    "numbers = [1, 2, 3, 4, 5, 6]\n",
    "result = []\n",
    "for x in numbers:\n",
    "    my_1st_func()\n",
    "    if x % 2 == 0:\n",
    "        result.append(x)\n",
    "result"
   ]
  },
  {
   "cell_type": "markdown",
   "id": "6c81e13f-3643-41fc-a150-0b4ca45a3b8c",
   "metadata": {},
   "source": [
    "## 인자(인수)는 있으나 반환 값이 없는 함수"
   ]
  },
  {
   "cell_type": "code",
   "execution_count": 61,
   "id": "bfed2e7b-8f15-4875-96fd-1dca5be90196",
   "metadata": {},
   "outputs": [
    {
     "name": "stdout",
     "output_type": "stream",
     "text": [
      "철수는 나의 친구입니다.\n",
      "철수는 나의 친구입니다.\n"
     ]
    }
   ],
   "source": [
    "def my_friend(name):\n",
    "    print(f\"{name}는 나의 친구입니다.\")\n",
    "    print(\"{}는 나의 친구입니다.\".format(name))\n",
    "\n",
    "my_friend(\"철수\")"
   ]
  },
  {
   "cell_type": "code",
   "execution_count": 67,
   "id": "8b4a5d5d-6ed2-41bf-83d4-f3897239d881",
   "metadata": {},
   "outputs": [],
   "source": [
    "# import pandas as pd\n",
    "\n",
    "# pd.read_csv()"
   ]
  },
  {
   "cell_type": "code",
   "execution_count": 64,
   "id": "abebebb4-efb5-4d71-acd6-b3bc8de48d70",
   "metadata": {},
   "outputs": [
    {
     "name": "stdout",
     "output_type": "stream",
     "text": [
      "ads는 나의 친구입니다.\n",
      "ads는 나의 친구입니다.\n"
     ]
    }
   ],
   "source": [
    "my_friend(\"ads\")"
   ]
  },
  {
   "cell_type": "code",
   "execution_count": 65,
   "id": "2dedcb53-1167-45b3-b530-76a46187f28b",
   "metadata": {},
   "outputs": [],
   "source": [
    "def my_calc(x, y):\n",
    "    z = x * y\n",
    "    return z"
   ]
  },
  {
   "cell_type": "code",
   "execution_count": 66,
   "id": "6cc6d418-acd5-4893-927d-6e52cdad931a",
   "metadata": {},
   "outputs": [
    {
     "data": {
      "text/plain": [
       "12"
      ]
     },
     "execution_count": 66,
     "metadata": {},
     "output_type": "execute_result"
    }
   ],
   "source": [
    "my_calc(3, 4)"
   ]
  },
  {
   "cell_type": "markdown",
   "id": "224e6fcf-5b13-4ed6-b25e-ba52b0ed3b07",
   "metadata": {},
   "source": [
    "## 변수의 유효 범위\n",
    "- 키워드 : 전역 변수, 지역 변수 "
   ]
  },
  {
   "cell_type": "code",
   "execution_count": 87,
   "id": "3cad6104-7a1f-42a2-babf-72b2c4e3bca8",
   "metadata": {},
   "outputs": [],
   "source": [
    "a = 5                                # 전역 변수\n",
    "\n",
    "def func1():\n",
    "    a = 1                            # 지역 변수\n",
    "    print(\"[func1] 지역 변수 a =\", a)\n",
    "\n",
    "def func2():\n",
    "    a = 2                            # 지역 변수\n",
    "    print(\"[func2] 지역 변수 a =\", a)\n",
    "\n",
    "def func3():                         \n",
    "    print(\"[func3] 전역 변수 a =\", a)\n",
    "\n",
    "def func4():\n",
    "    global a  # 함수 내에서 전역 변수 변경 위해 선언\n",
    "    a = 4\n",
    "    print(\"[func4] 지역 변수 a=\", a)"
   ]
  },
  {
   "cell_type": "code",
   "execution_count": 79,
   "id": "76a36678-0030-4460-a86d-45f09f21670d",
   "metadata": {},
   "outputs": [
    {
     "name": "stdout",
     "output_type": "stream",
     "text": [
      "[func1] 지역 변수 a = 1\n",
      "[func2] 지역 변수 a = 2\n",
      "[func3] 지역 변수 a = 5\n"
     ]
    }
   ],
   "source": [
    "func1()\n",
    "func2()\n",
    "func3()"
   ]
  },
  {
   "cell_type": "code",
   "execution_count": null,
   "id": "64d408ad-7ff0-42f1-9f00-3565ca87e20d",
   "metadata": {},
   "outputs": [],
   "source": [
    "func1()\n",
    "func2()\n",
    "print(\"전역 변수 a=\", a) # 전역변수 출력"
   ]
  },
  {
   "cell_type": "code",
   "execution_count": 84,
   "id": "567f1558-f1db-4c32-888a-dc264d9fa99b",
   "metadata": {},
   "outputs": [
    {
     "name": "stdout",
     "output_type": "stream",
     "text": [
      "[func3] 전역 변수 a = 5\n"
     ]
    }
   ],
   "source": [
    "func3()"
   ]
  },
  {
   "cell_type": "code",
   "execution_count": 88,
   "id": "87455a56-1471-4bbe-8ba4-5d272f5425d4",
   "metadata": {},
   "outputs": [
    {
     "name": "stdout",
     "output_type": "stream",
     "text": [
      "[func3] 전역 변수 a = 5\n",
      "[func4] 지역 변수 a= 4\n",
      "[func3] 전역 변수 a = 4\n"
     ]
    }
   ],
   "source": [
    "func3()\n",
    "func4()\n",
    "func3()"
   ]
  },
  {
   "cell_type": "code",
   "execution_count": 96,
   "id": "cfe44303-cdac-4345-9e93-51e8ae0ada00",
   "metadata": {},
   "outputs": [
    {
     "name": "stdout",
     "output_type": "stream",
     "text": [
      "5\n"
     ]
    }
   ],
   "source": [
    "c = 1 \n",
    "\n",
    "def add(c):\n",
    "    # global c\n",
    "    c = c + 2\n",
    "    print(c)\n",
    "add(3)"
   ]
  },
  {
   "cell_type": "markdown",
   "id": "4a4f0ef8-652e-4639-a498-5f7687625876",
   "metadata": {},
   "source": [
    "## 가변인수 예제\n",
    "- 학생의 점수를 입력받아 평균 점수를 계산하는 함수\n",
    "- + 문제점 : 각 학생들마다 시험 본 과목수가 다 다름\n",
    "  + - A : 3과목\n",
    "    - B : 2과목\n",
    "    - C : 5과목"
   ]
  },
  {
   "cell_type": "code",
   "execution_count": 103,
   "id": "590bbdb1-c46e-4db7-a668-609b89c32afa",
   "metadata": {},
   "outputs": [],
   "source": [
    "def calculate_average(name, *scores):\n",
    "    print(type(scores))\n",
    "    if scores:  # 가변 인수가 비어있지 않은지 확인\n",
    "        average_score = sum(scores) / len(scores)\n",
    "        print(f\"{name}의 평균 점수는 {average_score:.2f}점입니다.\")\n",
    "    else:\n",
    "        print(f\"{name}의 점수를 입력하지 않았습니다.\")"
   ]
  },
  {
   "cell_type": "code",
   "execution_count": 117,
   "id": "84a800c9-2ebd-44c6-aae8-b03363dec02d",
   "metadata": {},
   "outputs": [
    {
     "name": "stdout",
     "output_type": "stream",
     "text": [
      "<class 'tuple'>\n",
      "dd의 평균 점수는 90.00점입니다.\n"
     ]
    }
   ],
   "source": [
    "calculate_average(\"dd\", 85, 95, 90)"
   ]
  },
  {
   "cell_type": "code",
   "execution_count": 101,
   "id": "f12b4c0b-e433-4fcf-8796-875fd9b794bb",
   "metadata": {},
   "outputs": [
    {
     "name": "stdout",
     "output_type": "stream",
     "text": [
      "aa의 평균 점수는 85.00점입니다.\n"
     ]
    }
   ],
   "source": [
    "calculate_average(\"aa\", 80, 90)"
   ]
  },
  {
   "cell_type": "code",
   "execution_count": 102,
   "id": "ce5dc31f-ac0b-4ed2-b673-6a8a80587ce0",
   "metadata": {},
   "outputs": [
    {
     "name": "stdout",
     "output_type": "stream",
     "text": [
      "cc의 점수를 입력하지 않았습니다.\n"
     ]
    }
   ],
   "source": [
    "calculate_average(\"cc\",)"
   ]
  },
  {
   "cell_type": "code",
   "execution_count": 124,
   "id": "acb8c6da-1da2-4eb1-a5b5-bfa50209ddb4",
   "metadata": {},
   "outputs": [],
   "source": [
    "def calculate_average1(name, scores): # 가변인수 안쓰고 리스트로 받아서 사용할 때 사용\n",
    "    if len(scores) > 0:  # 리스트가 비어있지 않은지 확인\n",
    "        average_score = sum(scores) / len(scores)\n",
    "        print(f\"{name}의 평균 점수는 {average_score:.2f}점입니다.\")\n",
    "    else:\n",
    "        print(f\"{name}의 점수를 입력하지 않았습니다.\")"
   ]
  },
  {
   "cell_type": "code",
   "execution_count": 127,
   "id": "0715e081-242c-45bb-8766-dbe56854a935",
   "metadata": {},
   "outputs": [
    {
     "name": "stdout",
     "output_type": "stream",
     "text": [
      "dd의 평균 점수는 20.00점입니다.\n",
      "dd의 평균 점수는 20.00점입니다.\n"
     ]
    }
   ],
   "source": [
    "calculate_average1(\"dd\", [10, 20, 30])\n",
    "calculate_average1(\"dd\", [10, 20, 30])"
   ]
  },
  {
   "cell_type": "markdown",
   "id": "bb386ec8-6d34-4754-a2ec-265ad65e5ac0",
   "metadata": {},
   "source": [
    "## 키워드 인수 확인 예제 \n",
    "* 학생의 이름, 과목별 점수, 그리고 학년을 받아 학생의 성적을 출력하는 함수\n",
    "    * 고정인수 : 학생의 이름\n",
    "    * 가변 인수 : 여러 개의 과목 점수\n",
    "    * 키워드 인수 : 학년 정보"
   ]
  },
  {
   "cell_type": "code",
   "execution_count": null,
   "id": "1d01a87f-e5a1-4f8a-872d-bad1568a7918",
   "metadata": {},
   "outputs": [],
   "source": [
    "def student_report(name, *args, **kwargs):"
   ]
  },
  {
   "cell_type": "code",
   "execution_count": 132,
   "id": "2a7d65cf-ce44-4f8d-91e0-1ec96bcb91d4",
   "metadata": {},
   "outputs": [
    {
     "name": "stdout",
     "output_type": "stream",
     "text": [
      "학생 이름: Alice\n",
      "평균 점수: 88.33\n",
      "grade: 2학년\n",
      "school: Seoul High School\n",
      "\n",
      "\n",
      "학생 이름: Bob\n",
      "평균 점수: 80.75\n",
      "grade: 3학년\n",
      "school: Busan High School\n",
      "hobby: 축구\n",
      "\n",
      "\n",
      "학생 이름: Charlie\n",
      "점수를 입력하지 않았습니다.\n",
      "grade: 1학년\n"
     ]
    }
   ],
   "source": [
    "def student_report(name, *scores, **details): # * 가변인수, ** 키워드 인수 넣고싶은 걸 넣어서 써라는 뜻\n",
    "    print(f\"학생 이름: {name}\")\n",
    "\n",
    "    # 점수가 입력된 경우에만 평균을 계산\n",
    "    if scores:\n",
    "        average_score = sum(scores) / len(scores)\n",
    "        print(f\"평균 점수: {average_score:.2f}\")\n",
    "    else:\n",
    "        print(\"점수를 입력하지 않았습니다.\")\n",
    "\n",
    "    # 키워드 인수로 전달된 추가 정보를 출력\n",
    "    for key, value in details.items():\n",
    "        print(f\"{key}: {value}\")\n",
    "\n",
    "# 함수 호출 예제\n",
    "student_report(\"Alice\", 88, 92, 85, grade=\"2학년\", school=\"Seoul High School\")\n",
    "print(\"\\n\")\n",
    "student_report(\"Bob\", 75, 80, 78, 90, grade=\"3학년\", school=\"Busan High School\", hobby=\"축구\")\n",
    "print(\"\\n\")\n",
    "student_report(\"Charlie\", grade=\"1학년\")"
   ]
  },
  {
   "cell_type": "markdown",
   "id": "82665683-4c43-4021-b46b-3a68352a288a",
   "metadata": {},
   "source": [
    "# 람다(lambda) 함수 \n",
    "-. 함수를 간단하게 한줄로 처리하기 위해 사용"
   ]
  },
  {
   "cell_type": "code",
   "execution_count": 134,
   "id": "692aaee5-7e3d-4eeb-b6c4-bd5fc28b1840",
   "metadata": {},
   "outputs": [
    {
     "data": {
      "text/plain": [
       "9"
      ]
     },
     "execution_count": 134,
     "metadata": {},
     "output_type": "execute_result"
    }
   ],
   "source": [
    "(lambda x : x ** 2)(3)"
   ]
  },
  {
   "cell_type": "code",
   "execution_count": 135,
   "id": "968e13ba-1c9d-48b1-b889-eebe2412827d",
   "metadata": {},
   "outputs": [
    {
     "data": {
      "text/plain": [
       "4"
      ]
     },
     "execution_count": 135,
     "metadata": {},
     "output_type": "execute_result"
    }
   ],
   "source": [
    "mySquare = lambda x : x ** 2\n",
    "mySquare(2)"
   ]
  },
  {
   "cell_type": "code",
   "execution_count": 136,
   "id": "251ddf8a-aee5-46d5-b87d-b19ae103b896",
   "metadata": {},
   "outputs": [
    {
     "data": {
      "text/plain": [
       "10"
      ]
     },
     "execution_count": 136,
     "metadata": {},
     "output_type": "execute_result"
    }
   ],
   "source": [
    "sampleFunc = lambda x, y, z : x ** 2 + 3 * y + z \n",
    "sampleFunc(1, 2, 3)"
   ]
  },
  {
   "cell_type": "markdown",
   "id": "92da078c-3fc9-45ab-9755-972b66c83453",
   "metadata": {},
   "source": [
    "# Context Manager, Decorator\n",
    "- 클로저 Closure\n",
    "  + 함수 안에 또 다른 함수 생성\n",
    "-"
   ]
  },
  {
   "cell_type": "code",
   "execution_count": 137,
   "id": "78bc8396-4268-4ed9-8b57-f881982d2fcc",
   "metadata": {},
   "outputs": [
    {
     "name": "stdout",
     "output_type": "stream",
     "text": [
      "Function 'slow_function' executed in 2.0006 seconds\n"
     ]
    },
    {
     "data": {
      "text/plain": [
       "'Finished'"
      ]
     },
     "execution_count": 137,
     "metadata": {},
     "output_type": "execute_result"
    }
   ],
   "source": [
    "import time\n",
    "\n",
    "#코드가 돌아가는 시간을 체크하는 함수\n",
    "def time_decorator(func):\n",
    "    def wrapper(*args, **kwargs):\n",
    "        start_time = time.time()\n",
    "        result = func(*args, **kwargs)\n",
    "        end_time = time.time()\n",
    "        print(f\"Function '{func.__name__}' executed in {end_time - start_time:.4f} seconds\")\n",
    "        return result\n",
    "    return wrapper\n",
    "\n",
    "@time_decorator\n",
    "def slow_function():\n",
    "    time.sleep(2)\n",
    "    return \"Finished\"\n",
    "\n",
    "# 사용 예시\n",
    "slow_function()"
   ]
  },
  {
   "cell_type": "markdown",
   "id": "bd8fb4ac-ec4a-4949-a09c-058d25fd654b",
   "metadata": {},
   "source": [
    "# 클래스 왕기초"
   ]
  },
  {
   "cell_type": "code",
   "execution_count": 149,
   "id": "e0adfdb2-ccd8-434f-83ac-962d0ac6163d",
   "metadata": {},
   "outputs": [],
   "source": [
    "class 책: # 지저분한 방식임\n",
    "    title = None         # 속성(상태)\n",
    "    author = None        # 속성\n",
    "    pages = 0            # 속성\n",
    "    price = 0            # 속성\n",
    "    discount = 0         # 속성\n",
    "\n",
    "    def 읽는시간(self, reading_speed = 30):   # 클래스 내부에서 self를 처음에 써줘야함 그래야 클래스에 입력된 값을 함수에 사용할 수 있음\n",
    "        return round(self.pages / reading_speed, 1)"
   ]
  },
  {
   "cell_type": "code",
   "execution_count": 150,
   "id": "93cd33d5-1acf-4aea-b374-e9bb36bc64f7",
   "metadata": {},
   "outputs": [
    {
     "name": "stdout",
     "output_type": "stream",
     "text": [
      "Streamlit\n",
      "18.7\n"
     ]
    }
   ],
   "source": [
    "# 인스턴스 생성\n",
    "책01호 = 책()\n",
    "책01호.title = \"Streamlit\"\n",
    "책01호.author = \"Evan\"\n",
    "책01호.pages = 560\n",
    "책01호.price = 40000\n",
    "책01호.discount = 10\n",
    "\n",
    "print(책01호.title)\n",
    "출력값 = 책01호.읽는시간() # 설정 값으로 계산 됨\n",
    "\n",
    "print(출력값)"
   ]
  },
  {
   "cell_type": "code",
   "execution_count": 151,
   "id": "39c425dc-8637-493a-aea9-a69f96930ccc",
   "metadata": {},
   "outputs": [
    {
     "name": "stdout",
     "output_type": "stream",
     "text": [
      "Streamlit\n",
      "112.0\n"
     ]
    }
   ],
   "source": [
    "# 인스턴스 생성\n",
    "책01호 = 책()\n",
    "책01호.title = \"Streamlit\"\n",
    "책01호.author = \"Evan\"\n",
    "책01호.pages = 560\n",
    "책01호.price = 40000\n",
    "책01호.discount = 10\n",
    "\n",
    "print(책01호.title)\n",
    "출력값 = 책01호.읽는시간(reading_speed = 5) # 지정 값으로 계산 됨\n",
    "\n",
    "print(출력값)"
   ]
  },
  {
   "cell_type": "code",
   "execution_count": 147,
   "id": "2c645b42-be1d-4baa-8ff5-bb04bb75c61a",
   "metadata": {},
   "outputs": [
    {
     "name": "stdout",
     "output_type": "stream",
     "text": [
      "Python\n"
     ]
    }
   ],
   "source": [
    "# 인스턴스 생성\n",
    "책02호 = 책()\n",
    "책02호.TITLE = \"Python\"\n",
    "책02호.author = \"Evan\"\n",
    "책02호.pages = 560\n",
    "책02호.price = 40000\n",
    "책02호.discount = 10\n",
    "\n",
    "print(책02호.TITLE)"
   ]
  },
  {
   "cell_type": "markdown",
   "id": "5d3458b5-3d5f-498e-9c41-6ecb440d89a4",
   "metadata": {},
   "source": [
    "## 코드 업데이트"
   ]
  },
  {
   "cell_type": "code",
   "execution_count": 153,
   "id": "288a5c07-6dcf-4bc8-aab3-2acc9f6c21a4",
   "metadata": {},
   "outputs": [],
   "source": [
    "class 책():\n",
    "    # initialize : 초기화\n",
    "    def __init__(self, title, author, pages, price, discount_rate=0):\n",
    "        self.title = title # 책의 제목, title이라는 값을 self.title이라는 변수에 저장하겠다는 뜻 \n",
    "        self.author = author \n",
    "        self.pages = pages \n",
    "        self.price = price \n",
    "        self.discount_rate = 0 "
   ]
  },
  {
   "cell_type": "code",
   "execution_count": 163,
   "id": "4957c206-8658-4889-91ba-3505bd17d5f6",
   "metadata": {},
   "outputs": [
    {
     "data": {
      "text/plain": [
       "('샘플',)"
      ]
     },
     "execution_count": 163,
     "metadata": {},
     "output_type": "execute_result"
    }
   ],
   "source": [
    "책01호 = 책(\"샘플\", \"Evan\", 300, 20000, 0.1)\n",
    "책02호 = 책(\"샘플2\", \"Evan\", 400, 20000, 0.1)\n",
    "책03호 = 책(\"샘플3\", \"Evan\", 500, 20000, 0.1)\n",
    "책04호 = 책(\"샘플4\", \"Evan\", 600, 20000, 0.1)\n",
    "\n",
    "책01호.title, "
   ]
  },
  {
   "cell_type": "code",
   "execution_count": 203,
   "id": "40cd642a-3a1d-4404-af1f-6e6f25fb44df",
   "metadata": {},
   "outputs": [],
   "source": [
    "class 책():\n",
    "    # initialize : 초기화\n",
    "    def __init__(self, title, author, pages, price, discount_rate=0): # 상수값은 여기에 지정하고 \n",
    "        self.title = title # 책의 제목, title이라는 값을 self.title이라는 변수에 저장하겠다는 뜻 \n",
    "        self.author = author \n",
    "        self.pages = pages \n",
    "        self.price = price \n",
    "        self.discount_rate = discount_rate # 변수는 여기에 지정해준다, 여기에 상수값 지정하면, 입력값 관계없이 상수값 나\n",
    "\n",
    "    def reading_time(self, reading_time = 30):\n",
    "        return round(self.pages / reading_time, 1)\n",
    "\n",
    "    def apply_discount(self):\n",
    "        return self.price * (1 - self.discount_rate)"
   ]
  },
  {
   "cell_type": "code",
   "execution_count": 201,
   "id": "33dde4d7-02c7-4571-9486-241ad479e9fe",
   "metadata": {},
   "outputs": [
    {
     "data": {
      "text/plain": [
       "('샘플', '샘플2')"
      ]
     },
     "execution_count": 201,
     "metadata": {},
     "output_type": "execute_result"
    }
   ],
   "source": [
    "책01호 = 책(\"샘플\", \"Evan\", 300, 20000, 0.5)\n",
    "책02호 = 책(\"샘플2\", \"Evan1\", 400, 20000, 0.1)\n",
    "책03호 = 책(\"샘플3\", \"Evan2\", 500, 20000, 0.1)\n",
    "책04호 = 책(\"샘플4\", \"Eva3\", 600, 20000, 0.1)\n",
    "책01호.title, 책02호.title"
   ]
  },
  {
   "cell_type": "code",
   "execution_count": 168,
   "id": "2e38fa72-612c-4f13-9f36-3e43fe6abe8e",
   "metadata": {},
   "outputs": [
    {
     "data": {
      "text/plain": [
       "60.0"
      ]
     },
     "execution_count": 168,
     "metadata": {},
     "output_type": "execute_result"
    }
   ],
   "source": [
    "책01호 = 책(\"샘플\", \"Evan\", 300, 20000, 0.1)\n",
    "책01호.reading_time()"
   ]
  },
  {
   "cell_type": "code",
   "execution_count": 202,
   "id": "52811abe-024b-4a7b-b879-2f5619b21eb9",
   "metadata": {},
   "outputs": [
    {
     "data": {
      "text/plain": [
       "20000"
      ]
     },
     "execution_count": 202,
     "metadata": {},
     "output_type": "execute_result"
    }
   ],
   "source": [
    "책01호.apply_discount()"
   ]
  }
 ],
 "metadata": {
  "kernelspec": {
   "display_name": "Python 3 (ipykernel)",
   "language": "python",
   "name": "python3"
  },
  "language_info": {
   "codemirror_mode": {
    "name": "ipython",
    "version": 3
   },
   "file_extension": ".py",
   "mimetype": "text/x-python",
   "name": "python",
   "nbconvert_exporter": "python",
   "pygments_lexer": "ipython3",
   "version": "3.12.6"
  }
 },
 "nbformat": 4,
 "nbformat_minor": 5
}
